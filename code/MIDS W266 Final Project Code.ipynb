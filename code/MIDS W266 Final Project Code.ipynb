{
  "nbformat": 4,
  "nbformat_minor": 0,
  "metadata": {
    "colab": {
      "provenance": [],
      "gpuType": "T4",
      "toc_visible": true
    },
    "kernelspec": {
      "name": "python3",
      "display_name": "Python 3"
    },
    "language_info": {
      "name": "python"
    },
    "accelerator": "GPU",
    "widgets": {
      "application/vnd.jupyter.widget-state+json": {
        "4176e53ab743478480908b30d6135e40": {
          "model_module": "@jupyter-widgets/controls",
          "model_name": "HBoxModel",
          "model_module_version": "1.5.0",
          "state": {
            "_dom_classes": [],
            "_model_module": "@jupyter-widgets/controls",
            "_model_module_version": "1.5.0",
            "_model_name": "HBoxModel",
            "_view_count": null,
            "_view_module": "@jupyter-widgets/controls",
            "_view_module_version": "1.5.0",
            "_view_name": "HBoxView",
            "box_style": "",
            "children": [
              "IPY_MODEL_f67ab2c81c424cad913d55e58278e6f5",
              "IPY_MODEL_cbab60b68c1145908b61692f10becfce",
              "IPY_MODEL_ca805348e28349eaabb22d66c5c19004"
            ],
            "layout": "IPY_MODEL_56c1b47c0afc4a83a16387a36211f31a"
          }
        },
        "f67ab2c81c424cad913d55e58278e6f5": {
          "model_module": "@jupyter-widgets/controls",
          "model_name": "HTMLModel",
          "model_module_version": "1.5.0",
          "state": {
            "_dom_classes": [],
            "_model_module": "@jupyter-widgets/controls",
            "_model_module_version": "1.5.0",
            "_model_name": "HTMLModel",
            "_view_count": null,
            "_view_module": "@jupyter-widgets/controls",
            "_view_module_version": "1.5.0",
            "_view_name": "HTMLView",
            "description": "",
            "description_tooltip": null,
            "layout": "IPY_MODEL_7bc3ecb63a2e4ab889214840a29ddce5",
            "placeholder": "​",
            "style": "IPY_MODEL_800b3fbb8a8d49bab7906e830184b6c4",
            "value": "Downloading: 100%"
          }
        },
        "cbab60b68c1145908b61692f10becfce": {
          "model_module": "@jupyter-widgets/controls",
          "model_name": "FloatProgressModel",
          "model_module_version": "1.5.0",
          "state": {
            "_dom_classes": [],
            "_model_module": "@jupyter-widgets/controls",
            "_model_module_version": "1.5.0",
            "_model_name": "FloatProgressModel",
            "_view_count": null,
            "_view_module": "@jupyter-widgets/controls",
            "_view_module_version": "1.5.0",
            "_view_name": "ProgressView",
            "bar_style": "success",
            "description": "",
            "description_tooltip": null,
            "layout": "IPY_MODEL_79fa7ac3dc1243abb3a9c1e2a396a6f8",
            "max": 213450,
            "min": 0,
            "orientation": "horizontal",
            "style": "IPY_MODEL_4cd7f419aadb4e5b818ffed538257f90",
            "value": 213450
          }
        },
        "ca805348e28349eaabb22d66c5c19004": {
          "model_module": "@jupyter-widgets/controls",
          "model_name": "HTMLModel",
          "model_module_version": "1.5.0",
          "state": {
            "_dom_classes": [],
            "_model_module": "@jupyter-widgets/controls",
            "_model_module_version": "1.5.0",
            "_model_name": "HTMLModel",
            "_view_count": null,
            "_view_module": "@jupyter-widgets/controls",
            "_view_module_version": "1.5.0",
            "_view_name": "HTMLView",
            "description": "",
            "description_tooltip": null,
            "layout": "IPY_MODEL_dc53f4bc5bf24722bff05f7271aaeda9",
            "placeholder": "​",
            "style": "IPY_MODEL_cfbbeae059684cf3b593c295d26039cf",
            "value": " 208k/208k [00:00&lt;00:00, 246kB/s]"
          }
        },
        "56c1b47c0afc4a83a16387a36211f31a": {
          "model_module": "@jupyter-widgets/base",
          "model_name": "LayoutModel",
          "model_module_version": "1.2.0",
          "state": {
            "_model_module": "@jupyter-widgets/base",
            "_model_module_version": "1.2.0",
            "_model_name": "LayoutModel",
            "_view_count": null,
            "_view_module": "@jupyter-widgets/base",
            "_view_module_version": "1.2.0",
            "_view_name": "LayoutView",
            "align_content": null,
            "align_items": null,
            "align_self": null,
            "border": null,
            "bottom": null,
            "display": null,
            "flex": null,
            "flex_flow": null,
            "grid_area": null,
            "grid_auto_columns": null,
            "grid_auto_flow": null,
            "grid_auto_rows": null,
            "grid_column": null,
            "grid_gap": null,
            "grid_row": null,
            "grid_template_areas": null,
            "grid_template_columns": null,
            "grid_template_rows": null,
            "height": null,
            "justify_content": null,
            "justify_items": null,
            "left": null,
            "margin": null,
            "max_height": null,
            "max_width": null,
            "min_height": null,
            "min_width": null,
            "object_fit": null,
            "object_position": null,
            "order": null,
            "overflow": null,
            "overflow_x": null,
            "overflow_y": null,
            "padding": null,
            "right": null,
            "top": null,
            "visibility": null,
            "width": null
          }
        },
        "7bc3ecb63a2e4ab889214840a29ddce5": {
          "model_module": "@jupyter-widgets/base",
          "model_name": "LayoutModel",
          "model_module_version": "1.2.0",
          "state": {
            "_model_module": "@jupyter-widgets/base",
            "_model_module_version": "1.2.0",
            "_model_name": "LayoutModel",
            "_view_count": null,
            "_view_module": "@jupyter-widgets/base",
            "_view_module_version": "1.2.0",
            "_view_name": "LayoutView",
            "align_content": null,
            "align_items": null,
            "align_self": null,
            "border": null,
            "bottom": null,
            "display": null,
            "flex": null,
            "flex_flow": null,
            "grid_area": null,
            "grid_auto_columns": null,
            "grid_auto_flow": null,
            "grid_auto_rows": null,
            "grid_column": null,
            "grid_gap": null,
            "grid_row": null,
            "grid_template_areas": null,
            "grid_template_columns": null,
            "grid_template_rows": null,
            "height": null,
            "justify_content": null,
            "justify_items": null,
            "left": null,
            "margin": null,
            "max_height": null,
            "max_width": null,
            "min_height": null,
            "min_width": null,
            "object_fit": null,
            "object_position": null,
            "order": null,
            "overflow": null,
            "overflow_x": null,
            "overflow_y": null,
            "padding": null,
            "right": null,
            "top": null,
            "visibility": null,
            "width": null
          }
        },
        "800b3fbb8a8d49bab7906e830184b6c4": {
          "model_module": "@jupyter-widgets/controls",
          "model_name": "DescriptionStyleModel",
          "model_module_version": "1.5.0",
          "state": {
            "_model_module": "@jupyter-widgets/controls",
            "_model_module_version": "1.5.0",
            "_model_name": "DescriptionStyleModel",
            "_view_count": null,
            "_view_module": "@jupyter-widgets/base",
            "_view_module_version": "1.2.0",
            "_view_name": "StyleView",
            "description_width": ""
          }
        },
        "79fa7ac3dc1243abb3a9c1e2a396a6f8": {
          "model_module": "@jupyter-widgets/base",
          "model_name": "LayoutModel",
          "model_module_version": "1.2.0",
          "state": {
            "_model_module": "@jupyter-widgets/base",
            "_model_module_version": "1.2.0",
            "_model_name": "LayoutModel",
            "_view_count": null,
            "_view_module": "@jupyter-widgets/base",
            "_view_module_version": "1.2.0",
            "_view_name": "LayoutView",
            "align_content": null,
            "align_items": null,
            "align_self": null,
            "border": null,
            "bottom": null,
            "display": null,
            "flex": null,
            "flex_flow": null,
            "grid_area": null,
            "grid_auto_columns": null,
            "grid_auto_flow": null,
            "grid_auto_rows": null,
            "grid_column": null,
            "grid_gap": null,
            "grid_row": null,
            "grid_template_areas": null,
            "grid_template_columns": null,
            "grid_template_rows": null,
            "height": null,
            "justify_content": null,
            "justify_items": null,
            "left": null,
            "margin": null,
            "max_height": null,
            "max_width": null,
            "min_height": null,
            "min_width": null,
            "object_fit": null,
            "object_position": null,
            "order": null,
            "overflow": null,
            "overflow_x": null,
            "overflow_y": null,
            "padding": null,
            "right": null,
            "top": null,
            "visibility": null,
            "width": null
          }
        },
        "4cd7f419aadb4e5b818ffed538257f90": {
          "model_module": "@jupyter-widgets/controls",
          "model_name": "ProgressStyleModel",
          "model_module_version": "1.5.0",
          "state": {
            "_model_module": "@jupyter-widgets/controls",
            "_model_module_version": "1.5.0",
            "_model_name": "ProgressStyleModel",
            "_view_count": null,
            "_view_module": "@jupyter-widgets/base",
            "_view_module_version": "1.2.0",
            "_view_name": "StyleView",
            "bar_color": null,
            "description_width": ""
          }
        },
        "dc53f4bc5bf24722bff05f7271aaeda9": {
          "model_module": "@jupyter-widgets/base",
          "model_name": "LayoutModel",
          "model_module_version": "1.2.0",
          "state": {
            "_model_module": "@jupyter-widgets/base",
            "_model_module_version": "1.2.0",
            "_model_name": "LayoutModel",
            "_view_count": null,
            "_view_module": "@jupyter-widgets/base",
            "_view_module_version": "1.2.0",
            "_view_name": "LayoutView",
            "align_content": null,
            "align_items": null,
            "align_self": null,
            "border": null,
            "bottom": null,
            "display": null,
            "flex": null,
            "flex_flow": null,
            "grid_area": null,
            "grid_auto_columns": null,
            "grid_auto_flow": null,
            "grid_auto_rows": null,
            "grid_column": null,
            "grid_gap": null,
            "grid_row": null,
            "grid_template_areas": null,
            "grid_template_columns": null,
            "grid_template_rows": null,
            "height": null,
            "justify_content": null,
            "justify_items": null,
            "left": null,
            "margin": null,
            "max_height": null,
            "max_width": null,
            "min_height": null,
            "min_width": null,
            "object_fit": null,
            "object_position": null,
            "order": null,
            "overflow": null,
            "overflow_x": null,
            "overflow_y": null,
            "padding": null,
            "right": null,
            "top": null,
            "visibility": null,
            "width": null
          }
        },
        "cfbbeae059684cf3b593c295d26039cf": {
          "model_module": "@jupyter-widgets/controls",
          "model_name": "DescriptionStyleModel",
          "model_module_version": "1.5.0",
          "state": {
            "_model_module": "@jupyter-widgets/controls",
            "_model_module_version": "1.5.0",
            "_model_name": "DescriptionStyleModel",
            "_view_count": null,
            "_view_module": "@jupyter-widgets/base",
            "_view_module_version": "1.2.0",
            "_view_name": "StyleView",
            "description_width": ""
          }
        },
        "79eed7d587c94522b0808c0716787120": {
          "model_module": "@jupyter-widgets/controls",
          "model_name": "HBoxModel",
          "model_module_version": "1.5.0",
          "state": {
            "_dom_classes": [],
            "_model_module": "@jupyter-widgets/controls",
            "_model_module_version": "1.5.0",
            "_model_name": "HBoxModel",
            "_view_count": null,
            "_view_module": "@jupyter-widgets/controls",
            "_view_module_version": "1.5.0",
            "_view_name": "HBoxView",
            "box_style": "",
            "children": [
              "IPY_MODEL_5d7b79b3c2594d19b7761f5092419886",
              "IPY_MODEL_0361ed62aa984a228dce6edec32beeed",
              "IPY_MODEL_0eab07e3b90a48cdabe63847b9083fba"
            ],
            "layout": "IPY_MODEL_e8c996b6b1a44ebc94ca97362789ad69"
          }
        },
        "5d7b79b3c2594d19b7761f5092419886": {
          "model_module": "@jupyter-widgets/controls",
          "model_name": "HTMLModel",
          "model_module_version": "1.5.0",
          "state": {
            "_dom_classes": [],
            "_model_module": "@jupyter-widgets/controls",
            "_model_module_version": "1.5.0",
            "_model_name": "HTMLModel",
            "_view_count": null,
            "_view_module": "@jupyter-widgets/controls",
            "_view_module_version": "1.5.0",
            "_view_name": "HTMLView",
            "description": "",
            "description_tooltip": null,
            "layout": "IPY_MODEL_2c710536021d47a5bc25d8fe9749fc52",
            "placeholder": "​",
            "style": "IPY_MODEL_013c5a3de63b463f8b9bcf47608b8694",
            "value": "Downloading: 100%"
          }
        },
        "0361ed62aa984a228dce6edec32beeed": {
          "model_module": "@jupyter-widgets/controls",
          "model_name": "FloatProgressModel",
          "model_module_version": "1.5.0",
          "state": {
            "_dom_classes": [],
            "_model_module": "@jupyter-widgets/controls",
            "_model_module_version": "1.5.0",
            "_model_name": "FloatProgressModel",
            "_view_count": null,
            "_view_module": "@jupyter-widgets/controls",
            "_view_module_version": "1.5.0",
            "_view_name": "ProgressView",
            "bar_style": "success",
            "description": "",
            "description_tooltip": null,
            "layout": "IPY_MODEL_cec475f81e444e65b3bf8bcd80cb7988",
            "max": 49,
            "min": 0,
            "orientation": "horizontal",
            "style": "IPY_MODEL_4f21a22875aa4134b5a0428acd203d10",
            "value": 49
          }
        },
        "0eab07e3b90a48cdabe63847b9083fba": {
          "model_module": "@jupyter-widgets/controls",
          "model_name": "HTMLModel",
          "model_module_version": "1.5.0",
          "state": {
            "_dom_classes": [],
            "_model_module": "@jupyter-widgets/controls",
            "_model_module_version": "1.5.0",
            "_model_name": "HTMLModel",
            "_view_count": null,
            "_view_module": "@jupyter-widgets/controls",
            "_view_module_version": "1.5.0",
            "_view_name": "HTMLView",
            "description": "",
            "description_tooltip": null,
            "layout": "IPY_MODEL_1afe78378c4145ec80c304e42a7eb5c0",
            "placeholder": "​",
            "style": "IPY_MODEL_80d3728f8c8a410b8be812724b389149",
            "value": " 49.0/49.0 [00:00&lt;00:00, 2.87kB/s]"
          }
        },
        "e8c996b6b1a44ebc94ca97362789ad69": {
          "model_module": "@jupyter-widgets/base",
          "model_name": "LayoutModel",
          "model_module_version": "1.2.0",
          "state": {
            "_model_module": "@jupyter-widgets/base",
            "_model_module_version": "1.2.0",
            "_model_name": "LayoutModel",
            "_view_count": null,
            "_view_module": "@jupyter-widgets/base",
            "_view_module_version": "1.2.0",
            "_view_name": "LayoutView",
            "align_content": null,
            "align_items": null,
            "align_self": null,
            "border": null,
            "bottom": null,
            "display": null,
            "flex": null,
            "flex_flow": null,
            "grid_area": null,
            "grid_auto_columns": null,
            "grid_auto_flow": null,
            "grid_auto_rows": null,
            "grid_column": null,
            "grid_gap": null,
            "grid_row": null,
            "grid_template_areas": null,
            "grid_template_columns": null,
            "grid_template_rows": null,
            "height": null,
            "justify_content": null,
            "justify_items": null,
            "left": null,
            "margin": null,
            "max_height": null,
            "max_width": null,
            "min_height": null,
            "min_width": null,
            "object_fit": null,
            "object_position": null,
            "order": null,
            "overflow": null,
            "overflow_x": null,
            "overflow_y": null,
            "padding": null,
            "right": null,
            "top": null,
            "visibility": null,
            "width": null
          }
        },
        "2c710536021d47a5bc25d8fe9749fc52": {
          "model_module": "@jupyter-widgets/base",
          "model_name": "LayoutModel",
          "model_module_version": "1.2.0",
          "state": {
            "_model_module": "@jupyter-widgets/base",
            "_model_module_version": "1.2.0",
            "_model_name": "LayoutModel",
            "_view_count": null,
            "_view_module": "@jupyter-widgets/base",
            "_view_module_version": "1.2.0",
            "_view_name": "LayoutView",
            "align_content": null,
            "align_items": null,
            "align_self": null,
            "border": null,
            "bottom": null,
            "display": null,
            "flex": null,
            "flex_flow": null,
            "grid_area": null,
            "grid_auto_columns": null,
            "grid_auto_flow": null,
            "grid_auto_rows": null,
            "grid_column": null,
            "grid_gap": null,
            "grid_row": null,
            "grid_template_areas": null,
            "grid_template_columns": null,
            "grid_template_rows": null,
            "height": null,
            "justify_content": null,
            "justify_items": null,
            "left": null,
            "margin": null,
            "max_height": null,
            "max_width": null,
            "min_height": null,
            "min_width": null,
            "object_fit": null,
            "object_position": null,
            "order": null,
            "overflow": null,
            "overflow_x": null,
            "overflow_y": null,
            "padding": null,
            "right": null,
            "top": null,
            "visibility": null,
            "width": null
          }
        },
        "013c5a3de63b463f8b9bcf47608b8694": {
          "model_module": "@jupyter-widgets/controls",
          "model_name": "DescriptionStyleModel",
          "model_module_version": "1.5.0",
          "state": {
            "_model_module": "@jupyter-widgets/controls",
            "_model_module_version": "1.5.0",
            "_model_name": "DescriptionStyleModel",
            "_view_count": null,
            "_view_module": "@jupyter-widgets/base",
            "_view_module_version": "1.2.0",
            "_view_name": "StyleView",
            "description_width": ""
          }
        },
        "cec475f81e444e65b3bf8bcd80cb7988": {
          "model_module": "@jupyter-widgets/base",
          "model_name": "LayoutModel",
          "model_module_version": "1.2.0",
          "state": {
            "_model_module": "@jupyter-widgets/base",
            "_model_module_version": "1.2.0",
            "_model_name": "LayoutModel",
            "_view_count": null,
            "_view_module": "@jupyter-widgets/base",
            "_view_module_version": "1.2.0",
            "_view_name": "LayoutView",
            "align_content": null,
            "align_items": null,
            "align_self": null,
            "border": null,
            "bottom": null,
            "display": null,
            "flex": null,
            "flex_flow": null,
            "grid_area": null,
            "grid_auto_columns": null,
            "grid_auto_flow": null,
            "grid_auto_rows": null,
            "grid_column": null,
            "grid_gap": null,
            "grid_row": null,
            "grid_template_areas": null,
            "grid_template_columns": null,
            "grid_template_rows": null,
            "height": null,
            "justify_content": null,
            "justify_items": null,
            "left": null,
            "margin": null,
            "max_height": null,
            "max_width": null,
            "min_height": null,
            "min_width": null,
            "object_fit": null,
            "object_position": null,
            "order": null,
            "overflow": null,
            "overflow_x": null,
            "overflow_y": null,
            "padding": null,
            "right": null,
            "top": null,
            "visibility": null,
            "width": null
          }
        },
        "4f21a22875aa4134b5a0428acd203d10": {
          "model_module": "@jupyter-widgets/controls",
          "model_name": "ProgressStyleModel",
          "model_module_version": "1.5.0",
          "state": {
            "_model_module": "@jupyter-widgets/controls",
            "_model_module_version": "1.5.0",
            "_model_name": "ProgressStyleModel",
            "_view_count": null,
            "_view_module": "@jupyter-widgets/base",
            "_view_module_version": "1.2.0",
            "_view_name": "StyleView",
            "bar_color": null,
            "description_width": ""
          }
        },
        "1afe78378c4145ec80c304e42a7eb5c0": {
          "model_module": "@jupyter-widgets/base",
          "model_name": "LayoutModel",
          "model_module_version": "1.2.0",
          "state": {
            "_model_module": "@jupyter-widgets/base",
            "_model_module_version": "1.2.0",
            "_model_name": "LayoutModel",
            "_view_count": null,
            "_view_module": "@jupyter-widgets/base",
            "_view_module_version": "1.2.0",
            "_view_name": "LayoutView",
            "align_content": null,
            "align_items": null,
            "align_self": null,
            "border": null,
            "bottom": null,
            "display": null,
            "flex": null,
            "flex_flow": null,
            "grid_area": null,
            "grid_auto_columns": null,
            "grid_auto_flow": null,
            "grid_auto_rows": null,
            "grid_column": null,
            "grid_gap": null,
            "grid_row": null,
            "grid_template_areas": null,
            "grid_template_columns": null,
            "grid_template_rows": null,
            "height": null,
            "justify_content": null,
            "justify_items": null,
            "left": null,
            "margin": null,
            "max_height": null,
            "max_width": null,
            "min_height": null,
            "min_width": null,
            "object_fit": null,
            "object_position": null,
            "order": null,
            "overflow": null,
            "overflow_x": null,
            "overflow_y": null,
            "padding": null,
            "right": null,
            "top": null,
            "visibility": null,
            "width": null
          }
        },
        "80d3728f8c8a410b8be812724b389149": {
          "model_module": "@jupyter-widgets/controls",
          "model_name": "DescriptionStyleModel",
          "model_module_version": "1.5.0",
          "state": {
            "_model_module": "@jupyter-widgets/controls",
            "_model_module_version": "1.5.0",
            "_model_name": "DescriptionStyleModel",
            "_view_count": null,
            "_view_module": "@jupyter-widgets/base",
            "_view_module_version": "1.2.0",
            "_view_name": "StyleView",
            "description_width": ""
          }
        },
        "f1ac4c5a06d74f0f9a0466a84e0afa27": {
          "model_module": "@jupyter-widgets/controls",
          "model_name": "HBoxModel",
          "model_module_version": "1.5.0",
          "state": {
            "_dom_classes": [],
            "_model_module": "@jupyter-widgets/controls",
            "_model_module_version": "1.5.0",
            "_model_name": "HBoxModel",
            "_view_count": null,
            "_view_module": "@jupyter-widgets/controls",
            "_view_module_version": "1.5.0",
            "_view_name": "HBoxView",
            "box_style": "",
            "children": [
              "IPY_MODEL_e1f5c1e35e484bd689f425d3dd6ad5ce",
              "IPY_MODEL_821bc032f80f49708b720f8e5dacafeb",
              "IPY_MODEL_11128c3790044fe0bc72144638cde00b"
            ],
            "layout": "IPY_MODEL_74733c55cd854ee28af417181e01b11b"
          }
        },
        "e1f5c1e35e484bd689f425d3dd6ad5ce": {
          "model_module": "@jupyter-widgets/controls",
          "model_name": "HTMLModel",
          "model_module_version": "1.5.0",
          "state": {
            "_dom_classes": [],
            "_model_module": "@jupyter-widgets/controls",
            "_model_module_version": "1.5.0",
            "_model_name": "HTMLModel",
            "_view_count": null,
            "_view_module": "@jupyter-widgets/controls",
            "_view_module_version": "1.5.0",
            "_view_name": "HTMLView",
            "description": "",
            "description_tooltip": null,
            "layout": "IPY_MODEL_cffc1e7e45514420b5d476d285797aaf",
            "placeholder": "​",
            "style": "IPY_MODEL_0e922a78535f48a7861501a4c011531c",
            "value": "Downloading: 100%"
          }
        },
        "821bc032f80f49708b720f8e5dacafeb": {
          "model_module": "@jupyter-widgets/controls",
          "model_name": "FloatProgressModel",
          "model_module_version": "1.5.0",
          "state": {
            "_dom_classes": [],
            "_model_module": "@jupyter-widgets/controls",
            "_model_module_version": "1.5.0",
            "_model_name": "FloatProgressModel",
            "_view_count": null,
            "_view_module": "@jupyter-widgets/controls",
            "_view_module_version": "1.5.0",
            "_view_name": "ProgressView",
            "bar_style": "success",
            "description": "",
            "description_tooltip": null,
            "layout": "IPY_MODEL_e9ef01c126854938a32e2345c85bb012",
            "max": 570,
            "min": 0,
            "orientation": "horizontal",
            "style": "IPY_MODEL_3a5cbcb8b45c43fbb594fc0f75bb1c47",
            "value": 570
          }
        },
        "11128c3790044fe0bc72144638cde00b": {
          "model_module": "@jupyter-widgets/controls",
          "model_name": "HTMLModel",
          "model_module_version": "1.5.0",
          "state": {
            "_dom_classes": [],
            "_model_module": "@jupyter-widgets/controls",
            "_model_module_version": "1.5.0",
            "_model_name": "HTMLModel",
            "_view_count": null,
            "_view_module": "@jupyter-widgets/controls",
            "_view_module_version": "1.5.0",
            "_view_name": "HTMLView",
            "description": "",
            "description_tooltip": null,
            "layout": "IPY_MODEL_6a163257e7364182923f2566f30c55bd",
            "placeholder": "​",
            "style": "IPY_MODEL_53188c80d1934c5fadef2a2d9fab5dd6",
            "value": " 570/570 [00:00&lt;00:00, 40.1kB/s]"
          }
        },
        "74733c55cd854ee28af417181e01b11b": {
          "model_module": "@jupyter-widgets/base",
          "model_name": "LayoutModel",
          "model_module_version": "1.2.0",
          "state": {
            "_model_module": "@jupyter-widgets/base",
            "_model_module_version": "1.2.0",
            "_model_name": "LayoutModel",
            "_view_count": null,
            "_view_module": "@jupyter-widgets/base",
            "_view_module_version": "1.2.0",
            "_view_name": "LayoutView",
            "align_content": null,
            "align_items": null,
            "align_self": null,
            "border": null,
            "bottom": null,
            "display": null,
            "flex": null,
            "flex_flow": null,
            "grid_area": null,
            "grid_auto_columns": null,
            "grid_auto_flow": null,
            "grid_auto_rows": null,
            "grid_column": null,
            "grid_gap": null,
            "grid_row": null,
            "grid_template_areas": null,
            "grid_template_columns": null,
            "grid_template_rows": null,
            "height": null,
            "justify_content": null,
            "justify_items": null,
            "left": null,
            "margin": null,
            "max_height": null,
            "max_width": null,
            "min_height": null,
            "min_width": null,
            "object_fit": null,
            "object_position": null,
            "order": null,
            "overflow": null,
            "overflow_x": null,
            "overflow_y": null,
            "padding": null,
            "right": null,
            "top": null,
            "visibility": null,
            "width": null
          }
        },
        "cffc1e7e45514420b5d476d285797aaf": {
          "model_module": "@jupyter-widgets/base",
          "model_name": "LayoutModel",
          "model_module_version": "1.2.0",
          "state": {
            "_model_module": "@jupyter-widgets/base",
            "_model_module_version": "1.2.0",
            "_model_name": "LayoutModel",
            "_view_count": null,
            "_view_module": "@jupyter-widgets/base",
            "_view_module_version": "1.2.0",
            "_view_name": "LayoutView",
            "align_content": null,
            "align_items": null,
            "align_self": null,
            "border": null,
            "bottom": null,
            "display": null,
            "flex": null,
            "flex_flow": null,
            "grid_area": null,
            "grid_auto_columns": null,
            "grid_auto_flow": null,
            "grid_auto_rows": null,
            "grid_column": null,
            "grid_gap": null,
            "grid_row": null,
            "grid_template_areas": null,
            "grid_template_columns": null,
            "grid_template_rows": null,
            "height": null,
            "justify_content": null,
            "justify_items": null,
            "left": null,
            "margin": null,
            "max_height": null,
            "max_width": null,
            "min_height": null,
            "min_width": null,
            "object_fit": null,
            "object_position": null,
            "order": null,
            "overflow": null,
            "overflow_x": null,
            "overflow_y": null,
            "padding": null,
            "right": null,
            "top": null,
            "visibility": null,
            "width": null
          }
        },
        "0e922a78535f48a7861501a4c011531c": {
          "model_module": "@jupyter-widgets/controls",
          "model_name": "DescriptionStyleModel",
          "model_module_version": "1.5.0",
          "state": {
            "_model_module": "@jupyter-widgets/controls",
            "_model_module_version": "1.5.0",
            "_model_name": "DescriptionStyleModel",
            "_view_count": null,
            "_view_module": "@jupyter-widgets/base",
            "_view_module_version": "1.2.0",
            "_view_name": "StyleView",
            "description_width": ""
          }
        },
        "e9ef01c126854938a32e2345c85bb012": {
          "model_module": "@jupyter-widgets/base",
          "model_name": "LayoutModel",
          "model_module_version": "1.2.0",
          "state": {
            "_model_module": "@jupyter-widgets/base",
            "_model_module_version": "1.2.0",
            "_model_name": "LayoutModel",
            "_view_count": null,
            "_view_module": "@jupyter-widgets/base",
            "_view_module_version": "1.2.0",
            "_view_name": "LayoutView",
            "align_content": null,
            "align_items": null,
            "align_self": null,
            "border": null,
            "bottom": null,
            "display": null,
            "flex": null,
            "flex_flow": null,
            "grid_area": null,
            "grid_auto_columns": null,
            "grid_auto_flow": null,
            "grid_auto_rows": null,
            "grid_column": null,
            "grid_gap": null,
            "grid_row": null,
            "grid_template_areas": null,
            "grid_template_columns": null,
            "grid_template_rows": null,
            "height": null,
            "justify_content": null,
            "justify_items": null,
            "left": null,
            "margin": null,
            "max_height": null,
            "max_width": null,
            "min_height": null,
            "min_width": null,
            "object_fit": null,
            "object_position": null,
            "order": null,
            "overflow": null,
            "overflow_x": null,
            "overflow_y": null,
            "padding": null,
            "right": null,
            "top": null,
            "visibility": null,
            "width": null
          }
        },
        "3a5cbcb8b45c43fbb594fc0f75bb1c47": {
          "model_module": "@jupyter-widgets/controls",
          "model_name": "ProgressStyleModel",
          "model_module_version": "1.5.0",
          "state": {
            "_model_module": "@jupyter-widgets/controls",
            "_model_module_version": "1.5.0",
            "_model_name": "ProgressStyleModel",
            "_view_count": null,
            "_view_module": "@jupyter-widgets/base",
            "_view_module_version": "1.2.0",
            "_view_name": "StyleView",
            "bar_color": null,
            "description_width": ""
          }
        },
        "6a163257e7364182923f2566f30c55bd": {
          "model_module": "@jupyter-widgets/base",
          "model_name": "LayoutModel",
          "model_module_version": "1.2.0",
          "state": {
            "_model_module": "@jupyter-widgets/base",
            "_model_module_version": "1.2.0",
            "_model_name": "LayoutModel",
            "_view_count": null,
            "_view_module": "@jupyter-widgets/base",
            "_view_module_version": "1.2.0",
            "_view_name": "LayoutView",
            "align_content": null,
            "align_items": null,
            "align_self": null,
            "border": null,
            "bottom": null,
            "display": null,
            "flex": null,
            "flex_flow": null,
            "grid_area": null,
            "grid_auto_columns": null,
            "grid_auto_flow": null,
            "grid_auto_rows": null,
            "grid_column": null,
            "grid_gap": null,
            "grid_row": null,
            "grid_template_areas": null,
            "grid_template_columns": null,
            "grid_template_rows": null,
            "height": null,
            "justify_content": null,
            "justify_items": null,
            "left": null,
            "margin": null,
            "max_height": null,
            "max_width": null,
            "min_height": null,
            "min_width": null,
            "object_fit": null,
            "object_position": null,
            "order": null,
            "overflow": null,
            "overflow_x": null,
            "overflow_y": null,
            "padding": null,
            "right": null,
            "top": null,
            "visibility": null,
            "width": null
          }
        },
        "53188c80d1934c5fadef2a2d9fab5dd6": {
          "model_module": "@jupyter-widgets/controls",
          "model_name": "DescriptionStyleModel",
          "model_module_version": "1.5.0",
          "state": {
            "_model_module": "@jupyter-widgets/controls",
            "_model_module_version": "1.5.0",
            "_model_name": "DescriptionStyleModel",
            "_view_count": null,
            "_view_module": "@jupyter-widgets/base",
            "_view_module_version": "1.2.0",
            "_view_name": "StyleView",
            "description_width": ""
          }
        },
        "49628bc93b264373a4e4b19527e9ea34": {
          "model_module": "@jupyter-widgets/controls",
          "model_name": "HBoxModel",
          "model_module_version": "1.5.0",
          "state": {
            "_dom_classes": [],
            "_model_module": "@jupyter-widgets/controls",
            "_model_module_version": "1.5.0",
            "_model_name": "HBoxModel",
            "_view_count": null,
            "_view_module": "@jupyter-widgets/controls",
            "_view_module_version": "1.5.0",
            "_view_name": "HBoxView",
            "box_style": "",
            "children": [
              "IPY_MODEL_3850138efa98455face020dd698ecb5d",
              "IPY_MODEL_35cce4fe05e347ca9476ad2999548fa4",
              "IPY_MODEL_f2449a93894741c79314eddd18a9cc0e"
            ],
            "layout": "IPY_MODEL_eda704165b684312ac502193d3994257"
          }
        },
        "3850138efa98455face020dd698ecb5d": {
          "model_module": "@jupyter-widgets/controls",
          "model_name": "HTMLModel",
          "model_module_version": "1.5.0",
          "state": {
            "_dom_classes": [],
            "_model_module": "@jupyter-widgets/controls",
            "_model_module_version": "1.5.0",
            "_model_name": "HTMLModel",
            "_view_count": null,
            "_view_module": "@jupyter-widgets/controls",
            "_view_module_version": "1.5.0",
            "_view_name": "HTMLView",
            "description": "",
            "description_tooltip": null,
            "layout": "IPY_MODEL_7683eae2c6394bc98a2b086e991dd38a",
            "placeholder": "​",
            "style": "IPY_MODEL_23da37552f084d1fa18c613d32f2471f",
            "value": "Downloading: 100%"
          }
        },
        "35cce4fe05e347ca9476ad2999548fa4": {
          "model_module": "@jupyter-widgets/controls",
          "model_name": "FloatProgressModel",
          "model_module_version": "1.5.0",
          "state": {
            "_dom_classes": [],
            "_model_module": "@jupyter-widgets/controls",
            "_model_module_version": "1.5.0",
            "_model_name": "FloatProgressModel",
            "_view_count": null,
            "_view_module": "@jupyter-widgets/controls",
            "_view_module_version": "1.5.0",
            "_view_name": "ProgressView",
            "bar_style": "success",
            "description": "",
            "description_tooltip": null,
            "layout": "IPY_MODEL_b36f0bc9673640f780e9acd0240669f5",
            "max": 526681800,
            "min": 0,
            "orientation": "horizontal",
            "style": "IPY_MODEL_9a2c28d808984d91a68641122e437c96",
            "value": 526681800
          }
        },
        "f2449a93894741c79314eddd18a9cc0e": {
          "model_module": "@jupyter-widgets/controls",
          "model_name": "HTMLModel",
          "model_module_version": "1.5.0",
          "state": {
            "_dom_classes": [],
            "_model_module": "@jupyter-widgets/controls",
            "_model_module_version": "1.5.0",
            "_model_name": "HTMLModel",
            "_view_count": null,
            "_view_module": "@jupyter-widgets/controls",
            "_view_module_version": "1.5.0",
            "_view_name": "HTMLView",
            "description": "",
            "description_tooltip": null,
            "layout": "IPY_MODEL_e8712d7d04e0406f9f70ab21cbdf07c0",
            "placeholder": "​",
            "style": "IPY_MODEL_54ad38ffb9ea410e9e7e20549172e90c",
            "value": " 502M/502M [00:08&lt;00:00, 43.4MB/s]"
          }
        },
        "eda704165b684312ac502193d3994257": {
          "model_module": "@jupyter-widgets/base",
          "model_name": "LayoutModel",
          "model_module_version": "1.2.0",
          "state": {
            "_model_module": "@jupyter-widgets/base",
            "_model_module_version": "1.2.0",
            "_model_name": "LayoutModel",
            "_view_count": null,
            "_view_module": "@jupyter-widgets/base",
            "_view_module_version": "1.2.0",
            "_view_name": "LayoutView",
            "align_content": null,
            "align_items": null,
            "align_self": null,
            "border": null,
            "bottom": null,
            "display": null,
            "flex": null,
            "flex_flow": null,
            "grid_area": null,
            "grid_auto_columns": null,
            "grid_auto_flow": null,
            "grid_auto_rows": null,
            "grid_column": null,
            "grid_gap": null,
            "grid_row": null,
            "grid_template_areas": null,
            "grid_template_columns": null,
            "grid_template_rows": null,
            "height": null,
            "justify_content": null,
            "justify_items": null,
            "left": null,
            "margin": null,
            "max_height": null,
            "max_width": null,
            "min_height": null,
            "min_width": null,
            "object_fit": null,
            "object_position": null,
            "order": null,
            "overflow": null,
            "overflow_x": null,
            "overflow_y": null,
            "padding": null,
            "right": null,
            "top": null,
            "visibility": null,
            "width": null
          }
        },
        "7683eae2c6394bc98a2b086e991dd38a": {
          "model_module": "@jupyter-widgets/base",
          "model_name": "LayoutModel",
          "model_module_version": "1.2.0",
          "state": {
            "_model_module": "@jupyter-widgets/base",
            "_model_module_version": "1.2.0",
            "_model_name": "LayoutModel",
            "_view_count": null,
            "_view_module": "@jupyter-widgets/base",
            "_view_module_version": "1.2.0",
            "_view_name": "LayoutView",
            "align_content": null,
            "align_items": null,
            "align_self": null,
            "border": null,
            "bottom": null,
            "display": null,
            "flex": null,
            "flex_flow": null,
            "grid_area": null,
            "grid_auto_columns": null,
            "grid_auto_flow": null,
            "grid_auto_rows": null,
            "grid_column": null,
            "grid_gap": null,
            "grid_row": null,
            "grid_template_areas": null,
            "grid_template_columns": null,
            "grid_template_rows": null,
            "height": null,
            "justify_content": null,
            "justify_items": null,
            "left": null,
            "margin": null,
            "max_height": null,
            "max_width": null,
            "min_height": null,
            "min_width": null,
            "object_fit": null,
            "object_position": null,
            "order": null,
            "overflow": null,
            "overflow_x": null,
            "overflow_y": null,
            "padding": null,
            "right": null,
            "top": null,
            "visibility": null,
            "width": null
          }
        },
        "23da37552f084d1fa18c613d32f2471f": {
          "model_module": "@jupyter-widgets/controls",
          "model_name": "DescriptionStyleModel",
          "model_module_version": "1.5.0",
          "state": {
            "_model_module": "@jupyter-widgets/controls",
            "_model_module_version": "1.5.0",
            "_model_name": "DescriptionStyleModel",
            "_view_count": null,
            "_view_module": "@jupyter-widgets/base",
            "_view_module_version": "1.2.0",
            "_view_name": "StyleView",
            "description_width": ""
          }
        },
        "b36f0bc9673640f780e9acd0240669f5": {
          "model_module": "@jupyter-widgets/base",
          "model_name": "LayoutModel",
          "model_module_version": "1.2.0",
          "state": {
            "_model_module": "@jupyter-widgets/base",
            "_model_module_version": "1.2.0",
            "_model_name": "LayoutModel",
            "_view_count": null,
            "_view_module": "@jupyter-widgets/base",
            "_view_module_version": "1.2.0",
            "_view_name": "LayoutView",
            "align_content": null,
            "align_items": null,
            "align_self": null,
            "border": null,
            "bottom": null,
            "display": null,
            "flex": null,
            "flex_flow": null,
            "grid_area": null,
            "grid_auto_columns": null,
            "grid_auto_flow": null,
            "grid_auto_rows": null,
            "grid_column": null,
            "grid_gap": null,
            "grid_row": null,
            "grid_template_areas": null,
            "grid_template_columns": null,
            "grid_template_rows": null,
            "height": null,
            "justify_content": null,
            "justify_items": null,
            "left": null,
            "margin": null,
            "max_height": null,
            "max_width": null,
            "min_height": null,
            "min_width": null,
            "object_fit": null,
            "object_position": null,
            "order": null,
            "overflow": null,
            "overflow_x": null,
            "overflow_y": null,
            "padding": null,
            "right": null,
            "top": null,
            "visibility": null,
            "width": null
          }
        },
        "9a2c28d808984d91a68641122e437c96": {
          "model_module": "@jupyter-widgets/controls",
          "model_name": "ProgressStyleModel",
          "model_module_version": "1.5.0",
          "state": {
            "_model_module": "@jupyter-widgets/controls",
            "_model_module_version": "1.5.0",
            "_model_name": "ProgressStyleModel",
            "_view_count": null,
            "_view_module": "@jupyter-widgets/base",
            "_view_module_version": "1.2.0",
            "_view_name": "StyleView",
            "bar_color": null,
            "description_width": ""
          }
        },
        "e8712d7d04e0406f9f70ab21cbdf07c0": {
          "model_module": "@jupyter-widgets/base",
          "model_name": "LayoutModel",
          "model_module_version": "1.2.0",
          "state": {
            "_model_module": "@jupyter-widgets/base",
            "_model_module_version": "1.2.0",
            "_model_name": "LayoutModel",
            "_view_count": null,
            "_view_module": "@jupyter-widgets/base",
            "_view_module_version": "1.2.0",
            "_view_name": "LayoutView",
            "align_content": null,
            "align_items": null,
            "align_self": null,
            "border": null,
            "bottom": null,
            "display": null,
            "flex": null,
            "flex_flow": null,
            "grid_area": null,
            "grid_auto_columns": null,
            "grid_auto_flow": null,
            "grid_auto_rows": null,
            "grid_column": null,
            "grid_gap": null,
            "grid_row": null,
            "grid_template_areas": null,
            "grid_template_columns": null,
            "grid_template_rows": null,
            "height": null,
            "justify_content": null,
            "justify_items": null,
            "left": null,
            "margin": null,
            "max_height": null,
            "max_width": null,
            "min_height": null,
            "min_width": null,
            "object_fit": null,
            "object_position": null,
            "order": null,
            "overflow": null,
            "overflow_x": null,
            "overflow_y": null,
            "padding": null,
            "right": null,
            "top": null,
            "visibility": null,
            "width": null
          }
        },
        "54ad38ffb9ea410e9e7e20549172e90c": {
          "model_module": "@jupyter-widgets/controls",
          "model_name": "DescriptionStyleModel",
          "model_module_version": "1.5.0",
          "state": {
            "_model_module": "@jupyter-widgets/controls",
            "_model_module_version": "1.5.0",
            "_model_name": "DescriptionStyleModel",
            "_view_count": null,
            "_view_module": "@jupyter-widgets/base",
            "_view_module_version": "1.2.0",
            "_view_name": "StyleView",
            "description_width": ""
          }
        }
      }
    }
  },
  "cells": [
    {
      "cell_type": "code",
      "source": [
        "#@title Installs\n",
        "!pip install pydot --quiet\n",
        "!pip install gensim --quiet\n",
        "!pip install tensorflow==2.15.0 --quiet #15 13\n",
        "!pip install tf_keras==2.15.0 --quiet\n",
        "!pip install tensorflow-datasets==4.8 --quiet #8\n",
        "!pip install tensorflow-text==2.15.0 --quiet #15\n",
        "!pip install transformers==4.17 --quiet #4.40.2 #4.37.2"
      ],
      "metadata": {
        "id": "JLhyAcGQOL27",
        "colab": {
          "base_uri": "https://localhost:8080/"
        },
        "outputId": "cdb99fad-c2db-407b-85a8-ce5462e30040"
      },
      "execution_count": 1,
      "outputs": [
        {
          "output_type": "stream",
          "name": "stdout",
          "text": [
            "\u001b[2K   \u001b[90m━━━━━━━━━━━━━━━━━━━━━━━━━━━━━━━━━━━━━━━━\u001b[0m \u001b[32m475.2/475.2 MB\u001b[0m \u001b[31m3.1 MB/s\u001b[0m eta \u001b[36m0:00:00\u001b[0m\n",
            "\u001b[2K   \u001b[90m━━━━━━━━━━━━━━━━━━━━━━━━━━━━━━━━━━━━━━━━\u001b[0m \u001b[32m1.7/1.7 MB\u001b[0m \u001b[31m57.6 MB/s\u001b[0m eta \u001b[36m0:00:00\u001b[0m\n",
            "\u001b[2K   \u001b[90m━━━━━━━━━━━━━━━━━━━━━━━━━━━━━━━━━━━━━━━━\u001b[0m \u001b[32m1.0/1.0 MB\u001b[0m \u001b[31m45.9 MB/s\u001b[0m eta \u001b[36m0:00:00\u001b[0m\n",
            "\u001b[2K   \u001b[90m━━━━━━━━━━━━━━━━━━━━━━━━━━━━━━━━━━━━━━━━\u001b[0m \u001b[32m5.5/5.5 MB\u001b[0m \u001b[31m70.1 MB/s\u001b[0m eta \u001b[36m0:00:00\u001b[0m\n",
            "\u001b[2K   \u001b[90m━━━━━━━━━━━━━━━━━━━━━━━━━━━━━━━━━━━━━━━━\u001b[0m \u001b[32m442.0/442.0 kB\u001b[0m \u001b[31m32.6 MB/s\u001b[0m eta \u001b[36m0:00:00\u001b[0m\n",
            "\u001b[2K   \u001b[90m━━━━━━━━━━━━━━━━━━━━━━━━━━━━━━━━━━━━━━━━\u001b[0m \u001b[32m77.9/77.9 kB\u001b[0m \u001b[31m7.0 MB/s\u001b[0m eta \u001b[36m0:00:00\u001b[0m\n",
            "\u001b[?25h\u001b[31mERROR: pip's dependency resolver does not currently take into account all the packages that are installed. This behaviour is the source of the following dependency conflicts.\n",
            "tensorstore 0.1.63 requires ml-dtypes>=0.3.1, but you have ml-dtypes 0.2.0 which is incompatible.\n",
            "tf-keras 2.17.0 requires tensorflow<2.18,>=2.17, but you have tensorflow 2.15.0 which is incompatible.\u001b[0m\u001b[31m\n",
            "\u001b[2K   \u001b[90m━━━━━━━━━━━━━━━━━━━━━━━━━━━━━━━━━━━━━━━━\u001b[0m \u001b[32m1.7/1.7 MB\u001b[0m \u001b[31m47.3 MB/s\u001b[0m eta \u001b[36m0:00:00\u001b[0m\n",
            "\u001b[2K   \u001b[90m━━━━━━━━━━━━━━━━━━━━━━━━━━━━━━━━━━━━━━━━\u001b[0m \u001b[32m5.2/5.2 MB\u001b[0m \u001b[31m88.1 MB/s\u001b[0m eta \u001b[36m0:00:00\u001b[0m\n",
            "\u001b[2K   \u001b[90m━━━━━━━━━━━━━━━━━━━━━━━━━━━━━━━━━━━━━━━━\u001b[0m \u001b[32m116.3/116.3 kB\u001b[0m \u001b[31m8.2 MB/s\u001b[0m eta \u001b[36m0:00:00\u001b[0m\n",
            "\u001b[2K   \u001b[90m━━━━━━━━━━━━━━━━━━━━━━━━━━━━━━━━━━━━━━━━\u001b[0m \u001b[32m5.2/5.2 MB\u001b[0m \u001b[31m90.9 MB/s\u001b[0m eta \u001b[36m0:00:00\u001b[0m\n",
            "\u001b[2K     \u001b[90m━━━━━━━━━━━━━━━━━━━━━━━━━━━━━━━━━━━━━━━━\u001b[0m \u001b[32m67.9/67.9 kB\u001b[0m \u001b[31m5.8 MB/s\u001b[0m eta \u001b[36m0:00:00\u001b[0m\n",
            "\u001b[2K   \u001b[90m━━━━━━━━━━━━━━━━━━━━━━━━━━━━━━━━━━━━━━━━\u001b[0m \u001b[32m3.8/3.8 MB\u001b[0m \u001b[31m86.3 MB/s\u001b[0m eta \u001b[36m0:00:00\u001b[0m\n",
            "\u001b[2K   \u001b[90m━━━━━━━━━━━━━━━━━━━━━━━━━━━━━━━━━━━━━━━━\u001b[0m \u001b[32m897.5/897.5 kB\u001b[0m \u001b[31m51.6 MB/s\u001b[0m eta \u001b[36m0:00:00\u001b[0m\n",
            "\u001b[?25h"
          ]
        }
      ]
    },
    {
      "cell_type": "code",
      "source": [
        "import tensorflow as tf\n",
        "from tensorflow.keras import backend as K\n",
        "\n",
        "class F1Score(tf.keras.metrics.Metric):\n",
        "    def __init__(self, name='f1_score', threshold=0.5, **kwargs):\n",
        "        super(F1Score, self).__init__(name=name, **kwargs)\n",
        "        self.threshold = threshold\n",
        "        self.tp = self.add_weight(name='tp', initializer='zeros')\n",
        "        self.fp = self.add_weight(name='fp', initializer='zeros')\n",
        "        self.fn = self.add_weight(name='fn', initializer='zeros')\n",
        "\n",
        "    def update_state(self, y_true, y_pred, sample_weight=None):\n",
        "        y_pred = tf.cast(tf.greater(y_pred, self.threshold), tf.float32)\n",
        "        y_true = tf.cast(y_true, tf.float32)\n",
        "\n",
        "        tp = tf.reduce_sum(tf.cast(y_true * y_pred, tf.float32))\n",
        "        fp = tf.reduce_sum(tf.cast((1 - y_true) * y_pred, tf.float32))\n",
        "        fn = tf.reduce_sum(tf.cast(y_true * (1 - y_pred), tf.float32))\n",
        "\n",
        "        self.tp.assign_add(tp)\n",
        "        self.fp.assign_add(fp)\n",
        "        self.fn.assign_add(fn)\n",
        "\n",
        "    def result(self):\n",
        "        precision = self.tp / (self.tp + self.fp + K.epsilon())\n",
        "        recall = self.tp / (self.tp + self.fn + K.epsilon())\n",
        "        f1_score = 2 * precision * recall / (precision + recall + K.epsilon())\n",
        "        return f1_score\n",
        "\n",
        "    def reset_state(self):\n",
        "        self.tp.assign(0)\n",
        "        self.fp.assign(0)\n",
        "        self.fn.assign(0)"
      ],
      "metadata": {
        "id": "FYx9ZdzJVH_w"
      },
      "execution_count": 2,
      "outputs": []
    },
    {
      "cell_type": "code",
      "source": [
        "from google.colab import drive\n",
        "drive.mount('/content/drive')"
      ],
      "metadata": {
        "colab": {
          "base_uri": "https://localhost:8080/"
        },
        "id": "XVwepyFBOwvM",
        "outputId": "f13d89bb-5823-4bc4-8fa6-80b373493d4b"
      },
      "execution_count": 3,
      "outputs": [
        {
          "output_type": "stream",
          "name": "stdout",
          "text": [
            "Mounted at /content/drive\n"
          ]
        }
      ]
    },
    {
      "cell_type": "code",
      "source": [
        "import pandas as pd\n",
        "import numpy as np\n",
        "from sklearn.model_selection import train_test_split\n",
        "from sklearn.metrics import accuracy_score\n",
        "from sklearn.metrics import f1_score, precision_score, recall_score\n",
        "from sklearn.isotonic import IsotonicRegression\n",
        "from sklearn.metrics import classification_report\n"
      ],
      "metadata": {
        "id": "cNldR8maraOw"
      },
      "execution_count": 4,
      "outputs": []
    },
    {
      "cell_type": "code",
      "source": [
        "#@title Imports\n",
        "\n",
        "import pandas as pd\n",
        "import numpy as np\n",
        "import tensorflow as tf\n",
        "from tensorflow import keras\n",
        "\n",
        "from tensorflow.keras.layers import Embedding, Input, Dense, Lambda\n",
        "from tensorflow.keras.models import Model\n",
        "import tensorflow.keras.backend as K\n",
        "import tensorflow_datasets as tfds\n",
        "import tensorflow_text as tf_text\n",
        "import transformers\n",
        "\n",
        "from sklearn.model_selection import train_test_split\n",
        "\n",
        "from transformers import BertTokenizer, TFBertModel\n",
        "from transformers import logging\n",
        "logging.set_verbosity_error()\n",
        "\n",
        "import sklearn as sk\n",
        "import os\n",
        "import nltk\n",
        "from nltk.data import find\n",
        "\n",
        "import matplotlib.pyplot as plt\n",
        "\n",
        "import re\n",
        "\n",
        "import gensim\n",
        "from gensim.models import Word2Vec\n",
        "from gensim.models import KeyedVectors\n",
        "from gensim.test.utils import datapath\n",
        "\n",
        "from tensorflow.keras.callbacks import EarlyStopping\n",
        "from tensorflow.keras.regularizers import l2\n",
        "from tensorflow.keras.callbacks import ReduceLROnPlateau\n",
        "\n",
        "from sklearn.utils.class_weight import compute_class_weight\n",
        "from sklearn.metrics import classification_report\n",
        "\n",
        "from sklearn.metrics import accuracy_score\n",
        "from sklearn.metrics import f1_score, precision_score, recall_score\n",
        "from sklearn.isotonic import IsotonicRegression\n"
      ],
      "metadata": {
        "id": "QjByQfg4N0ZJ"
      },
      "execution_count": 5,
      "outputs": []
    },
    {
      "cell_type": "markdown",
      "source": [
        "# Subtask A: Binary Classification"
      ],
      "metadata": {
        "id": "9zIFAaQpWxeb"
      }
    },
    {
      "cell_type": "code",
      "execution_count": 6,
      "metadata": {
        "colab": {
          "base_uri": "https://localhost:8080/"
        },
        "id": "3ksDr-2RLvmF",
        "outputId": "4465b34a-33cf-4123-82a2-7a2022a9549e"
      },
      "outputs": [
        {
          "output_type": "execute_result",
          "data": {
            "text/plain": [
              "<tf.Tensor: shape=(1400,), dtype=string, numpy=\n",
              "array([b\"Size on the the Toulouse team, That pack is monstrous. \\n\\nI can't see a Welsh region ever winning this, Money talks as they say .\",\n",
              "       b'Pinball!',\n",
              "       b\"So the Scottish Government want people to get their booster shots so badly that the website doesn't even work\",\n",
              "       ..., b'Bringing Kanye and drake to a tl near you',\n",
              "       b'I love it when women are referred to as \"girl boss\" however men are just the \"boss\"!',\n",
              "       b\"The fact that people still don't get that you need to distance, wear a mask, and generally pay attention to your hygiene this far into a pandemic gives me great confidence in the future of humanity.\"],\n",
              "      dtype=object)>"
            ]
          },
          "metadata": {},
          "execution_count": 6
        }
      ],
      "source": [
        "#@title Data Import for Subtask A\n",
        "data = pd.read_csv('/content/drive/MyDrive/MIDS W266/train.En.csv')\n",
        "test_data = pd.read_csv('/content/drive/MyDrive/MIDS W266/task_A_En_test.csv')\n",
        "\n",
        "# train val split\n",
        "train_texts, val_texts, train_labels, val_labels = train_test_split(data['tweet'].astype(str).tolist(), data['sarcastic'].tolist(), test_size=0.2)\n",
        "train_texts, val_texts = tf.constant(train_texts, dtype=tf.string), tf.constant(val_texts, dtype=tf.string)\n",
        "\n",
        "test_texts, test_labels = np.array(test_data['text']).astype(str).tolist(), test_data['sarcastic']\n",
        "test_texts = tf.constant(test_texts, dtype=tf.string)\n",
        "test_texts"
      ]
    },
    {
      "cell_type": "code",
      "source": [
        "sum(test_labels) / len(test_labels)\n",
        "\n",
        "true_labels = np.zeros(1000)\n",
        "indices = np.random.choice(range(1000), 143, replace=False)\n",
        "true_labels[indices] = 1\n",
        "\n",
        "predicted_labels = np.zeros(1000)\n",
        "random = np.random.choice(range(1000), 500, replace=False)\n",
        "predicted_labels[random] = 1\n",
        "\n",
        "accuracy = accuracy_score(true_labels, predicted_labels)\n",
        "print(f\"Accuracy: {accuracy}\")\n",
        "print(f\"F1 Score: {f1_score(true_labels, predicted_labels, average='binary',pos_label=1)}\")\n",
        "print(f\"Precision: {precision_score(true_labels, predicted_labels)}\")\n",
        "print(f\"Recall: {recall_score(true_labels, predicted_labels)}\")"
      ],
      "metadata": {
        "colab": {
          "base_uri": "https://localhost:8080/"
        },
        "id": "a1VZHSZaTS_V",
        "outputId": "9a3e4e26-4ac0-4fd8-ee61-703ea7282007"
      },
      "execution_count": 7,
      "outputs": [
        {
          "output_type": "stream",
          "name": "stdout",
          "text": [
            "Accuracy: 0.489\n",
            "F1 Score: 0.2052877138413686\n",
            "Precision: 0.132\n",
            "Recall: 0.46153846153846156\n"
          ]
        }
      ]
    },
    {
      "cell_type": "code",
      "source": [
        "#@title Plotting Function\n",
        "\n",
        "# 4-window plot. Small modification from matplotlib examples.\n",
        "\n",
        "def make_plot(axs,\n",
        "              model_history1,\n",
        "              model_history2,\n",
        "              model_1_name='model 1',\n",
        "              model_2_name='model 2',\n",
        "              ):\n",
        "    box = dict(facecolor='yellow', pad=5, alpha=0.2)\n",
        "\n",
        "    for i, metric in enumerate(['loss', 'accuracy']):\n",
        "        # small adjustment to account for the 2 accuracy measures in the Weighted Averging Model with Attention\n",
        "        if 'classification_%s' % metric in model_history2.history:\n",
        "            metric2 = 'classification_%s' % metric\n",
        "        else:\n",
        "            metric2 = metric\n",
        "\n",
        "        y_lim_lower1 = np.min(model_history1.history[metric])\n",
        "        y_lim_lower2 = np.min(model_history2.history[metric2])\n",
        "        y_lim_lower = min(y_lim_lower1, y_lim_lower2) * 0.9\n",
        "\n",
        "        y_lim_upper1 = np.max(model_history1.history[metric])\n",
        "        y_lim_upper2 = np.max(model_history2.history[metric2])\n",
        "        y_lim_upper = max(y_lim_upper1, y_lim_upper2) * 1.1\n",
        "\n",
        "        for j, model_history in enumerate([model_history1, model_history2]):\n",
        "            model_name = [model_1_name, model_2_name][j]\n",
        "            model_metric = [metric, metric2][j]\n",
        "            ax1 = axs[i, j]\n",
        "            ax1.plot(model_history.history[model_metric])\n",
        "            ax1.plot(model_history.history['val_%s' % model_metric])\n",
        "            ax1.set_title('%s - %s' % (metric, model_name))\n",
        "            ax1.set_ylabel(metric, bbox=box)\n",
        "            ax1.set_ylim(y_lim_lower, y_lim_upper)"
      ],
      "metadata": {
        "id": "rz_TpyG5NckN"
      },
      "execution_count": 8,
      "outputs": []
    },
    {
      "cell_type": "code",
      "source": [
        "tokenizer = tf_text.WhitespaceTokenizer()\n",
        "train_tokens = tokenizer.tokenize(train_texts)\n",
        "val_tokens = tokenizer.tokenize(val_texts)\n",
        "test_tokens = tokenizer.tokenize(test_texts)"
      ],
      "metadata": {
        "id": "-SBIB8KiQ9Jk"
      },
      "execution_count": 9,
      "outputs": []
    },
    {
      "cell_type": "code",
      "source": [
        "bert_tokenizer = BertTokenizer.from_pretrained('bert-base-cased')\n",
        "bert_model = TFBertModel.from_pretrained('bert-base-cased')"
      ],
      "metadata": {
        "id": "do4uzNS4OXbd",
        "colab": {
          "base_uri": "https://localhost:8080/",
          "height": 145,
          "referenced_widgets": [
            "4176e53ab743478480908b30d6135e40",
            "f67ab2c81c424cad913d55e58278e6f5",
            "cbab60b68c1145908b61692f10becfce",
            "ca805348e28349eaabb22d66c5c19004",
            "56c1b47c0afc4a83a16387a36211f31a",
            "7bc3ecb63a2e4ab889214840a29ddce5",
            "800b3fbb8a8d49bab7906e830184b6c4",
            "79fa7ac3dc1243abb3a9c1e2a396a6f8",
            "4cd7f419aadb4e5b818ffed538257f90",
            "dc53f4bc5bf24722bff05f7271aaeda9",
            "cfbbeae059684cf3b593c295d26039cf",
            "79eed7d587c94522b0808c0716787120",
            "5d7b79b3c2594d19b7761f5092419886",
            "0361ed62aa984a228dce6edec32beeed",
            "0eab07e3b90a48cdabe63847b9083fba",
            "e8c996b6b1a44ebc94ca97362789ad69",
            "2c710536021d47a5bc25d8fe9749fc52",
            "013c5a3de63b463f8b9bcf47608b8694",
            "cec475f81e444e65b3bf8bcd80cb7988",
            "4f21a22875aa4134b5a0428acd203d10",
            "1afe78378c4145ec80c304e42a7eb5c0",
            "80d3728f8c8a410b8be812724b389149",
            "f1ac4c5a06d74f0f9a0466a84e0afa27",
            "e1f5c1e35e484bd689f425d3dd6ad5ce",
            "821bc032f80f49708b720f8e5dacafeb",
            "11128c3790044fe0bc72144638cde00b",
            "74733c55cd854ee28af417181e01b11b",
            "cffc1e7e45514420b5d476d285797aaf",
            "0e922a78535f48a7861501a4c011531c",
            "e9ef01c126854938a32e2345c85bb012",
            "3a5cbcb8b45c43fbb594fc0f75bb1c47",
            "6a163257e7364182923f2566f30c55bd",
            "53188c80d1934c5fadef2a2d9fab5dd6",
            "49628bc93b264373a4e4b19527e9ea34",
            "3850138efa98455face020dd698ecb5d",
            "35cce4fe05e347ca9476ad2999548fa4",
            "f2449a93894741c79314eddd18a9cc0e",
            "eda704165b684312ac502193d3994257",
            "7683eae2c6394bc98a2b086e991dd38a",
            "23da37552f084d1fa18c613d32f2471f",
            "b36f0bc9673640f780e9acd0240669f5",
            "9a2c28d808984d91a68641122e437c96",
            "e8712d7d04e0406f9f70ab21cbdf07c0",
            "54ad38ffb9ea410e9e7e20549172e90c"
          ]
        },
        "outputId": "10097247-0723-465f-e91b-cbd95d8215e2"
      },
      "execution_count": 10,
      "outputs": [
        {
          "output_type": "display_data",
          "data": {
            "text/plain": [
              "Downloading:   0%|          | 0.00/208k [00:00<?, ?B/s]"
            ],
            "application/vnd.jupyter.widget-view+json": {
              "version_major": 2,
              "version_minor": 0,
              "model_id": "4176e53ab743478480908b30d6135e40"
            }
          },
          "metadata": {}
        },
        {
          "output_type": "display_data",
          "data": {
            "text/plain": [
              "Downloading:   0%|          | 0.00/49.0 [00:00<?, ?B/s]"
            ],
            "application/vnd.jupyter.widget-view+json": {
              "version_major": 2,
              "version_minor": 0,
              "model_id": "79eed7d587c94522b0808c0716787120"
            }
          },
          "metadata": {}
        },
        {
          "output_type": "display_data",
          "data": {
            "text/plain": [
              "Downloading:   0%|          | 0.00/570 [00:00<?, ?B/s]"
            ],
            "application/vnd.jupyter.widget-view+json": {
              "version_major": 2,
              "version_minor": 0,
              "model_id": "f1ac4c5a06d74f0f9a0466a84e0afa27"
            }
          },
          "metadata": {}
        },
        {
          "output_type": "display_data",
          "data": {
            "text/plain": [
              "Downloading:   0%|          | 0.00/502M [00:00<?, ?B/s]"
            ],
            "application/vnd.jupyter.widget-view+json": {
              "version_major": 2,
              "version_minor": 0,
              "model_id": "49628bc93b264373a4e4b19527e9ea34"
            }
          },
          "metadata": {}
        }
      ]
    },
    {
      "cell_type": "code",
      "source": [
        "MAX_SEQUENCE_LENGTH = 100"
      ],
      "metadata": {
        "id": "g4AvdUykWg4R"
      },
      "execution_count": 11,
      "outputs": []
    },
    {
      "cell_type": "code",
      "source": [
        "#@title BERT Tokenization of training, val, and test data\n",
        "\n",
        "train_examples_str = [x.decode('utf-8') for x in train_texts.numpy()]\n",
        "val_examples_str = [x.decode('utf-8') for x in val_texts.numpy()]\n",
        "test_examples_str = [x.decode('utf-8') for x in test_texts.numpy()]\n",
        "\n",
        "# train\n",
        "bert_train_tokenized = bert_tokenizer(train_examples_str,\n",
        "              max_length=MAX_SEQUENCE_LENGTH,\n",
        "              truncation=True,\n",
        "              padding='max_length',\n",
        "              return_tensors='tf')\n",
        "bert_train_inputs = [bert_train_tokenized.input_ids,\n",
        "                     bert_train_tokenized.token_type_ids,\n",
        "                     bert_train_tokenized.attention_mask]\n",
        "bert_train_labels = np.array(train_labels)\n",
        "\n",
        "# val\n",
        "bert_val_tokenized = bert_tokenizer(val_examples_str,\n",
        "              max_length=MAX_SEQUENCE_LENGTH,\n",
        "              truncation=True,\n",
        "              padding='max_length',\n",
        "              return_tensors='tf')\n",
        "bert_val_inputs = [bert_val_tokenized.input_ids,\n",
        "                     bert_val_tokenized.token_type_ids,\n",
        "                     bert_val_tokenized.attention_mask]\n",
        "bert_val_labels = np.array(val_labels)\n",
        "\n",
        "# test\n",
        "bert_test_tokenized = bert_tokenizer(test_examples_str,\n",
        "              max_length=MAX_SEQUENCE_LENGTH,\n",
        "              truncation=True,\n",
        "              padding='max_length',\n",
        "              return_tensors='tf')\n",
        "bert_test_inputs = [bert_test_tokenized.input_ids,\n",
        "                     bert_test_tokenized.token_type_ids,\n",
        "                     bert_test_tokenized.attention_mask]\n",
        "bert_test_labels = np.array(test_labels)"
      ],
      "metadata": {
        "id": "M7Cq0MTAPaXM"
      },
      "execution_count": 12,
      "outputs": []
    },
    {
      "cell_type": "code",
      "source": [
        "def create_bert_cls_model(bert_base_model,\n",
        "                          max_sequence_length=MAX_SEQUENCE_LENGTH,\n",
        "                          hidden_size = 100,\n",
        "                          dropout=0.3,\n",
        "                          learning_rate=0.00005,\n",
        "                          num_train_layers=2):\n",
        "    \"\"\"\n",
        "    Build a simple classification model with BERT. Use the CLS Token output for classification purposes.\n",
        "    \"\"\"\n",
        "\n",
        "    ### YOUR CODE HERE\n",
        "\n",
        "    if num_train_layers == 0:\n",
        "        # Freeze all layers of pre-trained BERT model\n",
        "        bert_base_model.trainable = False\n",
        "    elif num_train_layers == 12:\n",
        "        # Train all layers of the BERT model\n",
        "        bert_base_model.trainable = True\n",
        "    else:\n",
        "        # Restrict training to the num_train_layers outer transformer layers\n",
        "        retrain_layers = []\n",
        "        for retrain_layer_number in range(num_train_layers):\n",
        "            layer_code = '_' + str(11 - retrain_layer_number)\n",
        "            retrain_layers.append(layer_code)\n",
        "        print('retrain layers: ', retrain_layers)\n",
        "        for w in bert_model.weights:\n",
        "            if not any([x in w.name for x in retrain_layers]):\n",
        "                w._trainable = False\n",
        "\n",
        "    input_ids = tf.keras.layers.Input(shape=(MAX_SEQUENCE_LENGTH,), dtype=tf.int64, name='input_ids_layer')\n",
        "    token_type_ids = tf.keras.layers.Input(shape=(MAX_SEQUENCE_LENGTH,), dtype=tf.int64, name='token_type_ids_layer')\n",
        "    attention_mask = tf.keras.layers.Input(shape=(MAX_SEQUENCE_LENGTH,), dtype=tf.int64, name='attention_mask_layer')\n",
        "\n",
        "    bert_inputs = {'input_ids': input_ids,\n",
        "                   'token_type_ids': token_type_ids,\n",
        "                   'attention_mask': attention_mask}\n",
        "\n",
        "    bert_out = bert_base_model(bert_inputs)\n",
        "\n",
        "    cls_token = bert_out[0][:, 0, :]  # Extract the [CLS] token embedding\n",
        "\n",
        "    hidden = tf.keras.layers.Dense(hidden_size, activation='relu', name='hidden_layer')(cls_token)\n",
        "    hidden = tf.keras.layers.Dropout(dropout)(hidden)\n",
        "\n",
        "    classification = tf.keras.layers.Dense(1, activation='sigmoid', name='classification_layer')(hidden)\n",
        "\n",
        "    classification_model = tf.keras.Model(inputs=[input_ids, token_type_ids, attention_mask], outputs=[classification])\n",
        "\n",
        "    classification_model.compile(optimizer=tf.keras.optimizers.Adam(learning_rate=learning_rate),\n",
        "                                 loss=tf.keras.losses.BinaryCrossentropy(from_logits=False),\n",
        "                                 metrics=['accuracy'])\n",
        "\n",
        "    ### END YOUR CODE\n",
        "\n",
        "    return classification_model"
      ],
      "metadata": {
        "id": "WGg-K7InXpQE"
      },
      "execution_count": 13,
      "outputs": []
    },
    {
      "cell_type": "code",
      "source": [
        "bert_classification_model = create_bert_cls_model(bert_model, num_train_layers=0)\n",
        "early_stopping = EarlyStopping(monitor='val_loss', patience=3, restore_best_weights=True)\n",
        "reduce_lr = ReduceLROnPlateau(monitor='val_loss', factor=0.2, patience=2, min_lr=1e-6)\n",
        "\n",
        "bert_classification_model_history = bert_classification_model.fit(\n",
        "    bert_train_inputs,\n",
        "    bert_train_labels,\n",
        "    validation_data=(bert_val_inputs, bert_val_labels),\n",
        "    batch_size=8,\n",
        "    epochs=5,\n",
        "    callbacks=[early_stopping, reduce_lr]\n",
        ")\n"
      ],
      "metadata": {
        "id": "LZU8aW1XXqKP",
        "colab": {
          "base_uri": "https://localhost:8080/"
        },
        "outputId": "31511f42-46d9-434f-dd28-d3f15e96e092"
      },
      "execution_count": 15,
      "outputs": [
        {
          "output_type": "stream",
          "name": "stdout",
          "text": [
            "Epoch 1/5\n",
            "347/347 [==============================] - 64s 117ms/step - loss: 0.6057 - accuracy: 0.7210 - val_loss: 0.5689 - val_accuracy: 0.7450 - lr: 5.0000e-05\n",
            "Epoch 2/5\n",
            "347/347 [==============================] - 36s 104ms/step - loss: 0.5761 - accuracy: 0.7480 - val_loss: 0.5669 - val_accuracy: 0.7450 - lr: 5.0000e-05\n",
            "Epoch 3/5\n",
            "347/347 [==============================] - 36s 104ms/step - loss: 0.5647 - accuracy: 0.7513 - val_loss: 0.5617 - val_accuracy: 0.7450 - lr: 5.0000e-05\n",
            "Epoch 4/5\n",
            "347/347 [==============================] - 36s 104ms/step - loss: 0.5632 - accuracy: 0.7505 - val_loss: 0.5598 - val_accuracy: 0.7450 - lr: 5.0000e-05\n",
            "Epoch 5/5\n",
            "347/347 [==============================] - 36s 105ms/step - loss: 0.5526 - accuracy: 0.7516 - val_loss: 0.5590 - val_accuracy: 0.7450 - lr: 5.0000e-05\n"
          ]
        }
      ]
    },
    {
      "cell_type": "code",
      "source": [
        "# Obtain predicted probabilities for validation set\n",
        "valid_predictions_cls = bert_classification_model.predict(bert_val_inputs)\n",
        "valid_probabilities_cls = valid_predictions_cls.flatten()  # Ensure the shape is correct\n",
        "valid_labels_cls = bert_val_labels.flatten()\n",
        "\n",
        "test_predictions_cls = bert_classification_model.predict(bert_test_inputs)\n",
        "test_probabilities_cls = test_predictions_cls.flatten()  # Ensure the shape is correct\n",
        "# calibrated_probabilities = iso_reg.transform(test_probabilities)\n",
        "\n",
        "# Predict classes using calibrated probabilities\n",
        "predicted_classes_cls = (test_probabilities_cls > np.percentile(test_probabilities_cls, 50))\n",
        "\n",
        "# Evaluate the model using the calibrated probabilities\n",
        "print(classification_report(bert_test_labels, predicted_classes_cls))\n",
        "\n",
        "test_accuracy1 = accuracy_score(bert_test_labels, predicted_classes_cls)\n",
        "print(f\"Test Accuracy: {test_accuracy1}\")\n",
        "\n",
        "f1_sarcastic = f1_score(bert_test_labels,predicted_classes_cls, average = \"binary\", pos_label = 1)\n",
        "print(f\"F1 Sarcastic score: {f1_sarcastic}\")"
      ],
      "metadata": {
        "colab": {
          "base_uri": "https://localhost:8080/"
        },
        "id": "I359pb4LMGwH",
        "outputId": "c25bb0d3-a1db-4bd9-b2f2-296b2765065e"
      },
      "execution_count": 62,
      "outputs": [
        {
          "output_type": "stream",
          "name": "stdout",
          "text": [
            "22/22 [==============================] - 12s 218ms/step\n",
            "44/44 [==============================] - 10s 221ms/step\n",
            "              precision    recall  f1-score   support\n",
            "\n",
            "           0       0.86      0.50      0.63      1200\n",
            "           1       0.15      0.51      0.23       200\n",
            "\n",
            "    accuracy                           0.50      1400\n",
            "   macro avg       0.50      0.51      0.43      1400\n",
            "weighted avg       0.76      0.50      0.58      1400\n",
            "\n",
            "Test Accuracy: 0.5028571428571429\n",
            "F1 Sarcastic score: 0.22666666666666668\n"
          ]
        }
      ]
    },
    {
      "cell_type": "code",
      "source": [
        "def create_bert_cnn_model(bert_cnn_model,\n",
        "                          max_sequence_length=MAX_SEQUENCE_LENGTH,\n",
        "                          num_filters = [50, 30, 20, 5],\n",
        "                          kernel_sizes = [2, 3, 4, 5],\n",
        "                          dropout = 0.3,\n",
        "                          hidden_size = 100,\n",
        "                          learning_rate=0.005):\n",
        "    \"\"\"\n",
        "    Build a  classification model with BERT, where you apply CNN layers  to the BERT output\n",
        "    \"\"\"\n",
        "\n",
        "    ### YOUR CODE HERE\n",
        "\n",
        "    input_ids = tf.keras.layers.Input(shape=(max_sequence_length,), dtype=tf.int64, name='input_ids_layer')\n",
        "    token_type_ids = tf.keras.layers.Input(shape=(max_sequence_length,), dtype=tf.int64, name='token_type_ids_layer')\n",
        "    attention_mask = tf.keras.layers.Input(shape=(max_sequence_length,), dtype=tf.int64, name='attention_mask_layer')\n",
        "\n",
        "    bert_inputs = {'input_ids': input_ids,\n",
        "                   'token_type_ids': token_type_ids,\n",
        "                   'attention_mask': attention_mask}\n",
        "\n",
        "    bert_out = bert_cnn_model(bert_inputs)\n",
        "    sequence_output = bert_out[0]  # Full sequence output from BERT\n",
        "\n",
        "    # Apply CNN layers to the BERT output\n",
        "    conv_layers = []\n",
        "    for num_filter, kernel_size in zip(num_filters, kernel_sizes):\n",
        "        conv = tf.keras.layers.Conv1D(filters=num_filter,\n",
        "                                      kernel_size=kernel_size,\n",
        "                                      activation='relu')(sequence_output)\n",
        "        pool = tf.keras.layers.GlobalMaxPooling1D()(conv)\n",
        "        conv_layers.append(pool)\n",
        "\n",
        "    cnn_output = tf.keras.layers.concatenate(conv_layers)\n",
        "\n",
        "    hidden = tf.keras.layers.Dense(hidden_size, activation='relu', name='hidden_layer')(cnn_output)\n",
        "    hidden = tf.keras.layers.BatchNormalization()(hidden)\n",
        "    hidden = tf.keras.layers.Dropout(dropout)(hidden)\n",
        "\n",
        "    classification = tf.keras.layers.Dense(1, activation='sigmoid', name='classification_layer')(hidden)\n",
        "\n",
        "    classification_model = tf.keras.Model(inputs=[input_ids, token_type_ids, attention_mask], outputs=[classification])\n",
        "\n",
        "    classification_model.compile(optimizer=tf.keras.optimizers.Adam(learning_rate=learning_rate),\n",
        "                                 loss=tf.keras.losses.BinaryCrossentropy(from_logits=False),\n",
        "                                 metrics=['accuracy'])\n",
        "\n",
        "    ### END YOUR CODE\n",
        "\n",
        "    return classification_model"
      ],
      "metadata": {
        "id": "xZgQDTPV2nIO"
      },
      "execution_count": 16,
      "outputs": []
    },
    {
      "cell_type": "code",
      "source": [
        "class_weights = compute_class_weight(class_weight='balanced', classes=np.unique(bert_train_labels), y=bert_train_labels)\n",
        "class_weights = {i: class_weights[i] for i in range(len(class_weights))}\n",
        "# class_weights = {0:1, 1:5}\n",
        "class_weights"
      ],
      "metadata": {
        "colab": {
          "base_uri": "https://localhost:8080/"
        },
        "id": "yXj_ZO62bGj_",
        "outputId": "2b269201-0f55-487d-d82d-454c45c46434"
      },
      "execution_count": 17,
      "outputs": [
        {
          "output_type": "execute_result",
          "data": {
            "text/plain": [
              "{0: 0.6655470249520153, 1: 2.0101449275362318}"
            ]
          },
          "metadata": {},
          "execution_count": 17
        }
      ]
    },
    {
      "cell_type": "code",
      "source": [
        "# ### YOUR CODE HERE\n",
        "\n",
        "bert_model = TFBertModel.from_pretrained('bert-base-cased')\n",
        "bert_cnn_model1 = create_bert_cnn_model(bert_model,\n",
        "                                       dropout=0.5,\n",
        "                                       learning_rate=0.001)\n",
        "\n",
        "early_stopping = EarlyStopping(monitor='val_loss', patience=3, restore_best_weights=True)\n",
        "reduce_lr = ReduceLROnPlateau(monitor='val_loss', factor=0.2, patience=2, min_lr=1e-6)\n",
        "\n",
        "bert_cnn_history1 = bert_cnn_model1.fit(\n",
        "    bert_train_inputs,\n",
        "    bert_train_labels,\n",
        "    validation_data=(bert_val_inputs, bert_val_labels),\n",
        "    batch_size=8,\n",
        "    epochs=10,\n",
        "    callbacks=[early_stopping, reduce_lr],\n",
        "    class_weight=class_weights\n",
        ")\n",
        "\n",
        "# ### END YOUR CODE"
      ],
      "metadata": {
        "colab": {
          "base_uri": "https://localhost:8080/"
        },
        "id": "jDeC4X_d0gdA",
        "outputId": "883a41f9-3e59-426c-9cf2-0a21bbaa1a51"
      },
      "execution_count": 18,
      "outputs": [
        {
          "output_type": "stream",
          "name": "stdout",
          "text": [
            "Epoch 1/10\n"
          ]
        },
        {
          "output_type": "stream",
          "name": "stderr",
          "text": [
            "WARNING:tensorflow:Gradients do not exist for variables ['tf_bert_model_1/bert/pooler/dense/kernel:0', 'tf_bert_model_1/bert/pooler/dense/bias:0'] when minimizing the loss. If you're using `model.compile()`, did you forget to provide a `loss` argument?\n",
            "WARNING:tensorflow:Gradients do not exist for variables ['tf_bert_model_1/bert/pooler/dense/kernel:0', 'tf_bert_model_1/bert/pooler/dense/bias:0'] when minimizing the loss. If you're using `model.compile()`, did you forget to provide a `loss` argument?\n",
            "WARNING:tensorflow:Gradients do not exist for variables ['tf_bert_model_1/bert/pooler/dense/kernel:0', 'tf_bert_model_1/bert/pooler/dense/bias:0'] when minimizing the loss. If you're using `model.compile()`, did you forget to provide a `loss` argument?\n",
            "WARNING:tensorflow:Gradients do not exist for variables ['tf_bert_model_1/bert/pooler/dense/kernel:0', 'tf_bert_model_1/bert/pooler/dense/bias:0'] when minimizing the loss. If you're using `model.compile()`, did you forget to provide a `loss` argument?\n"
          ]
        },
        {
          "output_type": "stream",
          "name": "stdout",
          "text": [
            "347/347 [==============================] - 135s 242ms/step - loss: 0.8211 - accuracy: 0.4921 - val_loss: 0.5928 - val_accuracy: 0.7450 - lr: 0.0010\n",
            "Epoch 2/10\n",
            "347/347 [==============================] - 81s 232ms/step - loss: 0.7581 - accuracy: 0.5022 - val_loss: 0.5731 - val_accuracy: 0.7450 - lr: 0.0010\n",
            "Epoch 3/10\n",
            "347/347 [==============================] - 79s 229ms/step - loss: 0.7250 - accuracy: 0.5014 - val_loss: 0.6387 - val_accuracy: 0.7450 - lr: 0.0010\n",
            "Epoch 4/10\n",
            "347/347 [==============================] - 80s 229ms/step - loss: 0.7103 - accuracy: 0.5087 - val_loss: 1.3838 - val_accuracy: 0.2550 - lr: 0.0010\n",
            "Epoch 5/10\n",
            "347/347 [==============================] - 75s 217ms/step - loss: 0.7033 - accuracy: 0.5025 - val_loss: 1.2266 - val_accuracy: 0.2550 - lr: 2.0000e-04\n"
          ]
        }
      ]
    },
    {
      "cell_type": "code",
      "source": [
        "# Obtain predicted probabilities for validation set\n",
        "valid_predictions = bert_cnn_model1.predict(bert_val_inputs)\n",
        "valid_probabilities = valid_predictions.flatten()  # Ensure the shape is correct\n",
        "valid_labels = bert_val_labels.flatten()\n",
        "\n",
        "test_predictions = bert_cnn_model1.predict(bert_test_inputs)\n",
        "test_probabilities = test_predictions.flatten()  # Ensure the shape is correct\n",
        "# calibrated_probabilities = iso_reg.transform(test_probabilities)\n",
        "\n",
        "# Predict classes using calibrated probabilities\n",
        "predicted_classes = (test_probabilities > np.percentile(test_probabilities, 60))\n",
        "\n",
        "# Evaluate the model using the calibrated probabilities\n",
        "print(classification_report(bert_test_labels, predicted_classes))\n",
        "\n",
        "test_accuracy1 = accuracy_score(bert_test_labels, predicted_classes)\n",
        "print(f\"Test Accuracy: {test_accuracy1}\")\n",
        "\n",
        "f1_sarcastic = f1_score(bert_test_labels,predicted_classes, average = \"binary\", pos_label = 1)\n",
        "print(f\"F1 Sarcastic score: {f1_sarcastic}\")"
      ],
      "metadata": {
        "colab": {
          "base_uri": "https://localhost:8080/"
        },
        "id": "_zhwXWbMKkAP",
        "outputId": "df873b74-4820-4db1-c859-721d688659d3"
      },
      "execution_count": 20,
      "outputs": [
        {
          "output_type": "stream",
          "name": "stdout",
          "text": [
            "22/22 [==============================] - 12s 247ms/step\n",
            "44/44 [==============================] - 12s 262ms/step\n",
            "              precision    recall  f1-score   support\n",
            "\n",
            "           0       0.85      0.62      0.72      1200\n",
            "           1       0.14      0.36      0.20       200\n",
            "\n",
            "    accuracy                           0.58      1400\n",
            "   macro avg       0.50      0.49      0.46      1400\n",
            "weighted avg       0.75      0.58      0.64      1400\n",
            "\n",
            "Test Accuracy: 0.5821428571428572\n",
            "F1 Sarcastic score: 0.1997264021887825\n"
          ]
        }
      ]
    },
    {
      "cell_type": "markdown",
      "source": [
        "## Skip from here"
      ],
      "metadata": {
        "id": "mhqveDgEDsvB"
      }
    },
    {
      "cell_type": "code",
      "source": [
        "test_predictions_noweights = bert_cnn_model1.predict(bert_test_inputs)\n",
        "test_predictions_binary_noweights = (test_predictions_noweights> 0.5).astype(int)\n",
        "\n",
        "# Compute and print classification report\n",
        "print(classification_report(bert_test_labels, test_predictions_binary_noweights))\n",
        "\n",
        "# Compute and print accuracy\n",
        "test_accuracy_noweights = accuracy_score(bert_test_labels, test_predictions_binary_noweights)\n",
        "print(f\"Test Accuracy: {test_accuracy1}\")\n"
      ],
      "metadata": {
        "colab": {
          "base_uri": "https://localhost:8080/"
        },
        "id": "ujPa3f-77D4S",
        "outputId": "bef3baf7-77ed-4692-91b3-60f59948d4ce"
      },
      "execution_count": 21,
      "outputs": [
        {
          "output_type": "stream",
          "name": "stdout",
          "text": [
            "44/44 [==============================] - 9s 207ms/step\n",
            "              precision    recall  f1-score   support\n",
            "\n",
            "           0       0.86      1.00      0.92      1200\n",
            "           1       0.00      0.00      0.00       200\n",
            "\n",
            "    accuracy                           0.86      1400\n",
            "   macro avg       0.43      0.50      0.46      1400\n",
            "weighted avg       0.73      0.86      0.79      1400\n",
            "\n",
            "Test Accuracy: 0.5821428571428572\n"
          ]
        },
        {
          "output_type": "stream",
          "name": "stderr",
          "text": [
            "/usr/local/lib/python3.10/dist-packages/sklearn/metrics/_classification.py:1471: UndefinedMetricWarning: Precision and F-score are ill-defined and being set to 0.0 in labels with no predicted samples. Use `zero_division` parameter to control this behavior.\n",
            "  _warn_prf(average, modifier, msg_start, len(result))\n",
            "/usr/local/lib/python3.10/dist-packages/sklearn/metrics/_classification.py:1471: UndefinedMetricWarning: Precision and F-score are ill-defined and being set to 0.0 in labels with no predicted samples. Use `zero_division` parameter to control this behavior.\n",
            "  _warn_prf(average, modifier, msg_start, len(result))\n",
            "/usr/local/lib/python3.10/dist-packages/sklearn/metrics/_classification.py:1471: UndefinedMetricWarning: Precision and F-score are ill-defined and being set to 0.0 in labels with no predicted samples. Use `zero_division` parameter to control this behavior.\n",
            "  _warn_prf(average, modifier, msg_start, len(result))\n"
          ]
        }
      ]
    },
    {
      "cell_type": "code",
      "source": [
        "test_predictions_noweights"
      ],
      "metadata": {
        "colab": {
          "base_uri": "https://localhost:8080/"
        },
        "id": "tck6S3E785JJ",
        "outputId": "1dd5b699-1dac-4aa6-e9c4-cd84dafd736a"
      },
      "execution_count": 22,
      "outputs": [
        {
          "output_type": "execute_result",
          "data": {
            "text/plain": [
              "array([[0.21192892],\n",
              "       [0.21192901],\n",
              "       [0.21192862],\n",
              "       ...,\n",
              "       [0.2119285 ],\n",
              "       [0.21192889],\n",
              "       [0.21192889]], dtype=float32)"
            ]
          },
          "metadata": {},
          "execution_count": 22
        }
      ]
    },
    {
      "cell_type": "code",
      "source": [
        "test_predictions1 = bert_cnn_model1.predict(bert_test_inputs)\n",
        "test_predictions_binary1 = (test_predictions1 > 0.5).astype(int)\n",
        "\n",
        "# Compute and print classification report\n",
        "print(classification_report(bert_test_labels, test_predictions_binary1))\n",
        "\n",
        "# Compute and print accuracy\n",
        "test_accuracy1 = accuracy_score(bert_test_labels, test_predictions_binary1)\n",
        "print(f\"Test Accuracy: {test_accuracy1}\")\n"
      ],
      "metadata": {
        "colab": {
          "base_uri": "https://localhost:8080/"
        },
        "id": "r86FRaGeRIu5",
        "outputId": "fe094a98-56e2-4570-da4b-49d673bad674"
      },
      "execution_count": 23,
      "outputs": [
        {
          "output_type": "stream",
          "name": "stdout",
          "text": [
            "44/44 [==============================] - 9s 211ms/step\n",
            "              precision    recall  f1-score   support\n",
            "\n",
            "           0       0.86      1.00      0.92      1200\n",
            "           1       0.00      0.00      0.00       200\n",
            "\n",
            "    accuracy                           0.86      1400\n",
            "   macro avg       0.43      0.50      0.46      1400\n",
            "weighted avg       0.73      0.86      0.79      1400\n",
            "\n",
            "Test Accuracy: 0.8571428571428571\n"
          ]
        },
        {
          "output_type": "stream",
          "name": "stderr",
          "text": [
            "/usr/local/lib/python3.10/dist-packages/sklearn/metrics/_classification.py:1471: UndefinedMetricWarning: Precision and F-score are ill-defined and being set to 0.0 in labels with no predicted samples. Use `zero_division` parameter to control this behavior.\n",
            "  _warn_prf(average, modifier, msg_start, len(result))\n",
            "/usr/local/lib/python3.10/dist-packages/sklearn/metrics/_classification.py:1471: UndefinedMetricWarning: Precision and F-score are ill-defined and being set to 0.0 in labels with no predicted samples. Use `zero_division` parameter to control this behavior.\n",
            "  _warn_prf(average, modifier, msg_start, len(result))\n",
            "/usr/local/lib/python3.10/dist-packages/sklearn/metrics/_classification.py:1471: UndefinedMetricWarning: Precision and F-score are ill-defined and being set to 0.0 in labels with no predicted samples. Use `zero_division` parameter to control this behavior.\n",
            "  _warn_prf(average, modifier, msg_start, len(result))\n"
          ]
        }
      ]
    },
    {
      "cell_type": "code",
      "source": [
        "test_predictions1"
      ],
      "metadata": {
        "colab": {
          "base_uri": "https://localhost:8080/"
        },
        "id": "EbRN0yQ0ZyFQ",
        "outputId": "ffbc4511-5523-4425-c7f1-2ccf992e4d60"
      },
      "execution_count": 24,
      "outputs": [
        {
          "output_type": "execute_result",
          "data": {
            "text/plain": [
              "array([[0.21192892],\n",
              "       [0.21192901],\n",
              "       [0.21192862],\n",
              "       ...,\n",
              "       [0.2119285 ],\n",
              "       [0.21192889],\n",
              "       [0.21192889]], dtype=float32)"
            ]
          },
          "metadata": {},
          "execution_count": 24
        }
      ]
    },
    {
      "cell_type": "code",
      "source": [],
      "metadata": {
        "id": "k5CIx-9nY-_k"
      },
      "execution_count": 24,
      "outputs": []
    },
    {
      "cell_type": "code",
      "source": [
        "f1_sarcastic = f1_score(bert_test_labels,test_predictions_binary1, average = \"binary\", pos_label = 1)\n",
        "f1_sarcastic"
      ],
      "metadata": {
        "colab": {
          "base_uri": "https://localhost:8080/"
        },
        "id": "cAFueHL-ZC2z",
        "outputId": "3060a3f7-22d6-427e-f0bf-ceaccdcb533c"
      },
      "execution_count": 25,
      "outputs": [
        {
          "output_type": "execute_result",
          "data": {
            "text/plain": [
              "0.0"
            ]
          },
          "metadata": {},
          "execution_count": 25
        }
      ]
    },
    {
      "cell_type": "code",
      "source": [],
      "metadata": {
        "id": "FTqHKDqhZWBI"
      },
      "execution_count": 25,
      "outputs": []
    },
    {
      "cell_type": "code",
      "source": [
        "np.array(pd.DataFrame(test_predictions_binary1)[0])"
      ],
      "metadata": {
        "colab": {
          "base_uri": "https://localhost:8080/"
        },
        "id": "8tciJdWAZPzt",
        "outputId": "444a4388-4eac-4008-bd31-23ead00d94fe"
      },
      "execution_count": 26,
      "outputs": [
        {
          "output_type": "execute_result",
          "data": {
            "text/plain": [
              "array([0, 0, 0, ..., 0, 0, 0])"
            ]
          },
          "metadata": {},
          "execution_count": 26
        }
      ]
    },
    {
      "cell_type": "code",
      "source": [
        "# # ### YOUR CODE HERE\n",
        "\n",
        "bert_model = TFBertModel.from_pretrained('bert-base-cased')\n",
        "bert_cnn_model2 = create_bert_cnn_model(bert_model)\n",
        "\n",
        "early_stopping = EarlyStopping(monitor='val_loss', patience=3, restore_best_weights=True)\n",
        "reduce_lr = ReduceLROnPlateau(monitor='val_loss', factor=0.2, patience=2, min_lr=1e-6)\n",
        "\n",
        "bert_cnn_history = bert_cnn_model2.fit(\n",
        "    bert_train_inputs,\n",
        "    bert_train_labels,\n",
        "    validation_data=(bert_val_inputs, bert_val_labels),\n",
        "    batch_size=8,\n",
        "    epochs=10,\n",
        "    callbacks=[early_stopping, reduce_lr]\n",
        ")\n",
        "\n",
        "\n",
        "# # ### END YOUR CODE"
      ],
      "metadata": {
        "id": "DQwHbjh86gfA",
        "colab": {
          "base_uri": "https://localhost:8080/"
        },
        "outputId": "1b630f4a-f49a-4d74-cab5-bb2d89f96153"
      },
      "execution_count": 27,
      "outputs": [
        {
          "output_type": "stream",
          "name": "stdout",
          "text": [
            "Epoch 1/10\n"
          ]
        },
        {
          "output_type": "stream",
          "name": "stderr",
          "text": [
            "WARNING:tensorflow:Gradients do not exist for variables ['tf_bert_model_2/bert/pooler/dense/kernel:0', 'tf_bert_model_2/bert/pooler/dense/bias:0'] when minimizing the loss. If you're using `model.compile()`, did you forget to provide a `loss` argument?\n",
            "WARNING:tensorflow:Gradients do not exist for variables ['tf_bert_model_2/bert/pooler/dense/kernel:0', 'tf_bert_model_2/bert/pooler/dense/bias:0'] when minimizing the loss. If you're using `model.compile()`, did you forget to provide a `loss` argument?\n",
            "WARNING:tensorflow:Gradients do not exist for variables ['tf_bert_model_2/bert/pooler/dense/kernel:0', 'tf_bert_model_2/bert/pooler/dense/bias:0'] when minimizing the loss. If you're using `model.compile()`, did you forget to provide a `loss` argument?\n",
            "WARNING:tensorflow:Gradients do not exist for variables ['tf_bert_model_2/bert/pooler/dense/kernel:0', 'tf_bert_model_2/bert/pooler/dense/bias:0'] when minimizing the loss. If you're using `model.compile()`, did you forget to provide a `loss` argument?\n"
          ]
        },
        {
          "output_type": "stream",
          "name": "stdout",
          "text": [
            "347/347 [==============================] - 137s 256ms/step - loss: 0.6048 - accuracy: 0.7278 - val_loss: 1.4369 - val_accuracy: 0.2550 - lr: 0.0050\n",
            "Epoch 2/10\n",
            "347/347 [==============================] - 80s 232ms/step - loss: 0.5713 - accuracy: 0.7505 - val_loss: 0.9435 - val_accuracy: 0.7450 - lr: 0.0050\n",
            "Epoch 3/10\n",
            "347/347 [==============================] - 80s 230ms/step - loss: 0.5673 - accuracy: 0.7509 - val_loss: 0.7074 - val_accuracy: 0.2550 - lr: 0.0050\n",
            "Epoch 4/10\n",
            "347/347 [==============================] - 75s 215ms/step - loss: 0.5678 - accuracy: 0.7513 - val_loss: 0.6598 - val_accuracy: 0.7450 - lr: 0.0050\n",
            "Epoch 5/10\n",
            "347/347 [==============================] - 79s 229ms/step - loss: 0.5693 - accuracy: 0.7513 - val_loss: 0.5964 - val_accuracy: 0.7450 - lr: 0.0050\n",
            "Epoch 6/10\n",
            "347/347 [==============================] - 80s 229ms/step - loss: 0.5711 - accuracy: 0.7513 - val_loss: 0.5751 - val_accuracy: 0.7450 - lr: 0.0050\n",
            "Epoch 7/10\n",
            "347/347 [==============================] - 79s 228ms/step - loss: 0.5685 - accuracy: 0.7513 - val_loss: 0.8420 - val_accuracy: 0.2550 - lr: 0.0050\n",
            "Epoch 8/10\n",
            "347/347 [==============================] - 79s 227ms/step - loss: 0.5692 - accuracy: 0.7513 - val_loss: 2.8109 - val_accuracy: 0.2550 - lr: 0.0050\n",
            "Epoch 9/10\n",
            "347/347 [==============================] - 79s 228ms/step - loss: 0.5629 - accuracy: 0.7513 - val_loss: 3.0312 - val_accuracy: 0.2550 - lr: 1.0000e-03\n"
          ]
        }
      ]
    },
    {
      "cell_type": "code",
      "source": [
        "\n",
        "test_predictions2 = bert_cnn_model2.predict(bert_test_inputs)\n",
        "test_predictions_binary2 = (test_predictions2 > 0.5).astype(int)\n",
        "\n",
        "# Compute and print classification report\n",
        "print(classification_report(bert_test_labels, test_predictions_binary2))\n",
        "\n",
        "# Compute and print accuracy\n",
        "test_accuracy2 = accuracy_score(bert_test_labels, test_predictions_binary2)\n",
        "print(f\"Test Accuracy: {test_accuracy2}\")\n",
        "\n",
        "f1_sarcastic = f1_score(bert_test_labels,test_predictions_binary2, average = \"binary\", pos_label = 1)\n",
        "print(f\"F1 Sarcastic score: {f1_sarcastic}\")\n"
      ],
      "metadata": {
        "colab": {
          "base_uri": "https://localhost:8080/"
        },
        "id": "ZM0uNue5RO_F",
        "outputId": "f358a6e8-a1ee-4436-fba2-b764739d024b"
      },
      "execution_count": 63,
      "outputs": [
        {
          "output_type": "stream",
          "name": "stdout",
          "text": [
            "44/44 [==============================] - 9s 214ms/step\n",
            "              precision    recall  f1-score   support\n",
            "\n",
            "           0       0.86      1.00      0.92      1200\n",
            "           1       0.00      0.00      0.00       200\n",
            "\n",
            "    accuracy                           0.86      1400\n",
            "   macro avg       0.43      0.50      0.46      1400\n",
            "weighted avg       0.73      0.86      0.79      1400\n",
            "\n",
            "Test Accuracy: 0.8571428571428571\n",
            "F1 Sarcastic score: 0.0\n"
          ]
        },
        {
          "output_type": "stream",
          "name": "stderr",
          "text": [
            "/usr/local/lib/python3.10/dist-packages/sklearn/metrics/_classification.py:1471: UndefinedMetricWarning: Precision and F-score are ill-defined and being set to 0.0 in labels with no predicted samples. Use `zero_division` parameter to control this behavior.\n",
            "  _warn_prf(average, modifier, msg_start, len(result))\n",
            "/usr/local/lib/python3.10/dist-packages/sklearn/metrics/_classification.py:1471: UndefinedMetricWarning: Precision and F-score are ill-defined and being set to 0.0 in labels with no predicted samples. Use `zero_division` parameter to control this behavior.\n",
            "  _warn_prf(average, modifier, msg_start, len(result))\n",
            "/usr/local/lib/python3.10/dist-packages/sklearn/metrics/_classification.py:1471: UndefinedMetricWarning: Precision and F-score are ill-defined and being set to 0.0 in labels with no predicted samples. Use `zero_division` parameter to control this behavior.\n",
            "  _warn_prf(average, modifier, msg_start, len(result))\n"
          ]
        }
      ]
    },
    {
      "cell_type": "code",
      "source": [
        "def create_bert_avg_model(bert_a_model,\n",
        "                          max_sequence_length=MAX_SEQUENCE_LENGTH,\n",
        "                          hidden_size = 100,\n",
        "                          dropout=0.3,\n",
        "                          learning_rate=0.00005,\n",
        "                          num_train_layers=0):\n",
        "    \"\"\"\n",
        "    Build a simple classification model with BERT. Use the average of the BERT output tokens\n",
        "    \"\"\"\n",
        "\n",
        "    ### YOUR CODE HERE\n",
        "\n",
        "    if num_train_layers == 0:\n",
        "        # Freeze all layers of pre-trained BERT model\n",
        "        bert_a_model.trainable = False\n",
        "    elif num_train_layers == 12:\n",
        "        # Train all layers of the BERT model\n",
        "        bert_a_model.trainable = True\n",
        "    else:\n",
        "        # Restrict training to the num_train_layers outer transformer layers\n",
        "        retrain_layers = []\n",
        "        for retrain_layer_number in range(num_train_layers):\n",
        "            layer_code = '_' + str(11 - retrain_layer_number)\n",
        "            retrain_layers.append(layer_code)\n",
        "        print('retrain layers: ', retrain_layers)\n",
        "        for w in bert_a_model.weights:\n",
        "            if not any([x in w.name for x in retrain_layers]):\n",
        "                w._trainable = False\n",
        "\n",
        "    input_ids = tf.keras.layers.Input(shape=(MAX_SEQUENCE_LENGTH,), dtype=tf.int64, name='input_ids_layer')\n",
        "    token_type_ids = tf.keras.layers.Input(shape=(MAX_SEQUENCE_LENGTH,), dtype=tf.int64, name='token_type_ids_layer')\n",
        "    attention_mask = tf.keras.layers.Input(shape=(MAX_SEQUENCE_LENGTH,), dtype=tf.int64, name='attention_mask_layer')\n",
        "\n",
        "    bert_inputs = {'input_ids': input_ids,\n",
        "                   'token_type_ids': token_type_ids,\n",
        "                   'attention_mask': attention_mask}\n",
        "\n",
        "    bert_out = bert_a_model(bert_inputs)\n",
        "\n",
        "    sequence_output = bert_out[0]  # Full sequence output\n",
        "    avg_token_embeddings = tf.math.reduce_mean(sequence_output, axis=1)  # Average across tokens\n",
        "\n",
        "    hidden = tf.keras.layers.Dense(hidden_size, activation='relu', name='hidden_layer')(avg_token_embeddings)\n",
        "    hidden = tf.keras.layers.Dropout(dropout)(hidden)\n",
        "\n",
        "    classification = tf.keras.layers.Dense(1, activation='sigmoid', name='classification_layer')(hidden)\n",
        "\n",
        "    classification_model = tf.keras.Model(inputs=[input_ids, token_type_ids, attention_mask], outputs=[classification])\n",
        "\n",
        "    classification_model.compile(optimizer=tf.keras.optimizers.Adam(learning_rate=learning_rate),\n",
        "                                 loss=tf.keras.losses.BinaryCrossentropy(from_logits=False),\n",
        "                                 metrics=['accuracy'])\n",
        "\n",
        "    ### END YOUR CODE\n",
        "\n",
        "    return classification_model"
      ],
      "metadata": {
        "id": "AlNgQbfYzWHP"
      },
      "execution_count": 29,
      "outputs": []
    },
    {
      "cell_type": "code",
      "source": [
        "bert_model = TFBertModel.from_pretrained('bert-base-cased')\n",
        "bert_avg_model = create_bert_avg_model(bert_model, num_train_layers=12)\n",
        "\n",
        "bert_avg_model_history = bert_avg_model.fit(\n",
        "    bert_train_inputs,\n",
        "    bert_train_labels,\n",
        "    validation_data=(bert_test_inputs, bert_test_labels),\n",
        "    batch_size=8,\n",
        "    epochs=10\n",
        ")"
      ],
      "metadata": {
        "id": "dToKDTMWzcUQ",
        "colab": {
          "base_uri": "https://localhost:8080/"
        },
        "outputId": "04792fdc-be8f-42fe-b29f-8c75de3838cf"
      },
      "execution_count": 30,
      "outputs": [
        {
          "output_type": "stream",
          "name": "stdout",
          "text": [
            "Epoch 1/10\n"
          ]
        },
        {
          "output_type": "stream",
          "name": "stderr",
          "text": [
            "WARNING:tensorflow:Gradients do not exist for variables ['tf_bert_model_3/bert/pooler/dense/kernel:0', 'tf_bert_model_3/bert/pooler/dense/bias:0'] when minimizing the loss. If you're using `model.compile()`, did you forget to provide a `loss` argument?\n",
            "WARNING:tensorflow:Gradients do not exist for variables ['tf_bert_model_3/bert/pooler/dense/kernel:0', 'tf_bert_model_3/bert/pooler/dense/bias:0'] when minimizing the loss. If you're using `model.compile()`, did you forget to provide a `loss` argument?\n",
            "WARNING:tensorflow:Gradients do not exist for variables ['tf_bert_model_3/bert/pooler/dense/kernel:0', 'tf_bert_model_3/bert/pooler/dense/bias:0'] when minimizing the loss. If you're using `model.compile()`, did you forget to provide a `loss` argument?\n",
            "WARNING:tensorflow:Gradients do not exist for variables ['tf_bert_model_3/bert/pooler/dense/kernel:0', 'tf_bert_model_3/bert/pooler/dense/bias:0'] when minimizing the loss. If you're using `model.compile()`, did you forget to provide a `loss` argument?\n"
          ]
        },
        {
          "output_type": "stream",
          "name": "stdout",
          "text": [
            "347/347 [==============================] - 130s 250ms/step - loss: 0.5749 - accuracy: 0.7462 - val_loss: 0.4952 - val_accuracy: 0.8564\n",
            "Epoch 2/10\n",
            "347/347 [==============================] - 80s 230ms/step - loss: 0.5103 - accuracy: 0.7650 - val_loss: 0.4794 - val_accuracy: 0.8486\n",
            "Epoch 3/10\n",
            "347/347 [==============================] - 79s 228ms/step - loss: 0.3532 - accuracy: 0.8533 - val_loss: 0.4340 - val_accuracy: 0.8207\n",
            "Epoch 4/10\n",
            "347/347 [==============================] - 79s 228ms/step - loss: 0.1248 - accuracy: 0.9542 - val_loss: 1.0425 - val_accuracy: 0.7486\n",
            "Epoch 5/10\n",
            "347/347 [==============================] - 78s 224ms/step - loss: 0.0683 - accuracy: 0.9762 - val_loss: 0.8392 - val_accuracy: 0.7729\n",
            "Epoch 6/10\n",
            "347/347 [==============================] - 79s 228ms/step - loss: 0.0442 - accuracy: 0.9867 - val_loss: 0.9260 - val_accuracy: 0.7500\n",
            "Epoch 7/10\n",
            "347/347 [==============================] - 78s 224ms/step - loss: 0.0430 - accuracy: 0.9874 - val_loss: 1.5682 - val_accuracy: 0.6629\n",
            "Epoch 8/10\n",
            "347/347 [==============================] - 77s 223ms/step - loss: 0.0191 - accuracy: 0.9946 - val_loss: 1.4019 - val_accuracy: 0.7364\n",
            "Epoch 9/10\n",
            "347/347 [==============================] - 79s 227ms/step - loss: 0.0305 - accuracy: 0.9921 - val_loss: 1.2961 - val_accuracy: 0.7564\n",
            "Epoch 10/10\n",
            "347/347 [==============================] - 79s 227ms/step - loss: 0.0497 - accuracy: 0.9827 - val_loss: 1.2615 - val_accuracy: 0.7814\n"
          ]
        }
      ]
    },
    {
      "cell_type": "code",
      "source": [
        "# Obtain predicted probabilities for validation set\n",
        "valid_predictions_avg = bert_avg_model.predict(bert_val_inputs)\n",
        "valid_probabilities_avg = valid_predictions_avg.flatten()  # Ensure the shape is correct\n",
        "valid_labels_avg = bert_val_labels.flatten()\n",
        "\n",
        "test_predictions_avg = bert_avg_model.predict(bert_test_inputs)\n",
        "test_probabilities_avg = test_predictions_avg.flatten()  # Ensure the shape is correct\n",
        "# calibrated_probabilities = iso_reg.transform(test_probabilities)\n",
        "\n",
        "# Predict classes using calibrated probabilities\n",
        "predicted_classes_avg = (test_probabilities_avg > np.percentile(test_probabilities_avg, 50))\n",
        "\n",
        "# Evaluate the model using the calibrated probabilities\n",
        "print(classification_report(bert_test_labels, predicted_classes_avg))\n",
        "\n",
        "test_accuracy_avg = accuracy_score(bert_test_labels, predicted_classes_avg)\n",
        "print(f\"Test Accuracy: {test_accuracy_avg}\")\n",
        "\n",
        "f1_sarcastic = f1_score(bert_test_labels,predicted_classes_avg, average = \"binary\", pos_label = 1)\n",
        "print(f\"F1 Sarcastic score: {f1_sarcastic}\")"
      ],
      "metadata": {
        "id": "vgLVFZy3CDa_",
        "colab": {
          "base_uri": "https://localhost:8080/"
        },
        "outputId": "c144a847-425e-42fd-afcf-f3256e298e56"
      },
      "execution_count": 64,
      "outputs": [
        {
          "output_type": "stream",
          "name": "stdout",
          "text": [
            "22/22 [==============================] - 8s 212ms/step\n",
            "44/44 [==============================] - 10s 216ms/step\n",
            "              precision    recall  f1-score   support\n",
            "\n",
            "           0       0.88      0.52      0.65      1200\n",
            "           1       0.17      0.59      0.26       200\n",
            "\n",
            "    accuracy                           0.53      1400\n",
            "   macro avg       0.53      0.56      0.46      1400\n",
            "weighted avg       0.78      0.53      0.60      1400\n",
            "\n",
            "Test Accuracy: 0.5271428571428571\n",
            "F1 Sarcastic score: 0.2644444444444444\n"
          ]
        }
      ]
    },
    {
      "cell_type": "code",
      "source": [
        "def create_bert_avg2_model(bert_a_model,\n",
        "                          max_sequence_length=MAX_SEQUENCE_LENGTH,\n",
        "                          hidden_size = 100,\n",
        "                          dropout=0.3,\n",
        "                          learning_rate=0.0001,\n",
        "                          num_train_layers=0,\n",
        "                          l2_reg=0.01):\n",
        "    \"\"\"\n",
        "    Build a simple classification model with BERT. Use the average of the BERT output tokens\n",
        "    \"\"\"\n",
        "\n",
        "    ### YOUR CODE HERE\n",
        "\n",
        "    if num_train_layers == 0:\n",
        "        # Freeze all layers of pre-trained BERT model\n",
        "        bert_a_model.trainable = False\n",
        "    elif num_train_layers == 12:\n",
        "        # Train all layers of the BERT model\n",
        "        bert_a_model.trainable = True\n",
        "    else:\n",
        "        # Restrict training to the num_train_layers outer transformer layers\n",
        "        retrain_layers = []\n",
        "        for retrain_layer_number in range(num_train_layers):\n",
        "            layer_code = '_' + str(11 - retrain_layer_number)\n",
        "            retrain_layers.append(layer_code)\n",
        "        print('retrain layers: ', retrain_layers)\n",
        "        for w in bert_a_model.weights:\n",
        "            if not any([x in w.name for x in retrain_layers]):\n",
        "                w._trainable = False\n",
        "\n",
        "    input_ids = tf.keras.layers.Input(shape=(MAX_SEQUENCE_LENGTH,), dtype=tf.int64, name='input_ids_layer')\n",
        "    token_type_ids = tf.keras.layers.Input(shape=(MAX_SEQUENCE_LENGTH,), dtype=tf.int64, name='token_type_ids_layer')\n",
        "    attention_mask = tf.keras.layers.Input(shape=(MAX_SEQUENCE_LENGTH,), dtype=tf.int64, name='attention_mask_layer')\n",
        "\n",
        "    bert_inputs = {'input_ids': input_ids,\n",
        "                   'token_type_ids': token_type_ids,\n",
        "                   'attention_mask': attention_mask}\n",
        "\n",
        "    bert_out = bert_a_model(bert_inputs)\n",
        "\n",
        "    sequence_output = bert_out[0]  # Full sequence output\n",
        "    avg_token_embeddings = tf.math.reduce_mean(sequence_output, axis=1)  # Average across tokens\n",
        "\n",
        "    hidden = tf.keras.layers.Dense(hidden_size, activation='relu', kernel_regularizer=l2(l2_reg), name='hidden_layer')(avg_token_embeddings)\n",
        "    hidden = tf.keras.layers.BatchNormalization()(hidden)\n",
        "    hidden = tf.keras.layers.Dropout(dropout)(hidden)\n",
        "\n",
        "    classification = tf.keras.layers.Dense(1, activation='sigmoid', name='classification_layer')(hidden)\n",
        "\n",
        "    classification_model = tf.keras.Model(inputs=[input_ids, token_type_ids, attention_mask], outputs=[classification])\n",
        "\n",
        "    f1_score = F1Score(threshold=0.5)\n",
        "\n",
        "    classification_model.compile(optimizer=tf.keras.optimizers.Adam(learning_rate=learning_rate),\n",
        "                                 loss=tf.keras.losses.BinaryCrossentropy(from_logits=False),\n",
        "                                 metrics=['accuracy', f1_score])\n",
        "\n",
        "    ### END YOUR CODE\n",
        "\n",
        "    return classification_model"
      ],
      "metadata": {
        "id": "UG5tmBb82iNe"
      },
      "execution_count": 31,
      "outputs": []
    },
    {
      "cell_type": "code",
      "source": [
        "bert_model = TFBertModel.from_pretrained('bert-base-cased')\n",
        "bert_avg2_model = create_bert_avg2_model(bert_model, hidden_size=50, dropout=0.4, num_train_layers=5, l2_reg=0.005)\n",
        "early_stopping = EarlyStopping(monitor='val_loss', patience=3, restore_best_weights=True)\n",
        "reduce_lr = ReduceLROnPlateau(monitor='val_loss', factor=0.2, patience=2, min_lr=1e-6)\n",
        "\n",
        "bert_avg2_model_history = bert_avg2_model.fit(\n",
        "    bert_train_inputs,\n",
        "    bert_train_labels,\n",
        "    validation_data=(bert_test_inputs, bert_test_labels),\n",
        "    batch_size=16,\n",
        "    epochs=10,\n",
        "    callbacks=[early_stopping, reduce_lr]\n",
        ")"
      ],
      "metadata": {
        "id": "BeUzrvTM2iz2",
        "colab": {
          "base_uri": "https://localhost:8080/"
        },
        "outputId": "2f07e292-efea-4448-b96c-70e57c90760c"
      },
      "execution_count": 32,
      "outputs": [
        {
          "output_type": "stream",
          "name": "stdout",
          "text": [
            "retrain layers:  ['_11', '_10', '_9', '_8', '_7']\n",
            "Epoch 1/10\n"
          ]
        },
        {
          "output_type": "stream",
          "name": "stderr",
          "text": [
            "WARNING:tensorflow:Gradients do not exist for variables ['tf_bert_model_4/bert/embeddings/word_embeddings/weight:0', 'tf_bert_model_4/bert/embeddings/token_type_embeddings/embeddings:0', 'tf_bert_model_4/bert/embeddings/position_embeddings/embeddings:0', 'tf_bert_model_4/bert/embeddings/LayerNorm/gamma:0', 'tf_bert_model_4/bert/embeddings/LayerNorm/beta:0', 'tf_bert_model_4/bert/encoder/layer_._0/attention/self/query/kernel:0', 'tf_bert_model_4/bert/encoder/layer_._0/attention/self/query/bias:0', 'tf_bert_model_4/bert/encoder/layer_._0/attention/self/key/kernel:0', 'tf_bert_model_4/bert/encoder/layer_._0/attention/self/key/bias:0', 'tf_bert_model_4/bert/encoder/layer_._0/attention/self/value/kernel:0', 'tf_bert_model_4/bert/encoder/layer_._0/attention/self/value/bias:0', 'tf_bert_model_4/bert/encoder/layer_._0/attention/output/dense/kernel:0', 'tf_bert_model_4/bert/encoder/layer_._0/attention/output/dense/bias:0', 'tf_bert_model_4/bert/encoder/layer_._0/attention/output/LayerNorm/gamma:0', 'tf_bert_model_4/bert/encoder/layer_._0/attention/output/LayerNorm/beta:0', 'tf_bert_model_4/bert/encoder/layer_._0/intermediate/dense/kernel:0', 'tf_bert_model_4/bert/encoder/layer_._0/intermediate/dense/bias:0', 'tf_bert_model_4/bert/encoder/layer_._0/output/dense/kernel:0', 'tf_bert_model_4/bert/encoder/layer_._0/output/dense/bias:0', 'tf_bert_model_4/bert/encoder/layer_._0/output/LayerNorm/gamma:0', 'tf_bert_model_4/bert/encoder/layer_._0/output/LayerNorm/beta:0', 'tf_bert_model_4/bert/encoder/layer_._1/attention/self/query/kernel:0', 'tf_bert_model_4/bert/encoder/layer_._1/attention/self/query/bias:0', 'tf_bert_model_4/bert/encoder/layer_._1/attention/self/key/kernel:0', 'tf_bert_model_4/bert/encoder/layer_._1/attention/self/key/bias:0', 'tf_bert_model_4/bert/encoder/layer_._1/attention/self/value/kernel:0', 'tf_bert_model_4/bert/encoder/layer_._1/attention/self/value/bias:0', 'tf_bert_model_4/bert/encoder/layer_._1/attention/output/dense/kernel:0', 'tf_bert_model_4/bert/encoder/layer_._1/attention/output/dense/bias:0', 'tf_bert_model_4/bert/encoder/layer_._1/attention/output/LayerNorm/gamma:0', 'tf_bert_model_4/bert/encoder/layer_._1/attention/output/LayerNorm/beta:0', 'tf_bert_model_4/bert/encoder/layer_._1/intermediate/dense/kernel:0', 'tf_bert_model_4/bert/encoder/layer_._1/intermediate/dense/bias:0', 'tf_bert_model_4/bert/encoder/layer_._1/output/dense/kernel:0', 'tf_bert_model_4/bert/encoder/layer_._1/output/dense/bias:0', 'tf_bert_model_4/bert/encoder/layer_._1/output/LayerNorm/gamma:0', 'tf_bert_model_4/bert/encoder/layer_._1/output/LayerNorm/beta:0', 'tf_bert_model_4/bert/encoder/layer_._2/attention/self/query/kernel:0', 'tf_bert_model_4/bert/encoder/layer_._2/attention/self/query/bias:0', 'tf_bert_model_4/bert/encoder/layer_._2/attention/self/key/kernel:0', 'tf_bert_model_4/bert/encoder/layer_._2/attention/self/key/bias:0', 'tf_bert_model_4/bert/encoder/layer_._2/attention/self/value/kernel:0', 'tf_bert_model_4/bert/encoder/layer_._2/attention/self/value/bias:0', 'tf_bert_model_4/bert/encoder/layer_._2/attention/output/dense/kernel:0', 'tf_bert_model_4/bert/encoder/layer_._2/attention/output/dense/bias:0', 'tf_bert_model_4/bert/encoder/layer_._2/attention/output/LayerNorm/gamma:0', 'tf_bert_model_4/bert/encoder/layer_._2/attention/output/LayerNorm/beta:0', 'tf_bert_model_4/bert/encoder/layer_._2/intermediate/dense/kernel:0', 'tf_bert_model_4/bert/encoder/layer_._2/intermediate/dense/bias:0', 'tf_bert_model_4/bert/encoder/layer_._2/output/dense/kernel:0', 'tf_bert_model_4/bert/encoder/layer_._2/output/dense/bias:0', 'tf_bert_model_4/bert/encoder/layer_._2/output/LayerNorm/gamma:0', 'tf_bert_model_4/bert/encoder/layer_._2/output/LayerNorm/beta:0', 'tf_bert_model_4/bert/encoder/layer_._3/attention/self/query/kernel:0', 'tf_bert_model_4/bert/encoder/layer_._3/attention/self/query/bias:0', 'tf_bert_model_4/bert/encoder/layer_._3/attention/self/key/kernel:0', 'tf_bert_model_4/bert/encoder/layer_._3/attention/self/key/bias:0', 'tf_bert_model_4/bert/encoder/layer_._3/attention/self/value/kernel:0', 'tf_bert_model_4/bert/encoder/layer_._3/attention/self/value/bias:0', 'tf_bert_model_4/bert/encoder/layer_._3/attention/output/dense/kernel:0', 'tf_bert_model_4/bert/encoder/layer_._3/attention/output/dense/bias:0', 'tf_bert_model_4/bert/encoder/layer_._3/attention/output/LayerNorm/gamma:0', 'tf_bert_model_4/bert/encoder/layer_._3/attention/output/LayerNorm/beta:0', 'tf_bert_model_4/bert/encoder/layer_._3/intermediate/dense/kernel:0', 'tf_bert_model_4/bert/encoder/layer_._3/intermediate/dense/bias:0', 'tf_bert_model_4/bert/encoder/layer_._3/output/dense/kernel:0', 'tf_bert_model_4/bert/encoder/layer_._3/output/dense/bias:0', 'tf_bert_model_4/bert/encoder/layer_._3/output/LayerNorm/gamma:0', 'tf_bert_model_4/bert/encoder/layer_._3/output/LayerNorm/beta:0', 'tf_bert_model_4/bert/encoder/layer_._4/attention/self/query/kernel:0', 'tf_bert_model_4/bert/encoder/layer_._4/attention/self/query/bias:0', 'tf_bert_model_4/bert/encoder/layer_._4/attention/self/key/kernel:0', 'tf_bert_model_4/bert/encoder/layer_._4/attention/self/key/bias:0', 'tf_bert_model_4/bert/encoder/layer_._4/attention/self/value/kernel:0', 'tf_bert_model_4/bert/encoder/layer_._4/attention/self/value/bias:0', 'tf_bert_model_4/bert/encoder/layer_._4/attention/output/dense/kernel:0', 'tf_bert_model_4/bert/encoder/layer_._4/attention/output/dense/bias:0', 'tf_bert_model_4/bert/encoder/layer_._4/attention/output/LayerNorm/gamma:0', 'tf_bert_model_4/bert/encoder/layer_._4/attention/output/LayerNorm/beta:0', 'tf_bert_model_4/bert/encoder/layer_._4/intermediate/dense/kernel:0', 'tf_bert_model_4/bert/encoder/layer_._4/intermediate/dense/bias:0', 'tf_bert_model_4/bert/encoder/layer_._4/output/dense/kernel:0', 'tf_bert_model_4/bert/encoder/layer_._4/output/dense/bias:0', 'tf_bert_model_4/bert/encoder/layer_._4/output/LayerNorm/gamma:0', 'tf_bert_model_4/bert/encoder/layer_._4/output/LayerNorm/beta:0', 'tf_bert_model_4/bert/encoder/layer_._5/attention/self/query/kernel:0', 'tf_bert_model_4/bert/encoder/layer_._5/attention/self/query/bias:0', 'tf_bert_model_4/bert/encoder/layer_._5/attention/self/key/kernel:0', 'tf_bert_model_4/bert/encoder/layer_._5/attention/self/key/bias:0', 'tf_bert_model_4/bert/encoder/layer_._5/attention/self/value/kernel:0', 'tf_bert_model_4/bert/encoder/layer_._5/attention/self/value/bias:0', 'tf_bert_model_4/bert/encoder/layer_._5/attention/output/dense/kernel:0', 'tf_bert_model_4/bert/encoder/layer_._5/attention/output/dense/bias:0', 'tf_bert_model_4/bert/encoder/layer_._5/attention/output/LayerNorm/gamma:0', 'tf_bert_model_4/bert/encoder/layer_._5/attention/output/LayerNorm/beta:0', 'tf_bert_model_4/bert/encoder/layer_._5/intermediate/dense/kernel:0', 'tf_bert_model_4/bert/encoder/layer_._5/intermediate/dense/bias:0', 'tf_bert_model_4/bert/encoder/layer_._5/output/dense/kernel:0', 'tf_bert_model_4/bert/encoder/layer_._5/output/dense/bias:0', 'tf_bert_model_4/bert/encoder/layer_._5/output/LayerNorm/gamma:0', 'tf_bert_model_4/bert/encoder/layer_._5/output/LayerNorm/beta:0', 'tf_bert_model_4/bert/encoder/layer_._6/attention/self/query/kernel:0', 'tf_bert_model_4/bert/encoder/layer_._6/attention/self/query/bias:0', 'tf_bert_model_4/bert/encoder/layer_._6/attention/self/key/kernel:0', 'tf_bert_model_4/bert/encoder/layer_._6/attention/self/key/bias:0', 'tf_bert_model_4/bert/encoder/layer_._6/attention/self/value/kernel:0', 'tf_bert_model_4/bert/encoder/layer_._6/attention/self/value/bias:0', 'tf_bert_model_4/bert/encoder/layer_._6/attention/output/dense/kernel:0', 'tf_bert_model_4/bert/encoder/layer_._6/attention/output/dense/bias:0', 'tf_bert_model_4/bert/encoder/layer_._6/attention/output/LayerNorm/gamma:0', 'tf_bert_model_4/bert/encoder/layer_._6/attention/output/LayerNorm/beta:0', 'tf_bert_model_4/bert/encoder/layer_._6/intermediate/dense/kernel:0', 'tf_bert_model_4/bert/encoder/layer_._6/intermediate/dense/bias:0', 'tf_bert_model_4/bert/encoder/layer_._6/output/dense/kernel:0', 'tf_bert_model_4/bert/encoder/layer_._6/output/dense/bias:0', 'tf_bert_model_4/bert/encoder/layer_._6/output/LayerNorm/gamma:0', 'tf_bert_model_4/bert/encoder/layer_._6/output/LayerNorm/beta:0', 'tf_bert_model_4/bert/pooler/dense/kernel:0', 'tf_bert_model_4/bert/pooler/dense/bias:0'] when minimizing the loss. If you're using `model.compile()`, did you forget to provide a `loss` argument?\n",
            "WARNING:tensorflow:Gradients do not exist for variables ['tf_bert_model_4/bert/embeddings/word_embeddings/weight:0', 'tf_bert_model_4/bert/embeddings/token_type_embeddings/embeddings:0', 'tf_bert_model_4/bert/embeddings/position_embeddings/embeddings:0', 'tf_bert_model_4/bert/embeddings/LayerNorm/gamma:0', 'tf_bert_model_4/bert/embeddings/LayerNorm/beta:0', 'tf_bert_model_4/bert/encoder/layer_._0/attention/self/query/kernel:0', 'tf_bert_model_4/bert/encoder/layer_._0/attention/self/query/bias:0', 'tf_bert_model_4/bert/encoder/layer_._0/attention/self/key/kernel:0', 'tf_bert_model_4/bert/encoder/layer_._0/attention/self/key/bias:0', 'tf_bert_model_4/bert/encoder/layer_._0/attention/self/value/kernel:0', 'tf_bert_model_4/bert/encoder/layer_._0/attention/self/value/bias:0', 'tf_bert_model_4/bert/encoder/layer_._0/attention/output/dense/kernel:0', 'tf_bert_model_4/bert/encoder/layer_._0/attention/output/dense/bias:0', 'tf_bert_model_4/bert/encoder/layer_._0/attention/output/LayerNorm/gamma:0', 'tf_bert_model_4/bert/encoder/layer_._0/attention/output/LayerNorm/beta:0', 'tf_bert_model_4/bert/encoder/layer_._0/intermediate/dense/kernel:0', 'tf_bert_model_4/bert/encoder/layer_._0/intermediate/dense/bias:0', 'tf_bert_model_4/bert/encoder/layer_._0/output/dense/kernel:0', 'tf_bert_model_4/bert/encoder/layer_._0/output/dense/bias:0', 'tf_bert_model_4/bert/encoder/layer_._0/output/LayerNorm/gamma:0', 'tf_bert_model_4/bert/encoder/layer_._0/output/LayerNorm/beta:0', 'tf_bert_model_4/bert/encoder/layer_._1/attention/self/query/kernel:0', 'tf_bert_model_4/bert/encoder/layer_._1/attention/self/query/bias:0', 'tf_bert_model_4/bert/encoder/layer_._1/attention/self/key/kernel:0', 'tf_bert_model_4/bert/encoder/layer_._1/attention/self/key/bias:0', 'tf_bert_model_4/bert/encoder/layer_._1/attention/self/value/kernel:0', 'tf_bert_model_4/bert/encoder/layer_._1/attention/self/value/bias:0', 'tf_bert_model_4/bert/encoder/layer_._1/attention/output/dense/kernel:0', 'tf_bert_model_4/bert/encoder/layer_._1/attention/output/dense/bias:0', 'tf_bert_model_4/bert/encoder/layer_._1/attention/output/LayerNorm/gamma:0', 'tf_bert_model_4/bert/encoder/layer_._1/attention/output/LayerNorm/beta:0', 'tf_bert_model_4/bert/encoder/layer_._1/intermediate/dense/kernel:0', 'tf_bert_model_4/bert/encoder/layer_._1/intermediate/dense/bias:0', 'tf_bert_model_4/bert/encoder/layer_._1/output/dense/kernel:0', 'tf_bert_model_4/bert/encoder/layer_._1/output/dense/bias:0', 'tf_bert_model_4/bert/encoder/layer_._1/output/LayerNorm/gamma:0', 'tf_bert_model_4/bert/encoder/layer_._1/output/LayerNorm/beta:0', 'tf_bert_model_4/bert/encoder/layer_._2/attention/self/query/kernel:0', 'tf_bert_model_4/bert/encoder/layer_._2/attention/self/query/bias:0', 'tf_bert_model_4/bert/encoder/layer_._2/attention/self/key/kernel:0', 'tf_bert_model_4/bert/encoder/layer_._2/attention/self/key/bias:0', 'tf_bert_model_4/bert/encoder/layer_._2/attention/self/value/kernel:0', 'tf_bert_model_4/bert/encoder/layer_._2/attention/self/value/bias:0', 'tf_bert_model_4/bert/encoder/layer_._2/attention/output/dense/kernel:0', 'tf_bert_model_4/bert/encoder/layer_._2/attention/output/dense/bias:0', 'tf_bert_model_4/bert/encoder/layer_._2/attention/output/LayerNorm/gamma:0', 'tf_bert_model_4/bert/encoder/layer_._2/attention/output/LayerNorm/beta:0', 'tf_bert_model_4/bert/encoder/layer_._2/intermediate/dense/kernel:0', 'tf_bert_model_4/bert/encoder/layer_._2/intermediate/dense/bias:0', 'tf_bert_model_4/bert/encoder/layer_._2/output/dense/kernel:0', 'tf_bert_model_4/bert/encoder/layer_._2/output/dense/bias:0', 'tf_bert_model_4/bert/encoder/layer_._2/output/LayerNorm/gamma:0', 'tf_bert_model_4/bert/encoder/layer_._2/output/LayerNorm/beta:0', 'tf_bert_model_4/bert/encoder/layer_._3/attention/self/query/kernel:0', 'tf_bert_model_4/bert/encoder/layer_._3/attention/self/query/bias:0', 'tf_bert_model_4/bert/encoder/layer_._3/attention/self/key/kernel:0', 'tf_bert_model_4/bert/encoder/layer_._3/attention/self/key/bias:0', 'tf_bert_model_4/bert/encoder/layer_._3/attention/self/value/kernel:0', 'tf_bert_model_4/bert/encoder/layer_._3/attention/self/value/bias:0', 'tf_bert_model_4/bert/encoder/layer_._3/attention/output/dense/kernel:0', 'tf_bert_model_4/bert/encoder/layer_._3/attention/output/dense/bias:0', 'tf_bert_model_4/bert/encoder/layer_._3/attention/output/LayerNorm/gamma:0', 'tf_bert_model_4/bert/encoder/layer_._3/attention/output/LayerNorm/beta:0', 'tf_bert_model_4/bert/encoder/layer_._3/intermediate/dense/kernel:0', 'tf_bert_model_4/bert/encoder/layer_._3/intermediate/dense/bias:0', 'tf_bert_model_4/bert/encoder/layer_._3/output/dense/kernel:0', 'tf_bert_model_4/bert/encoder/layer_._3/output/dense/bias:0', 'tf_bert_model_4/bert/encoder/layer_._3/output/LayerNorm/gamma:0', 'tf_bert_model_4/bert/encoder/layer_._3/output/LayerNorm/beta:0', 'tf_bert_model_4/bert/encoder/layer_._4/attention/self/query/kernel:0', 'tf_bert_model_4/bert/encoder/layer_._4/attention/self/query/bias:0', 'tf_bert_model_4/bert/encoder/layer_._4/attention/self/key/kernel:0', 'tf_bert_model_4/bert/encoder/layer_._4/attention/self/key/bias:0', 'tf_bert_model_4/bert/encoder/layer_._4/attention/self/value/kernel:0', 'tf_bert_model_4/bert/encoder/layer_._4/attention/self/value/bias:0', 'tf_bert_model_4/bert/encoder/layer_._4/attention/output/dense/kernel:0', 'tf_bert_model_4/bert/encoder/layer_._4/attention/output/dense/bias:0', 'tf_bert_model_4/bert/encoder/layer_._4/attention/output/LayerNorm/gamma:0', 'tf_bert_model_4/bert/encoder/layer_._4/attention/output/LayerNorm/beta:0', 'tf_bert_model_4/bert/encoder/layer_._4/intermediate/dense/kernel:0', 'tf_bert_model_4/bert/encoder/layer_._4/intermediate/dense/bias:0', 'tf_bert_model_4/bert/encoder/layer_._4/output/dense/kernel:0', 'tf_bert_model_4/bert/encoder/layer_._4/output/dense/bias:0', 'tf_bert_model_4/bert/encoder/layer_._4/output/LayerNorm/gamma:0', 'tf_bert_model_4/bert/encoder/layer_._4/output/LayerNorm/beta:0', 'tf_bert_model_4/bert/encoder/layer_._5/attention/self/query/kernel:0', 'tf_bert_model_4/bert/encoder/layer_._5/attention/self/query/bias:0', 'tf_bert_model_4/bert/encoder/layer_._5/attention/self/key/kernel:0', 'tf_bert_model_4/bert/encoder/layer_._5/attention/self/key/bias:0', 'tf_bert_model_4/bert/encoder/layer_._5/attention/self/value/kernel:0', 'tf_bert_model_4/bert/encoder/layer_._5/attention/self/value/bias:0', 'tf_bert_model_4/bert/encoder/layer_._5/attention/output/dense/kernel:0', 'tf_bert_model_4/bert/encoder/layer_._5/attention/output/dense/bias:0', 'tf_bert_model_4/bert/encoder/layer_._5/attention/output/LayerNorm/gamma:0', 'tf_bert_model_4/bert/encoder/layer_._5/attention/output/LayerNorm/beta:0', 'tf_bert_model_4/bert/encoder/layer_._5/intermediate/dense/kernel:0', 'tf_bert_model_4/bert/encoder/layer_._5/intermediate/dense/bias:0', 'tf_bert_model_4/bert/encoder/layer_._5/output/dense/kernel:0', 'tf_bert_model_4/bert/encoder/layer_._5/output/dense/bias:0', 'tf_bert_model_4/bert/encoder/layer_._5/output/LayerNorm/gamma:0', 'tf_bert_model_4/bert/encoder/layer_._5/output/LayerNorm/beta:0', 'tf_bert_model_4/bert/encoder/layer_._6/attention/self/query/kernel:0', 'tf_bert_model_4/bert/encoder/layer_._6/attention/self/query/bias:0', 'tf_bert_model_4/bert/encoder/layer_._6/attention/self/key/kernel:0', 'tf_bert_model_4/bert/encoder/layer_._6/attention/self/key/bias:0', 'tf_bert_model_4/bert/encoder/layer_._6/attention/self/value/kernel:0', 'tf_bert_model_4/bert/encoder/layer_._6/attention/self/value/bias:0', 'tf_bert_model_4/bert/encoder/layer_._6/attention/output/dense/kernel:0', 'tf_bert_model_4/bert/encoder/layer_._6/attention/output/dense/bias:0', 'tf_bert_model_4/bert/encoder/layer_._6/attention/output/LayerNorm/gamma:0', 'tf_bert_model_4/bert/encoder/layer_._6/attention/output/LayerNorm/beta:0', 'tf_bert_model_4/bert/encoder/layer_._6/intermediate/dense/kernel:0', 'tf_bert_model_4/bert/encoder/layer_._6/intermediate/dense/bias:0', 'tf_bert_model_4/bert/encoder/layer_._6/output/dense/kernel:0', 'tf_bert_model_4/bert/encoder/layer_._6/output/dense/bias:0', 'tf_bert_model_4/bert/encoder/layer_._6/output/LayerNorm/gamma:0', 'tf_bert_model_4/bert/encoder/layer_._6/output/LayerNorm/beta:0', 'tf_bert_model_4/bert/pooler/dense/kernel:0', 'tf_bert_model_4/bert/pooler/dense/bias:0'] when minimizing the loss. If you're using `model.compile()`, did you forget to provide a `loss` argument?\n",
            "WARNING:tensorflow:Gradients do not exist for variables ['tf_bert_model_4/bert/embeddings/word_embeddings/weight:0', 'tf_bert_model_4/bert/embeddings/token_type_embeddings/embeddings:0', 'tf_bert_model_4/bert/embeddings/position_embeddings/embeddings:0', 'tf_bert_model_4/bert/embeddings/LayerNorm/gamma:0', 'tf_bert_model_4/bert/embeddings/LayerNorm/beta:0', 'tf_bert_model_4/bert/encoder/layer_._0/attention/self/query/kernel:0', 'tf_bert_model_4/bert/encoder/layer_._0/attention/self/query/bias:0', 'tf_bert_model_4/bert/encoder/layer_._0/attention/self/key/kernel:0', 'tf_bert_model_4/bert/encoder/layer_._0/attention/self/key/bias:0', 'tf_bert_model_4/bert/encoder/layer_._0/attention/self/value/kernel:0', 'tf_bert_model_4/bert/encoder/layer_._0/attention/self/value/bias:0', 'tf_bert_model_4/bert/encoder/layer_._0/attention/output/dense/kernel:0', 'tf_bert_model_4/bert/encoder/layer_._0/attention/output/dense/bias:0', 'tf_bert_model_4/bert/encoder/layer_._0/attention/output/LayerNorm/gamma:0', 'tf_bert_model_4/bert/encoder/layer_._0/attention/output/LayerNorm/beta:0', 'tf_bert_model_4/bert/encoder/layer_._0/intermediate/dense/kernel:0', 'tf_bert_model_4/bert/encoder/layer_._0/intermediate/dense/bias:0', 'tf_bert_model_4/bert/encoder/layer_._0/output/dense/kernel:0', 'tf_bert_model_4/bert/encoder/layer_._0/output/dense/bias:0', 'tf_bert_model_4/bert/encoder/layer_._0/output/LayerNorm/gamma:0', 'tf_bert_model_4/bert/encoder/layer_._0/output/LayerNorm/beta:0', 'tf_bert_model_4/bert/encoder/layer_._1/attention/self/query/kernel:0', 'tf_bert_model_4/bert/encoder/layer_._1/attention/self/query/bias:0', 'tf_bert_model_4/bert/encoder/layer_._1/attention/self/key/kernel:0', 'tf_bert_model_4/bert/encoder/layer_._1/attention/self/key/bias:0', 'tf_bert_model_4/bert/encoder/layer_._1/attention/self/value/kernel:0', 'tf_bert_model_4/bert/encoder/layer_._1/attention/self/value/bias:0', 'tf_bert_model_4/bert/encoder/layer_._1/attention/output/dense/kernel:0', 'tf_bert_model_4/bert/encoder/layer_._1/attention/output/dense/bias:0', 'tf_bert_model_4/bert/encoder/layer_._1/attention/output/LayerNorm/gamma:0', 'tf_bert_model_4/bert/encoder/layer_._1/attention/output/LayerNorm/beta:0', 'tf_bert_model_4/bert/encoder/layer_._1/intermediate/dense/kernel:0', 'tf_bert_model_4/bert/encoder/layer_._1/intermediate/dense/bias:0', 'tf_bert_model_4/bert/encoder/layer_._1/output/dense/kernel:0', 'tf_bert_model_4/bert/encoder/layer_._1/output/dense/bias:0', 'tf_bert_model_4/bert/encoder/layer_._1/output/LayerNorm/gamma:0', 'tf_bert_model_4/bert/encoder/layer_._1/output/LayerNorm/beta:0', 'tf_bert_model_4/bert/encoder/layer_._2/attention/self/query/kernel:0', 'tf_bert_model_4/bert/encoder/layer_._2/attention/self/query/bias:0', 'tf_bert_model_4/bert/encoder/layer_._2/attention/self/key/kernel:0', 'tf_bert_model_4/bert/encoder/layer_._2/attention/self/key/bias:0', 'tf_bert_model_4/bert/encoder/layer_._2/attention/self/value/kernel:0', 'tf_bert_model_4/bert/encoder/layer_._2/attention/self/value/bias:0', 'tf_bert_model_4/bert/encoder/layer_._2/attention/output/dense/kernel:0', 'tf_bert_model_4/bert/encoder/layer_._2/attention/output/dense/bias:0', 'tf_bert_model_4/bert/encoder/layer_._2/attention/output/LayerNorm/gamma:0', 'tf_bert_model_4/bert/encoder/layer_._2/attention/output/LayerNorm/beta:0', 'tf_bert_model_4/bert/encoder/layer_._2/intermediate/dense/kernel:0', 'tf_bert_model_4/bert/encoder/layer_._2/intermediate/dense/bias:0', 'tf_bert_model_4/bert/encoder/layer_._2/output/dense/kernel:0', 'tf_bert_model_4/bert/encoder/layer_._2/output/dense/bias:0', 'tf_bert_model_4/bert/encoder/layer_._2/output/LayerNorm/gamma:0', 'tf_bert_model_4/bert/encoder/layer_._2/output/LayerNorm/beta:0', 'tf_bert_model_4/bert/encoder/layer_._3/attention/self/query/kernel:0', 'tf_bert_model_4/bert/encoder/layer_._3/attention/self/query/bias:0', 'tf_bert_model_4/bert/encoder/layer_._3/attention/self/key/kernel:0', 'tf_bert_model_4/bert/encoder/layer_._3/attention/self/key/bias:0', 'tf_bert_model_4/bert/encoder/layer_._3/attention/self/value/kernel:0', 'tf_bert_model_4/bert/encoder/layer_._3/attention/self/value/bias:0', 'tf_bert_model_4/bert/encoder/layer_._3/attention/output/dense/kernel:0', 'tf_bert_model_4/bert/encoder/layer_._3/attention/output/dense/bias:0', 'tf_bert_model_4/bert/encoder/layer_._3/attention/output/LayerNorm/gamma:0', 'tf_bert_model_4/bert/encoder/layer_._3/attention/output/LayerNorm/beta:0', 'tf_bert_model_4/bert/encoder/layer_._3/intermediate/dense/kernel:0', 'tf_bert_model_4/bert/encoder/layer_._3/intermediate/dense/bias:0', 'tf_bert_model_4/bert/encoder/layer_._3/output/dense/kernel:0', 'tf_bert_model_4/bert/encoder/layer_._3/output/dense/bias:0', 'tf_bert_model_4/bert/encoder/layer_._3/output/LayerNorm/gamma:0', 'tf_bert_model_4/bert/encoder/layer_._3/output/LayerNorm/beta:0', 'tf_bert_model_4/bert/encoder/layer_._4/attention/self/query/kernel:0', 'tf_bert_model_4/bert/encoder/layer_._4/attention/self/query/bias:0', 'tf_bert_model_4/bert/encoder/layer_._4/attention/self/key/kernel:0', 'tf_bert_model_4/bert/encoder/layer_._4/attention/self/key/bias:0', 'tf_bert_model_4/bert/encoder/layer_._4/attention/self/value/kernel:0', 'tf_bert_model_4/bert/encoder/layer_._4/attention/self/value/bias:0', 'tf_bert_model_4/bert/encoder/layer_._4/attention/output/dense/kernel:0', 'tf_bert_model_4/bert/encoder/layer_._4/attention/output/dense/bias:0', 'tf_bert_model_4/bert/encoder/layer_._4/attention/output/LayerNorm/gamma:0', 'tf_bert_model_4/bert/encoder/layer_._4/attention/output/LayerNorm/beta:0', 'tf_bert_model_4/bert/encoder/layer_._4/intermediate/dense/kernel:0', 'tf_bert_model_4/bert/encoder/layer_._4/intermediate/dense/bias:0', 'tf_bert_model_4/bert/encoder/layer_._4/output/dense/kernel:0', 'tf_bert_model_4/bert/encoder/layer_._4/output/dense/bias:0', 'tf_bert_model_4/bert/encoder/layer_._4/output/LayerNorm/gamma:0', 'tf_bert_model_4/bert/encoder/layer_._4/output/LayerNorm/beta:0', 'tf_bert_model_4/bert/encoder/layer_._5/attention/self/query/kernel:0', 'tf_bert_model_4/bert/encoder/layer_._5/attention/self/query/bias:0', 'tf_bert_model_4/bert/encoder/layer_._5/attention/self/key/kernel:0', 'tf_bert_model_4/bert/encoder/layer_._5/attention/self/key/bias:0', 'tf_bert_model_4/bert/encoder/layer_._5/attention/self/value/kernel:0', 'tf_bert_model_4/bert/encoder/layer_._5/attention/self/value/bias:0', 'tf_bert_model_4/bert/encoder/layer_._5/attention/output/dense/kernel:0', 'tf_bert_model_4/bert/encoder/layer_._5/attention/output/dense/bias:0', 'tf_bert_model_4/bert/encoder/layer_._5/attention/output/LayerNorm/gamma:0', 'tf_bert_model_4/bert/encoder/layer_._5/attention/output/LayerNorm/beta:0', 'tf_bert_model_4/bert/encoder/layer_._5/intermediate/dense/kernel:0', 'tf_bert_model_4/bert/encoder/layer_._5/intermediate/dense/bias:0', 'tf_bert_model_4/bert/encoder/layer_._5/output/dense/kernel:0', 'tf_bert_model_4/bert/encoder/layer_._5/output/dense/bias:0', 'tf_bert_model_4/bert/encoder/layer_._5/output/LayerNorm/gamma:0', 'tf_bert_model_4/bert/encoder/layer_._5/output/LayerNorm/beta:0', 'tf_bert_model_4/bert/encoder/layer_._6/attention/self/query/kernel:0', 'tf_bert_model_4/bert/encoder/layer_._6/attention/self/query/bias:0', 'tf_bert_model_4/bert/encoder/layer_._6/attention/self/key/kernel:0', 'tf_bert_model_4/bert/encoder/layer_._6/attention/self/key/bias:0', 'tf_bert_model_4/bert/encoder/layer_._6/attention/self/value/kernel:0', 'tf_bert_model_4/bert/encoder/layer_._6/attention/self/value/bias:0', 'tf_bert_model_4/bert/encoder/layer_._6/attention/output/dense/kernel:0', 'tf_bert_model_4/bert/encoder/layer_._6/attention/output/dense/bias:0', 'tf_bert_model_4/bert/encoder/layer_._6/attention/output/LayerNorm/gamma:0', 'tf_bert_model_4/bert/encoder/layer_._6/attention/output/LayerNorm/beta:0', 'tf_bert_model_4/bert/encoder/layer_._6/intermediate/dense/kernel:0', 'tf_bert_model_4/bert/encoder/layer_._6/intermediate/dense/bias:0', 'tf_bert_model_4/bert/encoder/layer_._6/output/dense/kernel:0', 'tf_bert_model_4/bert/encoder/layer_._6/output/dense/bias:0', 'tf_bert_model_4/bert/encoder/layer_._6/output/LayerNorm/gamma:0', 'tf_bert_model_4/bert/encoder/layer_._6/output/LayerNorm/beta:0', 'tf_bert_model_4/bert/pooler/dense/kernel:0', 'tf_bert_model_4/bert/pooler/dense/bias:0'] when minimizing the loss. If you're using `model.compile()`, did you forget to provide a `loss` argument?\n",
            "WARNING:tensorflow:Gradients do not exist for variables ['tf_bert_model_4/bert/embeddings/word_embeddings/weight:0', 'tf_bert_model_4/bert/embeddings/token_type_embeddings/embeddings:0', 'tf_bert_model_4/bert/embeddings/position_embeddings/embeddings:0', 'tf_bert_model_4/bert/embeddings/LayerNorm/gamma:0', 'tf_bert_model_4/bert/embeddings/LayerNorm/beta:0', 'tf_bert_model_4/bert/encoder/layer_._0/attention/self/query/kernel:0', 'tf_bert_model_4/bert/encoder/layer_._0/attention/self/query/bias:0', 'tf_bert_model_4/bert/encoder/layer_._0/attention/self/key/kernel:0', 'tf_bert_model_4/bert/encoder/layer_._0/attention/self/key/bias:0', 'tf_bert_model_4/bert/encoder/layer_._0/attention/self/value/kernel:0', 'tf_bert_model_4/bert/encoder/layer_._0/attention/self/value/bias:0', 'tf_bert_model_4/bert/encoder/layer_._0/attention/output/dense/kernel:0', 'tf_bert_model_4/bert/encoder/layer_._0/attention/output/dense/bias:0', 'tf_bert_model_4/bert/encoder/layer_._0/attention/output/LayerNorm/gamma:0', 'tf_bert_model_4/bert/encoder/layer_._0/attention/output/LayerNorm/beta:0', 'tf_bert_model_4/bert/encoder/layer_._0/intermediate/dense/kernel:0', 'tf_bert_model_4/bert/encoder/layer_._0/intermediate/dense/bias:0', 'tf_bert_model_4/bert/encoder/layer_._0/output/dense/kernel:0', 'tf_bert_model_4/bert/encoder/layer_._0/output/dense/bias:0', 'tf_bert_model_4/bert/encoder/layer_._0/output/LayerNorm/gamma:0', 'tf_bert_model_4/bert/encoder/layer_._0/output/LayerNorm/beta:0', 'tf_bert_model_4/bert/encoder/layer_._1/attention/self/query/kernel:0', 'tf_bert_model_4/bert/encoder/layer_._1/attention/self/query/bias:0', 'tf_bert_model_4/bert/encoder/layer_._1/attention/self/key/kernel:0', 'tf_bert_model_4/bert/encoder/layer_._1/attention/self/key/bias:0', 'tf_bert_model_4/bert/encoder/layer_._1/attention/self/value/kernel:0', 'tf_bert_model_4/bert/encoder/layer_._1/attention/self/value/bias:0', 'tf_bert_model_4/bert/encoder/layer_._1/attention/output/dense/kernel:0', 'tf_bert_model_4/bert/encoder/layer_._1/attention/output/dense/bias:0', 'tf_bert_model_4/bert/encoder/layer_._1/attention/output/LayerNorm/gamma:0', 'tf_bert_model_4/bert/encoder/layer_._1/attention/output/LayerNorm/beta:0', 'tf_bert_model_4/bert/encoder/layer_._1/intermediate/dense/kernel:0', 'tf_bert_model_4/bert/encoder/layer_._1/intermediate/dense/bias:0', 'tf_bert_model_4/bert/encoder/layer_._1/output/dense/kernel:0', 'tf_bert_model_4/bert/encoder/layer_._1/output/dense/bias:0', 'tf_bert_model_4/bert/encoder/layer_._1/output/LayerNorm/gamma:0', 'tf_bert_model_4/bert/encoder/layer_._1/output/LayerNorm/beta:0', 'tf_bert_model_4/bert/encoder/layer_._2/attention/self/query/kernel:0', 'tf_bert_model_4/bert/encoder/layer_._2/attention/self/query/bias:0', 'tf_bert_model_4/bert/encoder/layer_._2/attention/self/key/kernel:0', 'tf_bert_model_4/bert/encoder/layer_._2/attention/self/key/bias:0', 'tf_bert_model_4/bert/encoder/layer_._2/attention/self/value/kernel:0', 'tf_bert_model_4/bert/encoder/layer_._2/attention/self/value/bias:0', 'tf_bert_model_4/bert/encoder/layer_._2/attention/output/dense/kernel:0', 'tf_bert_model_4/bert/encoder/layer_._2/attention/output/dense/bias:0', 'tf_bert_model_4/bert/encoder/layer_._2/attention/output/LayerNorm/gamma:0', 'tf_bert_model_4/bert/encoder/layer_._2/attention/output/LayerNorm/beta:0', 'tf_bert_model_4/bert/encoder/layer_._2/intermediate/dense/kernel:0', 'tf_bert_model_4/bert/encoder/layer_._2/intermediate/dense/bias:0', 'tf_bert_model_4/bert/encoder/layer_._2/output/dense/kernel:0', 'tf_bert_model_4/bert/encoder/layer_._2/output/dense/bias:0', 'tf_bert_model_4/bert/encoder/layer_._2/output/LayerNorm/gamma:0', 'tf_bert_model_4/bert/encoder/layer_._2/output/LayerNorm/beta:0', 'tf_bert_model_4/bert/encoder/layer_._3/attention/self/query/kernel:0', 'tf_bert_model_4/bert/encoder/layer_._3/attention/self/query/bias:0', 'tf_bert_model_4/bert/encoder/layer_._3/attention/self/key/kernel:0', 'tf_bert_model_4/bert/encoder/layer_._3/attention/self/key/bias:0', 'tf_bert_model_4/bert/encoder/layer_._3/attention/self/value/kernel:0', 'tf_bert_model_4/bert/encoder/layer_._3/attention/self/value/bias:0', 'tf_bert_model_4/bert/encoder/layer_._3/attention/output/dense/kernel:0', 'tf_bert_model_4/bert/encoder/layer_._3/attention/output/dense/bias:0', 'tf_bert_model_4/bert/encoder/layer_._3/attention/output/LayerNorm/gamma:0', 'tf_bert_model_4/bert/encoder/layer_._3/attention/output/LayerNorm/beta:0', 'tf_bert_model_4/bert/encoder/layer_._3/intermediate/dense/kernel:0', 'tf_bert_model_4/bert/encoder/layer_._3/intermediate/dense/bias:0', 'tf_bert_model_4/bert/encoder/layer_._3/output/dense/kernel:0', 'tf_bert_model_4/bert/encoder/layer_._3/output/dense/bias:0', 'tf_bert_model_4/bert/encoder/layer_._3/output/LayerNorm/gamma:0', 'tf_bert_model_4/bert/encoder/layer_._3/output/LayerNorm/beta:0', 'tf_bert_model_4/bert/encoder/layer_._4/attention/self/query/kernel:0', 'tf_bert_model_4/bert/encoder/layer_._4/attention/self/query/bias:0', 'tf_bert_model_4/bert/encoder/layer_._4/attention/self/key/kernel:0', 'tf_bert_model_4/bert/encoder/layer_._4/attention/self/key/bias:0', 'tf_bert_model_4/bert/encoder/layer_._4/attention/self/value/kernel:0', 'tf_bert_model_4/bert/encoder/layer_._4/attention/self/value/bias:0', 'tf_bert_model_4/bert/encoder/layer_._4/attention/output/dense/kernel:0', 'tf_bert_model_4/bert/encoder/layer_._4/attention/output/dense/bias:0', 'tf_bert_model_4/bert/encoder/layer_._4/attention/output/LayerNorm/gamma:0', 'tf_bert_model_4/bert/encoder/layer_._4/attention/output/LayerNorm/beta:0', 'tf_bert_model_4/bert/encoder/layer_._4/intermediate/dense/kernel:0', 'tf_bert_model_4/bert/encoder/layer_._4/intermediate/dense/bias:0', 'tf_bert_model_4/bert/encoder/layer_._4/output/dense/kernel:0', 'tf_bert_model_4/bert/encoder/layer_._4/output/dense/bias:0', 'tf_bert_model_4/bert/encoder/layer_._4/output/LayerNorm/gamma:0', 'tf_bert_model_4/bert/encoder/layer_._4/output/LayerNorm/beta:0', 'tf_bert_model_4/bert/encoder/layer_._5/attention/self/query/kernel:0', 'tf_bert_model_4/bert/encoder/layer_._5/attention/self/query/bias:0', 'tf_bert_model_4/bert/encoder/layer_._5/attention/self/key/kernel:0', 'tf_bert_model_4/bert/encoder/layer_._5/attention/self/key/bias:0', 'tf_bert_model_4/bert/encoder/layer_._5/attention/self/value/kernel:0', 'tf_bert_model_4/bert/encoder/layer_._5/attention/self/value/bias:0', 'tf_bert_model_4/bert/encoder/layer_._5/attention/output/dense/kernel:0', 'tf_bert_model_4/bert/encoder/layer_._5/attention/output/dense/bias:0', 'tf_bert_model_4/bert/encoder/layer_._5/attention/output/LayerNorm/gamma:0', 'tf_bert_model_4/bert/encoder/layer_._5/attention/output/LayerNorm/beta:0', 'tf_bert_model_4/bert/encoder/layer_._5/intermediate/dense/kernel:0', 'tf_bert_model_4/bert/encoder/layer_._5/intermediate/dense/bias:0', 'tf_bert_model_4/bert/encoder/layer_._5/output/dense/kernel:0', 'tf_bert_model_4/bert/encoder/layer_._5/output/dense/bias:0', 'tf_bert_model_4/bert/encoder/layer_._5/output/LayerNorm/gamma:0', 'tf_bert_model_4/bert/encoder/layer_._5/output/LayerNorm/beta:0', 'tf_bert_model_4/bert/encoder/layer_._6/attention/self/query/kernel:0', 'tf_bert_model_4/bert/encoder/layer_._6/attention/self/query/bias:0', 'tf_bert_model_4/bert/encoder/layer_._6/attention/self/key/kernel:0', 'tf_bert_model_4/bert/encoder/layer_._6/attention/self/key/bias:0', 'tf_bert_model_4/bert/encoder/layer_._6/attention/self/value/kernel:0', 'tf_bert_model_4/bert/encoder/layer_._6/attention/self/value/bias:0', 'tf_bert_model_4/bert/encoder/layer_._6/attention/output/dense/kernel:0', 'tf_bert_model_4/bert/encoder/layer_._6/attention/output/dense/bias:0', 'tf_bert_model_4/bert/encoder/layer_._6/attention/output/LayerNorm/gamma:0', 'tf_bert_model_4/bert/encoder/layer_._6/attention/output/LayerNorm/beta:0', 'tf_bert_model_4/bert/encoder/layer_._6/intermediate/dense/kernel:0', 'tf_bert_model_4/bert/encoder/layer_._6/intermediate/dense/bias:0', 'tf_bert_model_4/bert/encoder/layer_._6/output/dense/kernel:0', 'tf_bert_model_4/bert/encoder/layer_._6/output/dense/bias:0', 'tf_bert_model_4/bert/encoder/layer_._6/output/LayerNorm/gamma:0', 'tf_bert_model_4/bert/encoder/layer_._6/output/LayerNorm/beta:0', 'tf_bert_model_4/bert/pooler/dense/kernel:0', 'tf_bert_model_4/bert/pooler/dense/bias:0'] when minimizing the loss. If you're using `model.compile()`, did you forget to provide a `loss` argument?\n"
          ]
        },
        {
          "output_type": "stream",
          "name": "stdout",
          "text": [
            "174/174 [==============================] - 76s 300ms/step - loss: 1.2560 - accuracy: 0.5252 - f1_score: 0.3418 - val_loss: 1.4476 - val_accuracy: 0.1664 - val_f1_score: 0.2534 - lr: 1.0000e-04\n",
            "Epoch 2/10\n",
            "174/174 [==============================] - 47s 270ms/step - loss: 1.1261 - accuracy: 0.6107 - f1_score: 0.4237 - val_loss: 0.7875 - val_accuracy: 0.8650 - val_f1_score: 0.3923 - lr: 1.0000e-04\n",
            "Epoch 3/10\n",
            "174/174 [==============================] - 47s 272ms/step - loss: 1.0193 - accuracy: 0.6738 - f1_score: 0.4754 - val_loss: 2.5283 - val_accuracy: 0.1429 - val_f1_score: 0.2500 - lr: 1.0000e-04\n",
            "Epoch 4/10\n",
            "174/174 [==============================] - 47s 269ms/step - loss: 0.9003 - accuracy: 0.7383 - f1_score: 0.5502 - val_loss: 0.8227 - val_accuracy: 0.8500 - val_f1_score: 0.3046 - lr: 1.0000e-04\n",
            "Epoch 5/10\n",
            "174/174 [==============================] - 48s 274ms/step - loss: 0.6966 - accuracy: 0.8637 - f1_score: 0.7364 - val_loss: 1.1803 - val_accuracy: 0.7450 - val_f1_score: 0.3659 - lr: 2.0000e-05\n"
          ]
        }
      ]
    },
    {
      "cell_type": "code",
      "source": [
        "test_predictions = bert_avg2_model.predict(bert_test_inputs)\n",
        "test_predictions_binary = (test_predictions > 0.5).astype(int)\n",
        "\n",
        "# Compute and print classification report\n",
        "print(classification_report(bert_test_labels, test_predictions_binary))\n",
        "\n",
        "# Compute and print accuracy\n",
        "test_accuracy = accuracy_score(bert_test_labels, test_predictions_binary)\n",
        "print(f\"Test Accuracy: {test_accuracy}\")\n",
        "\n",
        "f1_sarcastic = f1_score(bert_test_labels,test_predictions_binary, average = \"binary\", pos_label = 1)\n",
        "print(f\"F1 Sarcastic score: {f1_sarcastic}\")"
      ],
      "metadata": {
        "colab": {
          "base_uri": "https://localhost:8080/"
        },
        "id": "HRd9NkwsRnXT",
        "outputId": "25eb8814-f63b-4b30-e544-d2db9e92d002"
      },
      "execution_count": 65,
      "outputs": [
        {
          "output_type": "stream",
          "name": "stdout",
          "text": [
            "44/44 [==============================] - 10s 215ms/step\n",
            "              precision    recall  f1-score   support\n",
            "\n",
            "           0       0.89      0.96      0.92      1200\n",
            "           1       0.55      0.30      0.39       200\n",
            "\n",
            "    accuracy                           0.86      1400\n",
            "   macro avg       0.72      0.63      0.66      1400\n",
            "weighted avg       0.84      0.86      0.85      1400\n",
            "\n",
            "Test Accuracy: 0.865\n",
            "F1 Sarcastic score: 0.3922829581993569\n"
          ]
        }
      ]
    },
    {
      "cell_type": "code",
      "source": [
        "fig, axs = plt.subplots(2, 2)\n",
        "fig.subplots_adjust(left=0.2, wspace=0.6)\n",
        "make_plot(axs,\n",
        "          bert_cnn_history1,\n",
        "          bert_avg2_model_history,\n",
        "          model_1_name='cnn',\n",
        "          model_2_name='avg2')\n",
        "\n",
        "fig.align_ylabels(axs[:, 1])\n",
        "fig.set_size_inches(18.5, 10.5)\n",
        "plt.ylim(0, 1)\n",
        "plt.show()\n"
      ],
      "metadata": {
        "id": "_EhBe89Uc9VR",
        "colab": {
          "base_uri": "https://localhost:8080/",
          "height": 891
        },
        "outputId": "a2f8f25c-a3e7-4a4e-96d4-01bd938ceed2"
      },
      "execution_count": 34,
      "outputs": [
        {
          "output_type": "display_data",
          "data": {
            "text/plain": [
              "<Figure size 1850x1050 with 4 Axes>"
            ],
            "image/png": "[encoded data removed]"
          },
          "metadata": {}
        }
      ]
    },
    {
      "cell_type": "markdown",
      "source": [
        "## to here"
      ],
      "metadata": {
        "id": "AuyCaht4Dz2X"
      }
    },
    {
      "cell_type": "markdown",
      "source": [
        "# Subtask B: Multiclass Classification\n"
      ],
      "metadata": {
        "id": "XECwV6IiN64P"
      }
    },
    {
      "cell_type": "code",
      "source": [
        "#@title Data Import for Subtask B\n",
        "train_df_b = pd.read_csv('/content/drive/MyDrive/MIDS W266/train.En.csv')\n",
        "train_df_b = train_df_b[~train_df_b['sarcasm'].isna()]\n",
        "test_df_b = pd.read_csv('/content/drive/MyDrive/MIDS W266/task_B_En_test.csv')\n",
        "test_df_b = test_df_b[test_df_b['sarcasm']+test_df_b['irony']+test_df_b['satire']+test_df_b['understatement']+test_df_b['overstatement']+test_df_b['rhetorical_question'] != 0]\n",
        "\n",
        "# Extract texts and labels\n",
        "train_texts_b = train_df_b['tweet'].tolist()\n",
        "test_texts_b = test_df_b['text'].tolist()\n",
        "\n",
        "# Extract labels (assuming binary columns)\n",
        "# class_columns = ['sarcasm', 'irony', 'satire', 'understatement', 'overstatement', 'rhetorical_question']\n",
        "class_columns = ['sarcasm', 'irony', 'satire', 'overstatement', 'rhetorical_question']\n",
        "train_labels_b = train_df_b[class_columns].values\n",
        "test_labels_b = test_df_b[class_columns].values\n",
        "\n",
        "# Split training data into training and validation sets\n",
        "train_texts_b, valid_texts_b, train_labels_b, valid_labels_b = train_test_split(train_texts_b, train_labels_b, test_size=0.2, random_state=42)\n",
        "\n",
        "# Target names\n",
        "target_names = class_columns\n",
        "npvalid_labels = np.asarray(valid_labels_b)"
      ],
      "metadata": {
        "id": "Le4lP7ZdN_7y"
      },
      "execution_count": 35,
      "outputs": []
    },
    {
      "cell_type": "code",
      "source": [
        "print(sum(test_labels_b) / len(test_labels_b))\n",
        "\n",
        "true_labels = np.zeros((1000,5))\n",
        "true_labels[np.random.choice(range(1000), 900, replace=False),0] = 1\n",
        "true_labels[np.random.choice(range(1000), 100, replace=False),1] = 1\n",
        "true_labels[np.random.choice(range(1000), 245, replace=False),2] = 1\n",
        "true_labels[np.random.choice(range(1000), 50, replace=False),3] = 1\n",
        "true_labels[np.random.choice(range(1000), 55, replace=False),4] = 1\n",
        "\n",
        "predicted_labels = np.zeros((1000,5))\n",
        "predicted_labels[np.random.choice(range(1000), 500, replace=False),0] = 1\n",
        "predicted_labels[np.random.choice(range(1000), 500, replace=False),1] = 1\n",
        "predicted_labels[np.random.choice(range(1000), 500, replace=False),2] = 1\n",
        "predicted_labels[np.random.choice(range(1000), 500, replace=False),3] = 1\n",
        "predicted_labels[np.random.choice(range(1000), 500, replace=False),4] = 1\n",
        "\n",
        "print(classification_report(true_labels, predicted_labels, target_names=target_names, zero_division=0))\n",
        "\n",
        "# accuracy = accuracy_score(true_labels, predicted_labels)\n",
        "# print(f\"Accuracy: {accuracy}\")\n",
        "# print(f\"F1 Score: {f1_score(true_labels, predicted_labels, average='binary',pos_label=1)}\")\n",
        "# print(f\"Precision: {precision_score(true_labels, predicted_labels)}\")\n",
        "# print(f\"Recall: {recall_score(true_labels, predicted_labels)}\")"
      ],
      "metadata": {
        "colab": {
          "base_uri": "https://localhost:8080/"
        },
        "id": "ChMavKVKwWUs",
        "outputId": "232cfb15-87f5-45b8-bcd5-ea51df987d3c"
      },
      "execution_count": 36,
      "outputs": [
        {
          "output_type": "stream",
          "name": "stdout",
          "text": [
            "[0.9   0.1   0.245 0.05  0.055]\n",
            "                     precision    recall  f1-score   support\n",
            "\n",
            "            sarcasm       0.91      0.50      0.65       900\n",
            "              irony       0.09      0.46      0.15       100\n",
            "             satire       0.23      0.48      0.31       245\n",
            "      overstatement       0.05      0.48      0.09        50\n",
            "rhetorical_question       0.06      0.58      0.12        55\n",
            "\n",
            "          micro avg       0.27      0.50      0.35      1350\n",
            "          macro avg       0.27      0.50      0.26      1350\n",
            "       weighted avg       0.66      0.50      0.51      1350\n",
            "        samples avg       0.26      0.47      0.31      1350\n",
            "\n"
          ]
        }
      ]
    },
    {
      "cell_type": "markdown",
      "source": [
        "## 5 Categories"
      ],
      "metadata": {
        "id": "Bl6N3_0sEOd7"
      }
    },
    {
      "cell_type": "code",
      "source": [
        "#make it easier to use a variety of BERT subword models\n",
        "model_checkpoint = 'bert-base-cased'\n",
        "\n",
        "bert_tokenizer = BertTokenizer.from_pretrained(model_checkpoint)\n",
        "bert_model = TFBertModel.from_pretrained(model_checkpoint)\n",
        "max_length = 200\n"
      ],
      "metadata": {
        "id": "-xADGNxWUyIc"
      },
      "execution_count": 37,
      "outputs": []
    },
    {
      "cell_type": "code",
      "source": [
        "# tokenize the dataset, truncate at `max_length`,\n",
        "# and pad with 0's when less than `max_length` and return a tf Tensor\n",
        "train_encodings = bert_tokenizer(train_texts_b, truncation=True, padding='max_length', max_length=max_length, return_tensors='tf')\n",
        "valid_encodings = bert_tokenizer(valid_texts_b, truncation=True, padding='max_length', max_length=max_length, return_tensors='tf')\n",
        "test_encodings = bert_tokenizer(test_texts_b, truncation=True, padding='max_length', max_length=max_length, return_tensors='tf')\n"
      ],
      "metadata": {
        "id": "pkctl5V6Vika"
      },
      "execution_count": 38,
      "outputs": []
    },
    {
      "cell_type": "code",
      "source": [
        "def create_bert_multiclass_model(checkpoint = model_checkpoint,\n",
        "                                 num_classes = 6,\n",
        "                                 hidden_size = 50,\n",
        "                                 dropout=0.3,\n",
        "                                 learning_rate=0.00005,\n",
        "                                 l2_reg=0.01):\n",
        "    \"\"\"\n",
        "    Build a simple classification model with BERT. Use the Pooler Output for classification purposes.\n",
        "    \"\"\"\n",
        "    ### YOUR CODE HERE\n",
        "\n",
        "    # Load the BERT model\n",
        "    bert_model = TFBertModel.from_pretrained(checkpoint)\n",
        "\n",
        "    # Define the input layer with the appropriate shape for BERT inputs\n",
        "    input_ids = keras.layers.Input(shape=(max_length,), dtype='int32', name='input_ids')\n",
        "    # token_type_ids = keras.layers.Input(shape=(max_length,), dtype='int32', name='token_type_ids')\n",
        "    attention_mask = keras.layers.Input(shape=(max_length,), dtype='int32', name='attention_mask')\n",
        "\n",
        "    # Get the pooled output from BERT model\n",
        "    bert_outputs = bert_model(input_ids, attention_mask=attention_mask)\n",
        "    # pooled_output = bert_outputs.pooler_output\n",
        "    sequence_output = bert_outputs.last_hidden_state\n",
        "    avg_token_embeddings = tf.reduce_mean(sequence_output, axis=1)\n",
        "\n",
        "    # Add a hidden layer with dropout\n",
        "    hidden_output = keras.layers.Dense(hidden_size, activation='relu', kernel_regularizer=tf.keras.regularizers.l2(l2_reg))(avg_token_embeddings)\n",
        "    dropout_output = keras.layers.Dropout(dropout)(hidden_output)\n",
        "\n",
        "    # Add the classification layer\n",
        "    classification_output = keras.layers.Dense(num_classes, activation='sigmoid')(dropout_output)\n",
        "\n",
        "    # Build the model\n",
        "    classification_model = keras.Model(inputs=[input_ids, attention_mask], outputs=classification_output)\n",
        "\n",
        "    # Compile the model with the appropriate loss function and optimizer\n",
        "    classification_model.compile(optimizer=keras.optimizers.Adam(learning_rate=learning_rate),\n",
        "                                 loss=keras.losses.BinaryCrossentropy(from_logits=False),\n",
        "                                 metrics=['accuracy', keras.metrics.CategoricalAccuracy()])\n",
        "\n",
        "    ### END YOUR CODE\n",
        "    return classification_model\n"
      ],
      "metadata": {
        "id": "oP2TTdzZVgxv"
      },
      "execution_count": 39,
      "outputs": []
    },
    {
      "cell_type": "code",
      "source": [
        "def get_class_weights(y_true):\n",
        "    class_weights = {}\n",
        "    for i in range(y_true.shape[1]):\n",
        "        class_labels = np.unique(y_true[:, i])\n",
        "        class_weights[i] = compute_class_weight('balanced', classes=class_labels, y=y_true[:, i])\n",
        "    return class_weights\n",
        "\n",
        "class_weights = get_class_weights(train_labels_b)\n",
        "# print(class_weights)\n",
        "\n",
        "# print(sample_weights)\n",
        "# class_weights[2] = np.array([1,17.325]) # don't use\n",
        "# class_weights[3] = np.array([3, 49.5])\n",
        "# class_weights[4] = np.array([1, 4.125])\n",
        "\n",
        "sample_weights = np.ones(train_labels_b.shape[0])\n",
        "for i in range(train_labels_b.shape[1]):\n",
        "    sample_weights *= np.where(train_labels_b[:, i] == 1, class_weights[i][1], class_weights[i][0])\n",
        "\n",
        "# class_weights\n",
        "\n",
        "# sample_weights"
      ],
      "metadata": {
        "id": "lCfJdmKPdfYY"
      },
      "execution_count": 40,
      "outputs": []
    },
    {
      "cell_type": "code",
      "source": [
        "pooler_bert_model = create_bert_multiclass_model(checkpoint=model_checkpoint, num_classes=5)\n",
        "pooler_bert_model.summary()"
      ],
      "metadata": {
        "id": "Iaho_O0HWFiV",
        "colab": {
          "base_uri": "https://localhost:8080/"
        },
        "outputId": "9284e91f-a921-4a8e-f436-1c1e0f19ebfc"
      },
      "execution_count": 41,
      "outputs": [
        {
          "output_type": "stream",
          "name": "stdout",
          "text": [
            "Model: \"model_6\"\n",
            "__________________________________________________________________________________________________\n",
            " Layer (type)                Output Shape                 Param #   Connected to                  \n",
            "==================================================================================================\n",
            " input_ids (InputLayer)      [(None, 200)]                0         []                            \n",
            "                                                                                                  \n",
            " attention_mask (InputLayer  [(None, 200)]                0         []                            \n",
            " )                                                                                                \n",
            "                                                                                                  \n",
            " tf_bert_model_6 (TFBertMod  TFBaseModelOutputWithPooli   1083102   ['input_ids[0][0]',           \n",
            " el)                         ngAndCrossAttentions(last_   72         'attention_mask[0][0]']      \n",
            "                             hidden_state=(None, 200, 7                                           \n",
            "                             68),                                                                 \n",
            "                              pooler_output=(None, 768)                                           \n",
            "                             , past_key_values=None, hi                                           \n",
            "                             dden_states=None, attentio                                           \n",
            "                             ns=None, cross_attentions=                                           \n",
            "                             None)                                                                \n",
            "                                                                                                  \n",
            " tf.math.reduce_mean_2 (TFO  (None, 768)                  0         ['tf_bert_model_6[0][0]']     \n",
            " pLambda)                                                                                         \n",
            "                                                                                                  \n",
            " dense (Dense)               (None, 50)                   38450     ['tf.math.reduce_mean_2[0][0]'\n",
            "                                                                    ]                             \n",
            "                                                                                                  \n",
            " dropout_265 (Dropout)       (None, 50)                   0         ['dense[0][0]']               \n",
            "                                                                                                  \n",
            " dense_1 (Dense)             (None, 5)                    255       ['dropout_265[0][0]']         \n",
            "                                                                                                  \n",
            "==================================================================================================\n",
            "Total params: 108348977 (413.32 MB)\n",
            "Trainable params: 108348977 (413.32 MB)\n",
            "Non-trainable params: 0 (0.00 Byte)\n",
            "__________________________________________________________________________________________________\n"
          ]
        }
      ]
    },
    {
      "cell_type": "code",
      "source": [
        "early_stopping = EarlyStopping(monitor='val_loss', patience=3, restore_best_weights=True)\n",
        "reduce_lr = ReduceLROnPlateau(monitor='val_loss', factor=0.2, patience=2, min_lr=1e-6)\n",
        "\n",
        "pooler_bert_model_history = pooler_bert_model.fit([train_encodings.input_ids, train_encodings.attention_mask],\n",
        "                                                  train_labels_b,\n",
        "                                                  validation_data=([valid_encodings.input_ids, valid_encodings.attention_mask],\n",
        "                                                  npvalid_labels),\n",
        "                                                  batch_size=8,\n",
        "                                                  epochs=10,\n",
        "                                                  callbacks=[early_stopping, reduce_lr],\n",
        "                                                  sample_weight=sample_weights\n",
        "                                                  )"
      ],
      "metadata": {
        "id": "RQW2VoDGVfNy",
        "colab": {
          "base_uri": "https://localhost:8080/"
        },
        "outputId": "db0cf348-7e7b-4f84-f44d-160c9b92a529"
      },
      "execution_count": 42,
      "outputs": [
        {
          "output_type": "stream",
          "name": "stdout",
          "text": [
            "Epoch 1/10\n"
          ]
        },
        {
          "output_type": "stream",
          "name": "stderr",
          "text": [
            "WARNING:tensorflow:Gradients do not exist for variables ['tf_bert_model_6/bert/pooler/dense/kernel:0', 'tf_bert_model_6/bert/pooler/dense/bias:0'] when minimizing the loss. If you're using `model.compile()`, did you forget to provide a `loss` argument?\n",
            "WARNING:tensorflow:Gradients do not exist for variables ['tf_bert_model_6/bert/pooler/dense/kernel:0', 'tf_bert_model_6/bert/pooler/dense/bias:0'] when minimizing the loss. If you're using `model.compile()`, did you forget to provide a `loss` argument?\n",
            "WARNING:tensorflow:Gradients do not exist for variables ['tf_bert_model_6/bert/pooler/dense/kernel:0', 'tf_bert_model_6/bert/pooler/dense/bias:0'] when minimizing the loss. If you're using `model.compile()`, did you forget to provide a `loss` argument?\n",
            "WARNING:tensorflow:Gradients do not exist for variables ['tf_bert_model_6/bert/pooler/dense/kernel:0', 'tf_bert_model_6/bert/pooler/dense/bias:0'] when minimizing the loss. If you're using `model.compile()`, did you forget to provide a `loss` argument?\n"
          ]
        },
        {
          "output_type": "stream",
          "name": "stdout",
          "text": [
            "87/87 [==============================] - 87s 476ms/step - loss: 1.3916 - accuracy: 0.2381 - categorical_accuracy: 0.2381 - val_loss: 1.7049 - val_accuracy: 0.1494 - val_categorical_accuracy: 0.1494 - lr: 5.0000e-05\n",
            "Epoch 2/10\n",
            "87/87 [==============================] - 37s 423ms/step - loss: 1.2745 - accuracy: 0.1962 - categorical_accuracy: 0.1962 - val_loss: 1.4736 - val_accuracy: 0.1609 - val_categorical_accuracy: 0.1609 - lr: 5.0000e-05\n",
            "Epoch 3/10\n",
            "87/87 [==============================] - 35s 398ms/step - loss: 1.0529 - accuracy: 0.4069 - categorical_accuracy: 0.4069 - val_loss: 1.4434 - val_accuracy: 0.3678 - val_categorical_accuracy: 0.3678 - lr: 5.0000e-05\n",
            "Epoch 4/10\n",
            "87/87 [==============================] - 34s 394ms/step - loss: 0.9689 - accuracy: 0.6046 - categorical_accuracy: 0.6046 - val_loss: 1.2582 - val_accuracy: 0.5517 - val_categorical_accuracy: 0.5517 - lr: 5.0000e-05\n",
            "Epoch 5/10\n",
            "87/87 [==============================] - 35s 397ms/step - loss: 0.8898 - accuracy: 0.5960 - categorical_accuracy: 0.5960 - val_loss: 1.1268 - val_accuracy: 0.6839 - val_categorical_accuracy: 0.6839 - lr: 5.0000e-05\n",
            "Epoch 6/10\n",
            "87/87 [==============================] - 36s 419ms/step - loss: 0.7663 - accuracy: 0.7734 - categorical_accuracy: 0.7734 - val_loss: 1.1365 - val_accuracy: 0.6552 - val_categorical_accuracy: 0.6552 - lr: 5.0000e-05\n",
            "Epoch 7/10\n",
            "87/87 [==============================] - 36s 418ms/step - loss: 0.7052 - accuracy: 0.8874 - categorical_accuracy: 0.8874 - val_loss: 1.1286 - val_accuracy: 0.6552 - val_categorical_accuracy: 0.6552 - lr: 5.0000e-05\n",
            "Epoch 8/10\n",
            "87/87 [==============================] - 34s 396ms/step - loss: 0.6867 - accuracy: 0.8874 - categorical_accuracy: 0.8874 - val_loss: 1.1157 - val_accuracy: 0.7299 - val_categorical_accuracy: 0.7299 - lr: 1.0000e-05\n",
            "Epoch 9/10\n",
            "87/87 [==============================] - 37s 429ms/step - loss: 0.6780 - accuracy: 0.9235 - categorical_accuracy: 0.9235 - val_loss: 1.0869 - val_accuracy: 0.7471 - val_categorical_accuracy: 0.7471 - lr: 1.0000e-05\n",
            "Epoch 10/10\n",
            "87/87 [==============================] - 37s 420ms/step - loss: 0.6665 - accuracy: 0.9149 - categorical_accuracy: 0.9149 - val_loss: 1.1019 - val_accuracy: 0.7414 - val_categorical_accuracy: 0.7414 - lr: 1.0000e-05\n"
          ]
        }
      ]
    },
    {
      "cell_type": "code",
      "source": [
        "#eval b=8 e=1 dim=201\n",
        "score = pooler_bert_model.evaluate([test_encodings.input_ids,\n",
        "                                    # valid_encodings.token_type_ids,\n",
        "                                    test_encodings.attention_mask],\n",
        "                                                  test_labels_b)\n",
        "\n",
        "print('Test loss:', score[0])\n",
        "print('Test accuracy:', score[1])"
      ],
      "metadata": {
        "id": "mSiPqD_zWcVP",
        "colab": {
          "base_uri": "https://localhost:8080/"
        },
        "outputId": "90584466-4db6-4d63-b990-e8d8727164e9"
      },
      "execution_count": 43,
      "outputs": [
        {
          "output_type": "stream",
          "name": "stdout",
          "text": [
            "7/7 [==============================] - 9s 379ms/step - loss: 1.1362 - accuracy: 0.7950 - categorical_accuracy: 0.7950\n",
            "Test loss: 1.1362085342407227\n",
            "Test accuracy: 0.7950000166893005\n"
          ]
        }
      ]
    },
    {
      "cell_type": "code",
      "source": [
        "#run and capture all predictions from our test set using model.predict\n",
        "### YOUR CODE HERE\n",
        "predictions_model1 = pooler_bert_model.predict([test_encodings.input_ids,\n",
        "                                                # valid_encodings.token_type_ids,\n",
        "                                                test_encodings.attention_mask])\n",
        "### END YOUR CODE\n",
        "\n",
        "#now we need to get the highest probability in the distribution for each prediction\n",
        "#and store that in a tf.Tensor\n",
        "# predictions_model1 = tf.argmax(predictions_model1, axis=-1)\n",
        "# predictions_model1"
      ],
      "metadata": {
        "id": "t23vFVfcWgyM",
        "colab": {
          "base_uri": "https://localhost:8080/"
        },
        "outputId": "f79e6a2a-02e6-430e-d0f8-a34e42d0a791"
      },
      "execution_count": 44,
      "outputs": [
        {
          "output_type": "stream",
          "name": "stdout",
          "text": [
            "7/7 [==============================] - 6s 371ms/step\n"
          ]
        }
      ]
    },
    {
      "cell_type": "code",
      "source": [
        "preds = (predictions_model1 > (1/6)).astype(int)\n",
        "print(classification_report(test_labels_b, preds, target_names=target_names, zero_division=0))\n",
        "# test_labels_b.shape"
      ],
      "metadata": {
        "id": "GAuAK0VZZ1EN",
        "colab": {
          "base_uri": "https://localhost:8080/"
        },
        "outputId": "0fb717ac-309a-4ba5-821b-e439885dabb4"
      },
      "execution_count": 45,
      "outputs": [
        {
          "output_type": "stream",
          "name": "stdout",
          "text": [
            "                     precision    recall  f1-score   support\n",
            "\n",
            "            sarcasm       0.95      0.90      0.92       180\n",
            "              irony       0.26      0.90      0.40        20\n",
            "             satire       0.71      0.31      0.43        49\n",
            "      overstatement       0.08      0.10      0.09        10\n",
            "rhetorical_question       0.42      0.73      0.53        11\n",
            "\n",
            "          micro avg       0.70      0.76      0.72       270\n",
            "          macro avg       0.48      0.59      0.48       270\n",
            "       weighted avg       0.80      0.76      0.75       270\n",
            "        samples avg       0.74      0.80      0.74       270\n",
            "\n"
          ]
        }
      ]
    },
    {
      "cell_type": "markdown",
      "source": [
        "## All categories"
      ],
      "metadata": {
        "id": "DhQ159NFEKwr"
      }
    },
    {
      "cell_type": "code",
      "source": [
        "train_df_b = pd.read_csv('/content/drive/MyDrive/MIDS W266/train.En.csv')\n",
        "train_df_b = train_df_b[~train_df_b['sarcasm'].isna()]\n",
        "test_df_b = pd.read_csv('/content/drive/MyDrive/MIDS W266/task_B_En_test.csv')\n",
        "test_df_b = test_df_b[test_df_b['sarcasm']+test_df_b['irony']+test_df_b['satire']+test_df_b['understatement']+test_df_b['overstatement']+test_df_b['rhetorical_question'] != 0]\n",
        "\n",
        "# Extract texts and labels\n",
        "train_texts_b = train_df_b['tweet'].tolist()\n",
        "test_texts_b = test_df_b['text'].tolist()\n",
        "\n",
        "\n",
        "class_columns = ['sarcasm', 'irony', 'satire', 'understatement', 'overstatement', 'rhetorical_question']\n",
        "# class_columns = ['sarcasm', 'irony', 'satire', 'overstatement', 'rhetorical_question']\n",
        "train_labels_b = train_df_b[class_columns].values\n",
        "test_labels_b = test_df_b[class_columns].values\n",
        "\n",
        "# Split training data into training and validation sets\n",
        "train_texts_b, valid_texts_b, train_labels_b, valid_labels_b = train_test_split(train_texts_b, train_labels_b, test_size=0.2, random_state=42)\n",
        "\n",
        "# Target names\n",
        "target_names = class_columns\n",
        "npvalid_labels = np.asarray(valid_labels_b)"
      ],
      "metadata": {
        "id": "Ar8V7slsYGZC"
      },
      "execution_count": 46,
      "outputs": []
    },
    {
      "cell_type": "code",
      "source": [
        "print(sum(test_labels_b) / len(test_labels_b))\n",
        "\n",
        "true_labels = np.zeros((1000,6))\n",
        "true_labels[np.random.choice(range(1000), 900, replace=False),0] = 1\n",
        "true_labels[np.random.choice(range(1000), 100, replace=False),1] = 1\n",
        "true_labels[np.random.choice(range(1000), 245, replace=False),2] = 1\n",
        "true_labels[np.random.choice(range(1000), 5, replace=False),3] = 1\n",
        "true_labels[np.random.choice(range(1000), 50, replace=False),4] = 1\n",
        "true_labels[np.random.choice(range(1000), 55, replace=False),5] = 1\n",
        "\n",
        "\n",
        "predicted_labels = np.zeros((1000,6))\n",
        "predicted_labels[np.random.choice(range(1000), 500, replace=False),0] = 1\n",
        "predicted_labels[np.random.choice(range(1000), 500, replace=False),1] = 1\n",
        "predicted_labels[np.random.choice(range(1000), 500, replace=False),2] = 1\n",
        "predicted_labels[np.random.choice(range(1000), 500, replace=False),3] = 1\n",
        "predicted_labels[np.random.choice(range(1000), 500, replace=False),4] = 1\n",
        "predicted_labels[np.random.choice(range(1000), 500, replace=False),5] = 1\n",
        "\n",
        "print(classification_report(true_labels, predicted_labels, target_names=target_names, zero_division=0))\n",
        "accuracy_score(true_labels, predicted_labels)"
      ],
      "metadata": {
        "colab": {
          "base_uri": "https://localhost:8080/"
        },
        "id": "vIDz3PQnx9MG",
        "outputId": "e36c8d9c-a6ee-476d-f67d-6b0f957c7cc0"
      },
      "execution_count": 47,
      "outputs": [
        {
          "output_type": "stream",
          "name": "stdout",
          "text": [
            "[0.9   0.1   0.245 0.005 0.05  0.055]\n",
            "                     precision    recall  f1-score   support\n",
            "\n",
            "            sarcasm       0.88      0.49      0.63       900\n",
            "              irony       0.10      0.52      0.17       100\n",
            "             satire       0.24      0.49      0.32       245\n",
            "     understatement       0.01      0.60      0.01         5\n",
            "      overstatement       0.04      0.40      0.07        50\n",
            "rhetorical_question       0.04      0.40      0.08        55\n",
            "\n",
            "          micro avg       0.22      0.48      0.30      1355\n",
            "          macro avg       0.22      0.48      0.21      1355\n",
            "       weighted avg       0.64      0.48      0.49      1355\n",
            "        samples avg       0.22      0.45      0.27      1355\n",
            "\n"
          ]
        },
        {
          "output_type": "execute_result",
          "data": {
            "text/plain": [
              "0.017"
            ]
          },
          "metadata": {},
          "execution_count": 47
        }
      ]
    },
    {
      "cell_type": "code",
      "source": [
        "#make it easier to use a variety of BERT subword models\n",
        "model_checkpoint = 'bert-base-cased'\n",
        "\n",
        "bert_tokenizer = BertTokenizer.from_pretrained(model_checkpoint)\n",
        "bert_model = TFBertModel.from_pretrained(model_checkpoint)\n",
        "max_length = 200\n"
      ],
      "metadata": {
        "id": "0GxsqK23YI84"
      },
      "execution_count": 48,
      "outputs": []
    },
    {
      "cell_type": "code",
      "source": [
        "# tokenize the dataset, truncate at `max_length`,\n",
        "# and pad with 0's when less than `max_length` and return a tf Tensor\n",
        "train_encodings = bert_tokenizer(train_texts_b, truncation=True, padding='max_length', max_length=max_length, return_tensors='tf')\n",
        "valid_encodings = bert_tokenizer(valid_texts_b, truncation=True, padding='max_length', max_length=max_length, return_tensors='tf')\n",
        "test_encodings = bert_tokenizer(test_texts_b, truncation=True, padding='max_length', max_length=max_length, return_tensors='tf')\n"
      ],
      "metadata": {
        "id": "Jkc6xB-0YSXj"
      },
      "execution_count": 49,
      "outputs": []
    },
    {
      "cell_type": "code",
      "source": [
        "def get_class_weights(y_true):\n",
        "    class_weights = {}\n",
        "    for i in range(y_true.shape[1]):\n",
        "        class_labels = np.unique(y_true[:, i])\n",
        "        class_weights[i] = compute_class_weight('balanced', classes=class_labels, y=y_true[:, i])\n",
        "    return class_weights\n",
        "\n",
        "class_weights = get_class_weights(train_labels_b)\n",
        "# print(class_weights)\n",
        "\n",
        "# print(sample_weights)\n",
        "# class_weights[2] = np.array([1,17.325]) # don't use\n",
        "class_weights[3] = np.array([3, 49.5])\n",
        "class_weights[4] = np.array([1, 4.125])\n",
        "\n",
        "sample_weights = np.ones(train_labels_b.shape[0])\n",
        "for i in range(train_labels_b.shape[1]):\n",
        "    sample_weights *= np.where(train_labels_b[:, i] == 1, class_weights[i][1], class_weights[i][0])\n",
        "\n",
        "class_weights"
      ],
      "metadata": {
        "colab": {
          "base_uri": "https://localhost:8080/"
        },
        "id": "B6cAQEkJX77c",
        "outputId": "9fbc74c9-e5e1-490b-dc62-5496ac453520"
      },
      "execution_count": 50,
      "outputs": [
        {
          "output_type": "execute_result",
          "data": {
            "text/plain": [
              "{0: array([2.70703125, 0.61327434]),\n",
              " 1: array([0.6143617 , 2.68604651]),\n",
              " 2: array([ 0.51485884, 17.325     ]),\n",
              " 3: array([ 3. , 49.5]),\n",
              " 4: array([1.   , 4.125]),\n",
              " 5: array([0.56896552, 4.125     ])}"
            ]
          },
          "metadata": {},
          "execution_count": 50
        }
      ]
    },
    {
      "cell_type": "code",
      "source": [
        "pooler_bert_model6 = create_bert_multiclass_model(checkpoint=model_checkpoint, num_classes=6)\n",
        "pooler_bert_model6.summary()"
      ],
      "metadata": {
        "colab": {
          "base_uri": "https://localhost:8080/"
        },
        "id": "DI66cFESYQ4q",
        "outputId": "d7e0e9bf-5949-4873-a707-2c7005ae3d2d"
      },
      "execution_count": 51,
      "outputs": [
        {
          "output_type": "stream",
          "name": "stdout",
          "text": [
            "Model: \"model_7\"\n",
            "__________________________________________________________________________________________________\n",
            " Layer (type)                Output Shape                 Param #   Connected to                  \n",
            "==================================================================================================\n",
            " input_ids (InputLayer)      [(None, 200)]                0         []                            \n",
            "                                                                                                  \n",
            " attention_mask (InputLayer  [(None, 200)]                0         []                            \n",
            " )                                                                                                \n",
            "                                                                                                  \n",
            " tf_bert_model_8 (TFBertMod  TFBaseModelOutputWithPooli   1083102   ['input_ids[0][0]',           \n",
            " el)                         ngAndCrossAttentions(last_   72         'attention_mask[0][0]']      \n",
            "                             hidden_state=(None, 200, 7                                           \n",
            "                             68),                                                                 \n",
            "                              pooler_output=(None, 768)                                           \n",
            "                             , past_key_values=None, hi                                           \n",
            "                             dden_states=None, attentio                                           \n",
            "                             ns=None, cross_attentions=                                           \n",
            "                             None)                                                                \n",
            "                                                                                                  \n",
            " tf.math.reduce_mean_3 (TFO  (None, 768)                  0         ['tf_bert_model_8[0][0]']     \n",
            " pLambda)                                                                                         \n",
            "                                                                                                  \n",
            " dense_2 (Dense)             (None, 50)                   38450     ['tf.math.reduce_mean_3[0][0]'\n",
            "                                                                    ]                             \n",
            "                                                                                                  \n",
            " dropout_340 (Dropout)       (None, 50)                   0         ['dense_2[0][0]']             \n",
            "                                                                                                  \n",
            " dense_3 (Dense)             (None, 6)                    306       ['dropout_340[0][0]']         \n",
            "                                                                                                  \n",
            "==================================================================================================\n",
            "Total params: 108349028 (413.32 MB)\n",
            "Trainable params: 108349028 (413.32 MB)\n",
            "Non-trainable params: 0 (0.00 Byte)\n",
            "__________________________________________________________________________________________________\n"
          ]
        }
      ]
    },
    {
      "cell_type": "code",
      "source": [
        "early_stopping = EarlyStopping(monitor='val_loss', patience=3, restore_best_weights=True)\n",
        "reduce_lr = ReduceLROnPlateau(monitor='val_loss', factor=0.2, patience=2, min_lr=1e-6)\n",
        "\n",
        "pooler_bert_model_history6 = pooler_bert_model6.fit([train_encodings.input_ids, train_encodings.attention_mask],\n",
        "                                                  train_labels_b,\n",
        "                                                  validation_data=([valid_encodings.input_ids, valid_encodings.attention_mask],\n",
        "                                                  npvalid_labels),\n",
        "                                                  batch_size=8,\n",
        "                                                  epochs=10,\n",
        "                                                  callbacks=[early_stopping, reduce_lr],\n",
        "                                                  sample_weight=sample_weights\n",
        "                                                  )"
      ],
      "metadata": {
        "colab": {
          "base_uri": "https://localhost:8080/"
        },
        "id": "Aa161H1ZYVbU",
        "outputId": "6fe84c49-7320-4bce-86c2-70dac3caabbf"
      },
      "execution_count": 52,
      "outputs": [
        {
          "output_type": "stream",
          "name": "stdout",
          "text": [
            "Epoch 1/10\n"
          ]
        },
        {
          "output_type": "stream",
          "name": "stderr",
          "text": [
            "WARNING:tensorflow:Gradients do not exist for variables ['tf_bert_model_8/bert/pooler/dense/kernel:0', 'tf_bert_model_8/bert/pooler/dense/bias:0'] when minimizing the loss. If you're using `model.compile()`, did you forget to provide a `loss` argument?\n",
            "WARNING:tensorflow:Gradients do not exist for variables ['tf_bert_model_8/bert/pooler/dense/kernel:0', 'tf_bert_model_8/bert/pooler/dense/bias:0'] when minimizing the loss. If you're using `model.compile()`, did you forget to provide a `loss` argument?\n",
            "WARNING:tensorflow:Gradients do not exist for variables ['tf_bert_model_8/bert/pooler/dense/kernel:0', 'tf_bert_model_8/bert/pooler/dense/bias:0'] when minimizing the loss. If you're using `model.compile()`, did you forget to provide a `loss` argument?\n",
            "WARNING:tensorflow:Gradients do not exist for variables ['tf_bert_model_8/bert/pooler/dense/kernel:0', 'tf_bert_model_8/bert/pooler/dense/bias:0'] when minimizing the loss. If you're using `model.compile()`, did you forget to provide a `loss` argument?\n"
          ]
        },
        {
          "output_type": "stream",
          "name": "stdout",
          "text": [
            "87/87 [==============================] - 85s 467ms/step - loss: 3.5713 - accuracy: 0.1732 - categorical_accuracy: 0.1732 - val_loss: 1.4245 - val_accuracy: 0.1494 - val_categorical_accuracy: 0.1494 - lr: 5.0000e-05\n",
            "Epoch 2/10\n",
            "87/87 [==============================] - 34s 389ms/step - loss: 2.9189 - accuracy: 0.2352 - categorical_accuracy: 0.2352 - val_loss: 1.5092 - val_accuracy: 0.1264 - val_categorical_accuracy: 0.1264 - lr: 5.0000e-05\n",
            "Epoch 3/10\n",
            "87/87 [==============================] - 34s 396ms/step - loss: 3.6338 - accuracy: 0.1818 - categorical_accuracy: 0.1818 - val_loss: 1.4124 - val_accuracy: 0.1379 - val_categorical_accuracy: 0.1379 - lr: 5.0000e-05\n",
            "Epoch 4/10\n",
            "87/87 [==============================] - 37s 429ms/step - loss: 2.3898 - accuracy: 0.2828 - categorical_accuracy: 0.2828 - val_loss: 1.2824 - val_accuracy: 0.4483 - val_categorical_accuracy: 0.4483 - lr: 5.0000e-05\n",
            "Epoch 5/10\n",
            "87/87 [==============================] - 36s 418ms/step - loss: 2.3753 - accuracy: 0.4574 - categorical_accuracy: 0.4574 - val_loss: 1.2892 - val_accuracy: 0.5632 - val_categorical_accuracy: 0.5632 - lr: 5.0000e-05\n",
            "Epoch 6/10\n",
            "87/87 [==============================] - 37s 422ms/step - loss: 2.7736 - accuracy: 0.5498 - categorical_accuracy: 0.5498 - val_loss: 1.4626 - val_accuracy: 0.1782 - val_categorical_accuracy: 0.1782 - lr: 5.0000e-05\n",
            "Epoch 7/10\n",
            "87/87 [==============================] - 37s 425ms/step - loss: 2.0594 - accuracy: 0.3247 - categorical_accuracy: 0.3247 - val_loss: 1.3501 - val_accuracy: 0.3448 - val_categorical_accuracy: 0.3448 - lr: 1.0000e-05\n"
          ]
        }
      ]
    },
    {
      "cell_type": "code",
      "source": [
        "#eval b=8 e=1 dim=201\n",
        "score = pooler_bert_model6.evaluate([test_encodings.input_ids,\n",
        "                                    # valid_encodings.token_type_ids,\n",
        "                                    test_encodings.attention_mask],\n",
        "                                                  test_labels_b)\n",
        "\n",
        "print('Test loss:', score[0])\n",
        "print('Test accuracy:', score[1])"
      ],
      "metadata": {
        "id": "0HcYniwcYYps",
        "colab": {
          "base_uri": "https://localhost:8080/"
        },
        "outputId": "51d4924f-1333-4060-bf2e-fb3b6f62e471"
      },
      "execution_count": 53,
      "outputs": [
        {
          "output_type": "stream",
          "name": "stdout",
          "text": [
            "7/7 [==============================] - 6s 376ms/step - loss: 1.3245 - accuracy: 0.3050 - categorical_accuracy: 0.3050\n",
            "Test loss: 1.3244863748550415\n",
            "Test accuracy: 0.3050000071525574\n"
          ]
        }
      ]
    },
    {
      "cell_type": "code",
      "source": [
        "predictions_model6 = pooler_bert_model6.predict([test_encodings.input_ids,\n",
        "                                                # valid_encodings.token_type_ids,\n",
        "                                                test_encodings.attention_mask])"
      ],
      "metadata": {
        "id": "SKYNPn7DYaxz",
        "colab": {
          "base_uri": "https://localhost:8080/"
        },
        "outputId": "097edfa4-192c-4d2e-d3a3-9c09abc18046"
      },
      "execution_count": 54,
      "outputs": [
        {
          "output_type": "stream",
          "name": "stdout",
          "text": [
            "7/7 [==============================] - 6s 371ms/step\n"
          ]
        }
      ]
    },
    {
      "cell_type": "code",
      "source": [
        "preds = (predictions_model6 > (1/5)).astype(int)\n",
        "print(classification_report(test_labels_b, preds, target_names=target_names, zero_division=0))\n"
      ],
      "metadata": {
        "id": "RYjIJB_hYd7e",
        "colab": {
          "base_uri": "https://localhost:8080/"
        },
        "outputId": "d3bebd25-cfdf-4e19-9d9d-0005ce034600"
      },
      "execution_count": 55,
      "outputs": [
        {
          "output_type": "stream",
          "name": "stdout",
          "text": [
            "                     precision    recall  f1-score   support\n",
            "\n",
            "            sarcasm       0.94      0.94      0.94       180\n",
            "              irony       0.10      1.00      0.18        20\n",
            "             satire       0.33      0.84      0.47        49\n",
            "     understatement       0.00      0.00      0.00         1\n",
            "      overstatement       0.00      0.00      0.00        10\n",
            "rhetorical_question       0.30      0.82      0.44        11\n",
            "\n",
            "          micro avg       0.42      0.89      0.57       271\n",
            "          macro avg       0.28      0.60      0.34       271\n",
            "       weighted avg       0.70      0.89      0.74       271\n",
            "        samples avg       0.43      0.91      0.57       271\n",
            "\n"
          ]
        }
      ]
    },
    {
      "cell_type": "code",
      "source": [
        "# original class weights\n",
        "def get_class_weights(y_true):\n",
        "    class_weights = {}\n",
        "    for i in range(y_true.shape[1]):\n",
        "        class_labels = np.unique(y_true[:, i])\n",
        "        class_weights[i] = compute_class_weight('balanced', classes=class_labels, y=y_true[:, i])\n",
        "    return class_weights\n",
        "\n",
        "class_weights = get_class_weights(train_labels_b)\n",
        "# print(class_weights)\n",
        "\n",
        "# print(sample_weights)\n",
        "# class_weights[2] = np.array([1,17.325]) # don't use\n",
        "# class_weights[3] = np.array([3, 49.5])\n",
        "# class_weights[4] = np.array([1, 4.125])\n",
        "\n",
        "sample_weights = np.ones(train_labels_b.shape[0])\n",
        "for i in range(train_labels_b.shape[1]):\n",
        "    sample_weights *= np.where(train_labels_b[:, i] == 1, class_weights[i][1], class_weights[i][0])\n",
        "\n",
        "class_weights"
      ],
      "metadata": {
        "colab": {
          "base_uri": "https://localhost:8080/"
        },
        "id": "4HkUeoqbRb0t",
        "outputId": "3119bd53-b65c-4e08-d06b-a3a09b289657"
      },
      "execution_count": 56,
      "outputs": [
        {
          "output_type": "execute_result",
          "data": {
            "text/plain": [
              "{0: array([2.70703125, 0.61327434]),\n",
              " 1: array([0.6143617 , 2.68604651]),\n",
              " 2: array([ 0.51485884, 17.325     ]),\n",
              " 3: array([ 0.50510204, 49.5       ]),\n",
              " 4: array([ 0.5234139 , 11.17741935]),\n",
              " 5: array([0.56896552, 4.125     ])}"
            ]
          },
          "metadata": {},
          "execution_count": 56
        }
      ]
    },
    {
      "cell_type": "code",
      "source": [
        "pooler_bert_model6 = create_bert_multiclass_model(checkpoint=model_checkpoint, num_classes=6)\n",
        "pooler_bert_model6.summary()"
      ],
      "metadata": {
        "colab": {
          "base_uri": "https://localhost:8080/"
        },
        "id": "C2Va3FfqRe5j",
        "outputId": "a8eecb17-05ce-469a-d435-165a8d0f8086"
      },
      "execution_count": 57,
      "outputs": [
        {
          "output_type": "stream",
          "name": "stdout",
          "text": [
            "Model: \"model_8\"\n",
            "__________________________________________________________________________________________________\n",
            " Layer (type)                Output Shape                 Param #   Connected to                  \n",
            "==================================================================================================\n",
            " input_ids (InputLayer)      [(None, 200)]                0         []                            \n",
            "                                                                                                  \n",
            " attention_mask (InputLayer  [(None, 200)]                0         []                            \n",
            " )                                                                                                \n",
            "                                                                                                  \n",
            " tf_bert_model_9 (TFBertMod  TFBaseModelOutputWithPooli   1083102   ['input_ids[0][0]',           \n",
            " el)                         ngAndCrossAttentions(last_   72         'attention_mask[0][0]']      \n",
            "                             hidden_state=(None, 200, 7                                           \n",
            "                             68),                                                                 \n",
            "                              pooler_output=(None, 768)                                           \n",
            "                             , past_key_values=None, hi                                           \n",
            "                             dden_states=None, attentio                                           \n",
            "                             ns=None, cross_attentions=                                           \n",
            "                             None)                                                                \n",
            "                                                                                                  \n",
            " tf.math.reduce_mean_4 (TFO  (None, 768)                  0         ['tf_bert_model_9[0][0]']     \n",
            " pLambda)                                                                                         \n",
            "                                                                                                  \n",
            " dense_4 (Dense)             (None, 50)                   38450     ['tf.math.reduce_mean_4[0][0]'\n",
            "                                                                    ]                             \n",
            "                                                                                                  \n",
            " dropout_378 (Dropout)       (None, 50)                   0         ['dense_4[0][0]']             \n",
            "                                                                                                  \n",
            " dense_5 (Dense)             (None, 6)                    306       ['dropout_378[0][0]']         \n",
            "                                                                                                  \n",
            "==================================================================================================\n",
            "Total params: 108349028 (413.32 MB)\n",
            "Trainable params: 108349028 (413.32 MB)\n",
            "Non-trainable params: 0 (0.00 Byte)\n",
            "__________________________________________________________________________________________________\n"
          ]
        }
      ]
    },
    {
      "cell_type": "code",
      "source": [
        "early_stopping = EarlyStopping(monitor='val_loss', patience=3, restore_best_weights=True)\n",
        "reduce_lr = ReduceLROnPlateau(monitor='val_loss', factor=0.2, patience=2, min_lr=1e-6)\n",
        "\n",
        "pooler_bert_model_history6 = pooler_bert_model6.fit([train_encodings.input_ids, train_encodings.attention_mask],\n",
        "                                                  train_labels_b,\n",
        "                                                  validation_data=([valid_encodings.input_ids, valid_encodings.attention_mask],\n",
        "                                                  npvalid_labels),\n",
        "                                                  batch_size=8,\n",
        "                                                  epochs=10,\n",
        "                                                  callbacks=[early_stopping, reduce_lr],\n",
        "                                                  sample_weight=sample_weights\n",
        "                                                  )"
      ],
      "metadata": {
        "colab": {
          "base_uri": "https://localhost:8080/"
        },
        "id": "8pDqNUuDRgpk",
        "outputId": "abb2ce5c-8b4a-4721-fad4-8795e7975943"
      },
      "execution_count": 58,
      "outputs": [
        {
          "output_type": "stream",
          "name": "stdout",
          "text": [
            "Epoch 1/10\n"
          ]
        },
        {
          "output_type": "stream",
          "name": "stderr",
          "text": [
            "WARNING:tensorflow:Gradients do not exist for variables ['tf_bert_model_9/bert/pooler/dense/kernel:0', 'tf_bert_model_9/bert/pooler/dense/bias:0'] when minimizing the loss. If you're using `model.compile()`, did you forget to provide a `loss` argument?\n",
            "WARNING:tensorflow:Gradients do not exist for variables ['tf_bert_model_9/bert/pooler/dense/kernel:0', 'tf_bert_model_9/bert/pooler/dense/bias:0'] when minimizing the loss. If you're using `model.compile()`, did you forget to provide a `loss` argument?\n",
            "WARNING:tensorflow:Gradients do not exist for variables ['tf_bert_model_9/bert/pooler/dense/kernel:0', 'tf_bert_model_9/bert/pooler/dense/bias:0'] when minimizing the loss. If you're using `model.compile()`, did you forget to provide a `loss` argument?\n",
            "WARNING:tensorflow:Gradients do not exist for variables ['tf_bert_model_9/bert/pooler/dense/kernel:0', 'tf_bert_model_9/bert/pooler/dense/bias:0'] when minimizing the loss. If you're using `model.compile()`, did you forget to provide a `loss` argument?\n"
          ]
        },
        {
          "output_type": "stream",
          "name": "stdout",
          "text": [
            "87/87 [==============================] - 85s 461ms/step - loss: 1.7933 - accuracy: 0.1833 - categorical_accuracy: 0.1833 - val_loss: 1.3449 - val_accuracy: 0.2299 - val_categorical_accuracy: 0.2299 - lr: 5.0000e-05\n",
            "Epoch 2/10\n",
            "87/87 [==============================] - 34s 393ms/step - loss: 1.3708 - accuracy: 0.2424 - categorical_accuracy: 0.2424 - val_loss: 1.6968 - val_accuracy: 0.1494 - val_categorical_accuracy: 0.1494 - lr: 5.0000e-05\n",
            "Epoch 3/10\n",
            "87/87 [==============================] - 35s 398ms/step - loss: 1.6095 - accuracy: 0.1861 - categorical_accuracy: 0.1861 - val_loss: 1.3176 - val_accuracy: 0.1954 - val_categorical_accuracy: 0.1954 - lr: 5.0000e-05\n",
            "Epoch 4/10\n",
            "87/87 [==============================] - 37s 420ms/step - loss: 1.3127 - accuracy: 0.2208 - categorical_accuracy: 0.2208 - val_loss: 1.7987 - val_accuracy: 0.1494 - val_categorical_accuracy: 0.1494 - lr: 5.0000e-05\n",
            "Epoch 5/10\n",
            "87/87 [==============================] - 39s 454ms/step - loss: 1.2800 - accuracy: 0.1746 - categorical_accuracy: 0.1746 - val_loss: 1.3022 - val_accuracy: 0.1494 - val_categorical_accuracy: 0.1494 - lr: 5.0000e-05\n",
            "Epoch 6/10\n",
            "87/87 [==============================] - 37s 426ms/step - loss: 1.3525 - accuracy: 0.2179 - categorical_accuracy: 0.2179 - val_loss: 1.4518 - val_accuracy: 0.1494 - val_categorical_accuracy: 0.1494 - lr: 5.0000e-05\n",
            "Epoch 7/10\n",
            "87/87 [==============================] - 35s 403ms/step - loss: 1.2422 - accuracy: 0.1760 - categorical_accuracy: 0.1760 - val_loss: 1.3316 - val_accuracy: 0.1494 - val_categorical_accuracy: 0.1494 - lr: 5.0000e-05\n",
            "Epoch 8/10\n",
            "87/87 [==============================] - 41s 469ms/step - loss: 1.2609 - accuracy: 0.1775 - categorical_accuracy: 0.1775 - val_loss: 1.3943 - val_accuracy: 0.1494 - val_categorical_accuracy: 0.1494 - lr: 1.0000e-05\n"
          ]
        }
      ]
    },
    {
      "cell_type": "code",
      "source": [
        "#eval b=8 e=1 dim=201\n",
        "score = pooler_bert_model6.evaluate([test_encodings.input_ids,\n",
        "                                    # valid_encodings.token_type_ids,\n",
        "                                    test_encodings.attention_mask],\n",
        "                                                  test_labels_b)\n",
        "\n",
        "print('Test loss:', score[0])\n",
        "print('Test accuracy:', score[1])"
      ],
      "metadata": {
        "colab": {
          "base_uri": "https://localhost:8080/"
        },
        "id": "XLKP6mlXRmTy",
        "outputId": "8861ebd7-4a24-4526-efae-6c12519dd9b4"
      },
      "execution_count": 59,
      "outputs": [
        {
          "output_type": "stream",
          "name": "stdout",
          "text": [
            "7/7 [==============================] - 12s 394ms/step - loss: 1.3221 - accuracy: 0.1000 - categorical_accuracy: 0.1000\n",
            "Test loss: 1.3220710754394531\n",
            "Test accuracy: 0.10000000149011612\n"
          ]
        }
      ]
    },
    {
      "cell_type": "code",
      "source": [
        "predictions_model6 = pooler_bert_model6.predict([test_encodings.input_ids,\n",
        "                                                # valid_encodings.token_type_ids,\n",
        "                                                test_encodings.attention_mask])"
      ],
      "metadata": {
        "colab": {
          "base_uri": "https://localhost:8080/"
        },
        "id": "fCqHdm5gRneA",
        "outputId": "f80d926c-bdd3-44c3-b301-4131e7aa8992"
      },
      "execution_count": 60,
      "outputs": [
        {
          "output_type": "stream",
          "name": "stdout",
          "text": [
            "7/7 [==============================] - 12s 396ms/step\n"
          ]
        }
      ]
    },
    {
      "cell_type": "code",
      "source": [
        "preds = (predictions_model6 > (1/5)).astype(int)\n",
        "print(classification_report(test_labels_b, preds, target_names=target_names, zero_division=0))\n"
      ],
      "metadata": {
        "colab": {
          "base_uri": "https://localhost:8080/"
        },
        "id": "eI3E2kOiRo1Y",
        "outputId": "afce97ba-a40f-49ae-9ac5-9ec12eb296d8"
      },
      "execution_count": 61,
      "outputs": [
        {
          "output_type": "stream",
          "name": "stdout",
          "text": [
            "                     precision    recall  f1-score   support\n",
            "\n",
            "            sarcasm       0.90      0.89      0.89       180\n",
            "              irony       0.10      1.00      0.18        20\n",
            "             satire       0.26      0.92      0.41        49\n",
            "     understatement       0.01      1.00      0.01         1\n",
            "      overstatement       0.05      1.00      0.10        10\n",
            "rhetorical_question       0.06      0.82      0.11        11\n",
            "\n",
            "          micro avg       0.22      0.90      0.36       271\n",
            "          macro avg       0.23      0.94      0.28       271\n",
            "       weighted avg       0.66      0.90      0.69       271\n",
            "        samples avg       0.21      0.90      0.34       271\n",
            "\n"
          ]
        }
      ]
    }
  ]
}